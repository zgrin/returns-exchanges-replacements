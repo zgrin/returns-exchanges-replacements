{
 "cells": [
  {
   "cell_type": "code",
   "execution_count": 1,
   "metadata": {},
   "outputs": [],
   "source": [
    "import pandas as pd\n",
    "import sqlalchemy as sa\n",
    "from redshift_credentials import database, username, password, host, port, schema\n",
    "from sqlalchemy.orm import sessionmaker\n",
    "import itertools\n",
    "import pygsheets as pygs\n",
    "from datetime import timedelta\n",
    "from pandas.tseries.offsets import MonthEnd"
   ]
  },
  {
   "cell_type": "code",
   "execution_count": 2,
   "metadata": {},
   "outputs": [],
   "source": [
    "def sql_con(in_username, in_password, in_host, in_port, in_database, in_schema):\n",
    "    '''Create connection function'''\n",
    "    connection = \"redshift+psycopg2://%s:%s@%s:%s/%s\" % (in_username, in_password, in_host, str(in_port), in_database)\n",
    "    engine = sa.create_engine(connection)\n",
    "    session = sessionmaker()\n",
    "    session.configure(bind=engine)\n",
    "    s = session()\n",
    "    setpath = \"SET search_path TO %s\" % in_schema\n",
    "    s.execute(setpath)\n",
    "    return engine"
   ]
  },
  {
   "cell_type": "code",
   "execution_count": 3,
   "metadata": {},
   "outputs": [],
   "source": [
    "g_drive_cred = r'C:\\Users\\darius kay\\Dev\\gitlab\\test\\python\\credentials.json'\n",
    "workbook = \"https://docs.google.com/spreadsheets/d/1Y6D0-TRXMT3gwN3HITouUmMJrhUPqItTykXcCFfU23I/edit#gid=1763802414\"\n",
    "\n",
    "def clear_data_range(workbook_name, tab_name, data_range):\n",
    "    start_end = str(data_range).split(':')\n",
    "    start = start_end[0]\n",
    "    print(start)\n",
    "    end = start_end[1]\n",
    "    print(end)\n",
    "    print(g_drive_cred)\n",
    "    # authorization\n",
    "    gc = pygs.authorize(client_secret=g_drive_cred)\n",
    "    # open the google spreadsheet\n",
    "    ws = gc.open_by_url(workbook_name)\n",
    "    # select the first sheet\n",
    "    wks = ws.worksheet_by_title(tab_name)\n",
    "    print(ws.id)\n",
    "    wks.clear(start=start, end=end)\n",
    "    return\n",
    "\n",
    "def pd_to_gsheets(workbook_name, sheet_name, df, row_num, col_num):\n",
    "    # authorization\n",
    "    gc = pygs.authorize(client_secret=g_drive_cred)\n",
    "\n",
    "    # open the google spreadsheet\n",
    "    ws = gc.open_by_url(workbook_name)\n",
    "\n",
    "    # select the first sheet\n",
    "    wks = ws.worksheet_by_title(sheet_name)\n",
    "\n",
    "    # update the designated sheet with df, starting at cell B2.\n",
    "    wks.set_dataframe(df, (row_num, col_num))\n",
    "\n",
    "    return"
   ]
  },
  {
   "cell_type": "code",
   "execution_count": 4,
   "metadata": {},
   "outputs": [],
   "source": [
    "def date_checker(view, date, schedule):\n",
    "    if view == 'forecast':\n",
    "        if schedule == 'week':\n",
    "            try:\n",
    "                return date + timedelta(days=21)\n",
    "            except TypeError:\n",
    "                return\n",
    "#         elif schedule == 'month':\n",
    "#             try:\n",
    "#                 return (date + timedelta(days=21)) + MonthEnd(0)\n",
    "#             except TypeError:\n",
    "#                 return\n",
    "    else:\n",
    "        return date"
   ]
  },
  {
   "cell_type": "code",
   "execution_count": 5,
   "metadata": {},
   "outputs": [],
   "source": [
    "# Define connection.\n",
    "conn = sql_con(username, password, host, port, database, schema)"
   ]
  },
  {
   "cell_type": "code",
   "execution_count": 32,
   "metadata": {},
   "outputs": [],
   "source": [
    "# Primary weekly forecast query.\n",
    "weekly_forecast_query = \"SELECT fulfillment_week_ended week_ended, %s, %s qty_returned, COUNT(*) qty_sold, %s * 1.0 / COUNT(*) rate FROM product_pull.ret_exch_rep_data_final GROUP BY 1%s HAVING DATE_PART('year', fulfillment_week_ended) >= 2020 ORDER BY 1 DESC\"\n",
    "\n",
    "# Actual weekly primary query.\n",
    "weekly_actual_query = \"SELECT fulfillment_week_ended week_ended, %s, %s qty_returned, COUNT(*) qty_sold, %s * 1.0 / COUNT(*) rate FROM product_pull.ret_exch_rep_data_final GROUP BY 1%s HAVING DATE_PART('year', fulfillment_week_ended) >= 2020 ORDER BY 1 DESC\""
   ]
  },
  {
   "cell_type": "code",
   "execution_count": 33,
   "metadata": {},
   "outputs": [],
   "source": [
    "# Monthly actual primary query.\n",
    "monthly_actual_query = \"SELECT fulfillment_month_ended month_ended, %s, %s qty_returned, COUNT(*) qty_sold, %s * 1.0 / COUNT(*) rate FROM product_pull.ret_exch_rep_data_final GROUP BY 1%s HAVING DATE_PART('year', fulfillment_month_ended) >= 2020 ORDER BY 1 DESC\"\n",
    "\n",
    "# Primary monthly forecast query.\n",
    "monthly_forecast_query = \"SELECT LAST_DAY(fulfillment_week_ended + 21) month_ended, %s, %s qty_returned, COUNT(*) qty_sold, %s * 1.0 / COUNT(*) rate FROM product_pull.ret_exch_rep_data_final GROUP BY 1%s HAVING DATE_PART('year', LAST_DAY(fulfillment_week_ended + 21)) >= 2020 ORDER BY 1 DESC\""
   ]
  },
  {
   "cell_type": "code",
   "execution_count": 34,
   "metadata": {},
   "outputs": [],
   "source": [
    "# Weekly Forecasted qty returned/exchanged query.\n",
    "weekly_forecast_qty = \"SUM(CASE WHEN send_back__type IN %s AND plant IN %s AND return_created_date <= fulfillment_week_ended+21 THEN 1 ELSE 0 END)\"\n",
    "\n",
    "# Monthly Forecasted qty returned/exchanged query.\n",
    "monthly_forecast_qty = \"SUM(CASE WHEN send_back__type IN %s AND plant IN %s AND return_created_date <= fulfillment_week_ended+21 THEN 1 ELSE 0 END)\"\n",
    "\n",
    "# Actual qty returned/exchanged query.\n",
    "actual_qty = \"SUM(CASE WHEN send_back__type in %s AND plant IN %s THEN 1 ELSE 0 END)\""
   ]
  },
  {
   "cell_type": "code",
   "execution_count": 35,
   "metadata": {},
   "outputs": [],
   "source": [
    "product_categories = \"CASE WHEN shape = 'Rectangle' AND size NOT ILIKE ('%9%x%12%') AND texture = 'Chenille' AND purpose != 'Outdoor' THEN 'rectangular_chenille' WHEN texture = 'Shag' THEN 'shag' WHEN shape = 'Round' THEN 'round' WHEN purpose = 'Outdoor' THEN 'outdoor' WHEN texture = 'Plush' THEN 'plush' WHEN size ILIKE ('%9%x%12%') THEN '9x12' WHEN texture = 'Rubber' AND product_sub_type = 'classic' THEN 'classic_rug_pad' WHEN texture = 'Rubber' AND product_sub_type = 'cushioned' THEN 'cushioned_rug_pad' END product\"\n",
    "\n",
    "# Edit for cushion only non-cover.\n",
    "product_cushioned = \"CASE WHEN product_sub_type = 'cushioned' THEN 'cushioned' WHEN product_sub_type = 'classic' THEN 'classic' END product\""
   ]
  },
  {
   "cell_type": "code",
   "execution_count": 36,
   "metadata": {},
   "outputs": [],
   "source": [
    "sizes = \"CASE WHEN size ILIKE '%3%x%5%' THEN '3x5' WHEN size ILIKE '%8%r%' THEN '8-Round' WHEN size ILIKE '%6%r%' THEN '6-Round' WHEN size ILIKE '%2.5%x%10%' THEN '2.5x10' WHEN size ILIKE '%9%x%12%' THEN '9x12' WHEN size ILIKE '%8%x%10%' THEN '8x10' WHEN size ILIKE '%5%x%7%' THEN '5x7' WHEN size ILIKE '%2.5%x%7%' THEN '2.5x7' WHEN size ILIKE '%6%x%9%' THEN '6x9' END size\""
   ]
  },
  {
   "cell_type": "code",
   "execution_count": 38,
   "metadata": {},
   "outputs": [],
   "source": [
    "query_params = {\n",
    "#     'send_back_product_weekly': {'view': {'actual': [weekly_actual_query, actual_qty], 'forecast': [weekly_forecast_query, weekly_forecast_qty]},\n",
    "#                               'product': {'all': \"'all' product\", 'categories': product_categories, 'cushioned': product_cushioned},\n",
    "#                               'send_back__type': {'send_back_both': \"('return', 'exchange')\",\n",
    "#                                                   'return': \"('return')\", 'exchange': \"('exchange')\"},\n",
    "#                                 'plant': {'all': \"('LA', 'CHI', 'N/A')\", 'LA': \"('LA')\", 'CHI': \"('CHI')\", 'N/A': \"('N/A')\"}},\n",
    "#     'send_back_product_monthly': {'view': {'actual': [monthly_actual_query, actual_qty], 'forecast': [monthly_forecast_query, monthly_forecast_qty]},\n",
    "#                           'product': {'all': \"'all' product\", 'categories': product_categories, 'cushioned': product_cushioned},\n",
    "#                           'send_back__type': {'send_back_both': \"('return', 'exchange')\",\n",
    "#                                               'return': \"('return')\", 'exchange': \"('exchange')\"},\n",
    "#                             'plant': {'all': \"('LA', 'CHI', 'N/A')\", 'LA': \"('LA')\", 'CHI': \"('CHI')\", 'N/A': \"('N/A')\"}},\n",
    "#     'send_back_product_size_weekly': {'view': {'actual': [weekly_actual_query, actual_qty], 'forecast': [weekly_forecast_query, weekly_forecast_qty]},\n",
    "#                               'product': {'all': \"'all' product\", 'categories': product_categories, 'cushioned': product_cushioned},\n",
    "#                               'send_back__type': {'send_back_both': \"('return', 'exchange')\",\n",
    "#                                                   'return': \"('return')\", 'exchange': \"('exchange')\"},\n",
    "#                                 'plant': {'all': \"('LA', 'CHI', 'N/A')\", 'LA': \"('LA')\", 'CHI': \"('CHI')\", 'N/A': \"('N/A')\"},\n",
    "#                                 'size': {'all': \"'all' size\", 'size_categories': sizes}},\n",
    "    'send_back_product_size_monthly': {'view': {'actual': [weekly_actual_query, actual_qty], 'forecast': [weekly_forecast_query, weekly_forecast_qty]},\n",
    "                              'product': {'all': \"'all' product\", 'categories': product_categories, 'cushioned': product_cushioned},\n",
    "                              'send_back__type': {'send_back_both': \"('return', 'exchange')\",\n",
    "                                                  'return': \"('return')\", 'exchange': \"('exchange')\"},\n",
    "                                'plant': {'all': \"('LA', 'CHI', 'N/A')\", 'LA': \"('LA')\", 'CHI': \"('CHI')\", 'N/A': \"('N/A')\"},\n",
    "                                'size': {'all': \"'all' size\", 'size_categories': sizes}}\n",
    "}"
   ]
  },
  {
   "cell_type": "code",
   "execution_count": 44,
   "metadata": {},
   "outputs": [
    {
     "name": "stdout",
     "output_type": "stream",
     "text": [
      "SELECT fulfillment_week_ended week_ended, 'actual' AS view, 'all' product, 'send_back_both' send_back__type, 'all' plant, 'all' size, SUM(CASE WHEN send_back__type in ('return', 'exchange') AND plant IN ('LA', 'CHI', 'N/A') THEN 1 ELSE 0 END) qty_returned, COUNT(*) qty_sold, SUM(CASE WHEN send_back__type in ('return', 'exchange') AND plant IN ('LA', 'CHI', 'N/A') THEN 1 ELSE 0 END) * 1.0 / COUNT(*) rate FROM product_pull.ret_exch_rep_data_final GROUP BY 1, 2, 3, 4, 5, 6 HAVING DATE_PART('year', fulfillment_week_ended) >= 2020 ORDER BY 1 DESC\n",
      "SELECT fulfillment_week_ended week_ended, 'actual' AS view, 'all' product, 'send_back_both' send_back__type, 'all' plant, CASE WHEN size ILIKE '%3%x%5%' THEN '3x5' WHEN size ILIKE '%8%r%' THEN '8-Round' WHEN size ILIKE '%6%r%' THEN '6-Round' WHEN size ILIKE '%2.5%x%10%' THEN '2.5x10' WHEN size ILIKE '%9%x%12%' THEN '9x12' WHEN size ILIKE '%8%x%10%' THEN '8x10' WHEN size ILIKE '%5%x%7%' THEN '5x7' WHEN size ILIKE '%2.5%x%7%' THEN '2.5x7' WHEN size ILIKE '%6%x%9%' THEN '6x9' END size, SUM(CASE WHEN send_back__type in ('return', 'exchange') AND plant IN ('LA', 'CHI', 'N/A') THEN 1 ELSE 0 END) qty_returned, COUNT(*) qty_sold, SUM(CASE WHEN send_back__type in ('return', 'exchange') AND plant IN ('LA', 'CHI', 'N/A') THEN 1 ELSE 0 END) * 1.0 / COUNT(*) rate FROM product_pull.ret_exch_rep_data_final GROUP BY 1, 2, 3, 4, 5, 6 HAVING DATE_PART('year', fulfillment_week_ended) >= 2020 ORDER BY 1 DESC\n",
      "SELECT fulfillment_week_ended week_ended, 'actual' AS view, 'all' product, 'send_back_both' send_back__type, 'LA' plant, 'all' size, SUM(CASE WHEN send_back__type in ('return', 'exchange') AND plant IN ('LA') THEN 1 ELSE 0 END) qty_returned, COUNT(*) qty_sold, SUM(CASE WHEN send_back__type in ('return', 'exchange') AND plant IN ('LA') THEN 1 ELSE 0 END) * 1.0 / COUNT(*) rate FROM product_pull.ret_exch_rep_data_final GROUP BY 1, 2, 3, 4, 5, 6 HAVING DATE_PART('year', fulfillment_week_ended) >= 2020 ORDER BY 1 DESC\n",
      "SELECT fulfillment_week_ended week_ended, 'actual' AS view, 'all' product, 'send_back_both' send_back__type, 'LA' plant, CASE WHEN size ILIKE '%3%x%5%' THEN '3x5' WHEN size ILIKE '%8%r%' THEN '8-Round' WHEN size ILIKE '%6%r%' THEN '6-Round' WHEN size ILIKE '%2.5%x%10%' THEN '2.5x10' WHEN size ILIKE '%9%x%12%' THEN '9x12' WHEN size ILIKE '%8%x%10%' THEN '8x10' WHEN size ILIKE '%5%x%7%' THEN '5x7' WHEN size ILIKE '%2.5%x%7%' THEN '2.5x7' WHEN size ILIKE '%6%x%9%' THEN '6x9' END size, SUM(CASE WHEN send_back__type in ('return', 'exchange') AND plant IN ('LA') THEN 1 ELSE 0 END) qty_returned, COUNT(*) qty_sold, SUM(CASE WHEN send_back__type in ('return', 'exchange') AND plant IN ('LA') THEN 1 ELSE 0 END) * 1.0 / COUNT(*) rate FROM product_pull.ret_exch_rep_data_final GROUP BY 1, 2, 3, 4, 5, 6 HAVING DATE_PART('year', fulfillment_week_ended) >= 2020 ORDER BY 1 DESC\n",
      "SELECT fulfillment_week_ended week_ended, 'actual' AS view, 'all' product, 'send_back_both' send_back__type, 'CHI' plant, 'all' size, SUM(CASE WHEN send_back__type in ('return', 'exchange') AND plant IN ('CHI') THEN 1 ELSE 0 END) qty_returned, COUNT(*) qty_sold, SUM(CASE WHEN send_back__type in ('return', 'exchange') AND plant IN ('CHI') THEN 1 ELSE 0 END) * 1.0 / COUNT(*) rate FROM product_pull.ret_exch_rep_data_final GROUP BY 1, 2, 3, 4, 5, 6 HAVING DATE_PART('year', fulfillment_week_ended) >= 2020 ORDER BY 1 DESC\n",
      "SELECT fulfillment_week_ended week_ended, 'actual' AS view, 'all' product, 'send_back_both' send_back__type, 'CHI' plant, CASE WHEN size ILIKE '%3%x%5%' THEN '3x5' WHEN size ILIKE '%8%r%' THEN '8-Round' WHEN size ILIKE '%6%r%' THEN '6-Round' WHEN size ILIKE '%2.5%x%10%' THEN '2.5x10' WHEN size ILIKE '%9%x%12%' THEN '9x12' WHEN size ILIKE '%8%x%10%' THEN '8x10' WHEN size ILIKE '%5%x%7%' THEN '5x7' WHEN size ILIKE '%2.5%x%7%' THEN '2.5x7' WHEN size ILIKE '%6%x%9%' THEN '6x9' END size, SUM(CASE WHEN send_back__type in ('return', 'exchange') AND plant IN ('CHI') THEN 1 ELSE 0 END) qty_returned, COUNT(*) qty_sold, SUM(CASE WHEN send_back__type in ('return', 'exchange') AND plant IN ('CHI') THEN 1 ELSE 0 END) * 1.0 / COUNT(*) rate FROM product_pull.ret_exch_rep_data_final GROUP BY 1, 2, 3, 4, 5, 6 HAVING DATE_PART('year', fulfillment_week_ended) >= 2020 ORDER BY 1 DESC\n",
      "SELECT fulfillment_week_ended week_ended, 'actual' AS view, 'all' product, 'send_back_both' send_back__type, 'N/A' plant, 'all' size, SUM(CASE WHEN send_back__type in ('return', 'exchange') AND plant IN ('N/A') THEN 1 ELSE 0 END) qty_returned, COUNT(*) qty_sold, SUM(CASE WHEN send_back__type in ('return', 'exchange') AND plant IN ('N/A') THEN 1 ELSE 0 END) * 1.0 / COUNT(*) rate FROM product_pull.ret_exch_rep_data_final GROUP BY 1, 2, 3, 4, 5, 6 HAVING DATE_PART('year', fulfillment_week_ended) >= 2020 ORDER BY 1 DESC\n",
      "SELECT fulfillment_week_ended week_ended, 'actual' AS view, 'all' product, 'send_back_both' send_back__type, 'N/A' plant, CASE WHEN size ILIKE '%3%x%5%' THEN '3x5' WHEN size ILIKE '%8%r%' THEN '8-Round' WHEN size ILIKE '%6%r%' THEN '6-Round' WHEN size ILIKE '%2.5%x%10%' THEN '2.5x10' WHEN size ILIKE '%9%x%12%' THEN '9x12' WHEN size ILIKE '%8%x%10%' THEN '8x10' WHEN size ILIKE '%5%x%7%' THEN '5x7' WHEN size ILIKE '%2.5%x%7%' THEN '2.5x7' WHEN size ILIKE '%6%x%9%' THEN '6x9' END size, SUM(CASE WHEN send_back__type in ('return', 'exchange') AND plant IN ('N/A') THEN 1 ELSE 0 END) qty_returned, COUNT(*) qty_sold, SUM(CASE WHEN send_back__type in ('return', 'exchange') AND plant IN ('N/A') THEN 1 ELSE 0 END) * 1.0 / COUNT(*) rate FROM product_pull.ret_exch_rep_data_final GROUP BY 1, 2, 3, 4, 5, 6 HAVING DATE_PART('year', fulfillment_week_ended) >= 2020 ORDER BY 1 DESC\n",
      "SELECT fulfillment_week_ended week_ended, 'actual' AS view, 'all' product, 'return' send_back__type, 'all' plant, 'all' size, SUM(CASE WHEN send_back__type in ('return') AND plant IN ('LA', 'CHI', 'N/A') THEN 1 ELSE 0 END) qty_returned, COUNT(*) qty_sold, SUM(CASE WHEN send_back__type in ('return') AND plant IN ('LA', 'CHI', 'N/A') THEN 1 ELSE 0 END) * 1.0 / COUNT(*) rate FROM product_pull.ret_exch_rep_data_final GROUP BY 1, 2, 3, 4, 5, 6 HAVING DATE_PART('year', fulfillment_week_ended) >= 2020 ORDER BY 1 DESC\n",
      "SELECT fulfillment_week_ended week_ended, 'actual' AS view, 'all' product, 'return' send_back__type, 'all' plant, CASE WHEN size ILIKE '%3%x%5%' THEN '3x5' WHEN size ILIKE '%8%r%' THEN '8-Round' WHEN size ILIKE '%6%r%' THEN '6-Round' WHEN size ILIKE '%2.5%x%10%' THEN '2.5x10' WHEN size ILIKE '%9%x%12%' THEN '9x12' WHEN size ILIKE '%8%x%10%' THEN '8x10' WHEN size ILIKE '%5%x%7%' THEN '5x7' WHEN size ILIKE '%2.5%x%7%' THEN '2.5x7' WHEN size ILIKE '%6%x%9%' THEN '6x9' END size, SUM(CASE WHEN send_back__type in ('return') AND plant IN ('LA', 'CHI', 'N/A') THEN 1 ELSE 0 END) qty_returned, COUNT(*) qty_sold, SUM(CASE WHEN send_back__type in ('return') AND plant IN ('LA', 'CHI', 'N/A') THEN 1 ELSE 0 END) * 1.0 / COUNT(*) rate FROM product_pull.ret_exch_rep_data_final GROUP BY 1, 2, 3, 4, 5, 6 HAVING DATE_PART('year', fulfillment_week_ended) >= 2020 ORDER BY 1 DESC\n",
      "SELECT fulfillment_week_ended week_ended, 'actual' AS view, 'all' product, 'return' send_back__type, 'LA' plant, 'all' size, SUM(CASE WHEN send_back__type in ('return') AND plant IN ('LA') THEN 1 ELSE 0 END) qty_returned, COUNT(*) qty_sold, SUM(CASE WHEN send_back__type in ('return') AND plant IN ('LA') THEN 1 ELSE 0 END) * 1.0 / COUNT(*) rate FROM product_pull.ret_exch_rep_data_final GROUP BY 1, 2, 3, 4, 5, 6 HAVING DATE_PART('year', fulfillment_week_ended) >= 2020 ORDER BY 1 DESC\n",
      "SELECT fulfillment_week_ended week_ended, 'actual' AS view, 'all' product, 'return' send_back__type, 'LA' plant, CASE WHEN size ILIKE '%3%x%5%' THEN '3x5' WHEN size ILIKE '%8%r%' THEN '8-Round' WHEN size ILIKE '%6%r%' THEN '6-Round' WHEN size ILIKE '%2.5%x%10%' THEN '2.5x10' WHEN size ILIKE '%9%x%12%' THEN '9x12' WHEN size ILIKE '%8%x%10%' THEN '8x10' WHEN size ILIKE '%5%x%7%' THEN '5x7' WHEN size ILIKE '%2.5%x%7%' THEN '2.5x7' WHEN size ILIKE '%6%x%9%' THEN '6x9' END size, SUM(CASE WHEN send_back__type in ('return') AND plant IN ('LA') THEN 1 ELSE 0 END) qty_returned, COUNT(*) qty_sold, SUM(CASE WHEN send_back__type in ('return') AND plant IN ('LA') THEN 1 ELSE 0 END) * 1.0 / COUNT(*) rate FROM product_pull.ret_exch_rep_data_final GROUP BY 1, 2, 3, 4, 5, 6 HAVING DATE_PART('year', fulfillment_week_ended) >= 2020 ORDER BY 1 DESC\n"
     ]
    },
    {
     "name": "stdout",
     "output_type": "stream",
     "text": [
      "SELECT fulfillment_week_ended week_ended, 'actual' AS view, 'all' product, 'return' send_back__type, 'CHI' plant, 'all' size, SUM(CASE WHEN send_back__type in ('return') AND plant IN ('CHI') THEN 1 ELSE 0 END) qty_returned, COUNT(*) qty_sold, SUM(CASE WHEN send_back__type in ('return') AND plant IN ('CHI') THEN 1 ELSE 0 END) * 1.0 / COUNT(*) rate FROM product_pull.ret_exch_rep_data_final GROUP BY 1, 2, 3, 4, 5, 6 HAVING DATE_PART('year', fulfillment_week_ended) >= 2020 ORDER BY 1 DESC\n",
      "SELECT fulfillment_week_ended week_ended, 'actual' AS view, 'all' product, 'return' send_back__type, 'CHI' plant, CASE WHEN size ILIKE '%3%x%5%' THEN '3x5' WHEN size ILIKE '%8%r%' THEN '8-Round' WHEN size ILIKE '%6%r%' THEN '6-Round' WHEN size ILIKE '%2.5%x%10%' THEN '2.5x10' WHEN size ILIKE '%9%x%12%' THEN '9x12' WHEN size ILIKE '%8%x%10%' THEN '8x10' WHEN size ILIKE '%5%x%7%' THEN '5x7' WHEN size ILIKE '%2.5%x%7%' THEN '2.5x7' WHEN size ILIKE '%6%x%9%' THEN '6x9' END size, SUM(CASE WHEN send_back__type in ('return') AND plant IN ('CHI') THEN 1 ELSE 0 END) qty_returned, COUNT(*) qty_sold, SUM(CASE WHEN send_back__type in ('return') AND plant IN ('CHI') THEN 1 ELSE 0 END) * 1.0 / COUNT(*) rate FROM product_pull.ret_exch_rep_data_final GROUP BY 1, 2, 3, 4, 5, 6 HAVING DATE_PART('year', fulfillment_week_ended) >= 2020 ORDER BY 1 DESC\n",
      "SELECT fulfillment_week_ended week_ended, 'actual' AS view, 'all' product, 'return' send_back__type, 'N/A' plant, 'all' size, SUM(CASE WHEN send_back__type in ('return') AND plant IN ('N/A') THEN 1 ELSE 0 END) qty_returned, COUNT(*) qty_sold, SUM(CASE WHEN send_back__type in ('return') AND plant IN ('N/A') THEN 1 ELSE 0 END) * 1.0 / COUNT(*) rate FROM product_pull.ret_exch_rep_data_final GROUP BY 1, 2, 3, 4, 5, 6 HAVING DATE_PART('year', fulfillment_week_ended) >= 2020 ORDER BY 1 DESC\n",
      "SELECT fulfillment_week_ended week_ended, 'actual' AS view, 'all' product, 'return' send_back__type, 'N/A' plant, CASE WHEN size ILIKE '%3%x%5%' THEN '3x5' WHEN size ILIKE '%8%r%' THEN '8-Round' WHEN size ILIKE '%6%r%' THEN '6-Round' WHEN size ILIKE '%2.5%x%10%' THEN '2.5x10' WHEN size ILIKE '%9%x%12%' THEN '9x12' WHEN size ILIKE '%8%x%10%' THEN '8x10' WHEN size ILIKE '%5%x%7%' THEN '5x7' WHEN size ILIKE '%2.5%x%7%' THEN '2.5x7' WHEN size ILIKE '%6%x%9%' THEN '6x9' END size, SUM(CASE WHEN send_back__type in ('return') AND plant IN ('N/A') THEN 1 ELSE 0 END) qty_returned, COUNT(*) qty_sold, SUM(CASE WHEN send_back__type in ('return') AND plant IN ('N/A') THEN 1 ELSE 0 END) * 1.0 / COUNT(*) rate FROM product_pull.ret_exch_rep_data_final GROUP BY 1, 2, 3, 4, 5, 6 HAVING DATE_PART('year', fulfillment_week_ended) >= 2020 ORDER BY 1 DESC\n",
      "SELECT fulfillment_week_ended week_ended, 'actual' AS view, 'all' product, 'exchange' send_back__type, 'all' plant, 'all' size, SUM(CASE WHEN send_back__type in ('exchange') AND plant IN ('LA', 'CHI', 'N/A') THEN 1 ELSE 0 END) qty_returned, COUNT(*) qty_sold, SUM(CASE WHEN send_back__type in ('exchange') AND plant IN ('LA', 'CHI', 'N/A') THEN 1 ELSE 0 END) * 1.0 / COUNT(*) rate FROM product_pull.ret_exch_rep_data_final GROUP BY 1, 2, 3, 4, 5, 6 HAVING DATE_PART('year', fulfillment_week_ended) >= 2020 ORDER BY 1 DESC\n",
      "SELECT fulfillment_week_ended week_ended, 'actual' AS view, 'all' product, 'exchange' send_back__type, 'all' plant, CASE WHEN size ILIKE '%3%x%5%' THEN '3x5' WHEN size ILIKE '%8%r%' THEN '8-Round' WHEN size ILIKE '%6%r%' THEN '6-Round' WHEN size ILIKE '%2.5%x%10%' THEN '2.5x10' WHEN size ILIKE '%9%x%12%' THEN '9x12' WHEN size ILIKE '%8%x%10%' THEN '8x10' WHEN size ILIKE '%5%x%7%' THEN '5x7' WHEN size ILIKE '%2.5%x%7%' THEN '2.5x7' WHEN size ILIKE '%6%x%9%' THEN '6x9' END size, SUM(CASE WHEN send_back__type in ('exchange') AND plant IN ('LA', 'CHI', 'N/A') THEN 1 ELSE 0 END) qty_returned, COUNT(*) qty_sold, SUM(CASE WHEN send_back__type in ('exchange') AND plant IN ('LA', 'CHI', 'N/A') THEN 1 ELSE 0 END) * 1.0 / COUNT(*) rate FROM product_pull.ret_exch_rep_data_final GROUP BY 1, 2, 3, 4, 5, 6 HAVING DATE_PART('year', fulfillment_week_ended) >= 2020 ORDER BY 1 DESC\n",
      "SELECT fulfillment_week_ended week_ended, 'actual' AS view, 'all' product, 'exchange' send_back__type, 'LA' plant, 'all' size, SUM(CASE WHEN send_back__type in ('exchange') AND plant IN ('LA') THEN 1 ELSE 0 END) qty_returned, COUNT(*) qty_sold, SUM(CASE WHEN send_back__type in ('exchange') AND plant IN ('LA') THEN 1 ELSE 0 END) * 1.0 / COUNT(*) rate FROM product_pull.ret_exch_rep_data_final GROUP BY 1, 2, 3, 4, 5, 6 HAVING DATE_PART('year', fulfillment_week_ended) >= 2020 ORDER BY 1 DESC\n",
      "SELECT fulfillment_week_ended week_ended, 'actual' AS view, 'all' product, 'exchange' send_back__type, 'LA' plant, CASE WHEN size ILIKE '%3%x%5%' THEN '3x5' WHEN size ILIKE '%8%r%' THEN '8-Round' WHEN size ILIKE '%6%r%' THEN '6-Round' WHEN size ILIKE '%2.5%x%10%' THEN '2.5x10' WHEN size ILIKE '%9%x%12%' THEN '9x12' WHEN size ILIKE '%8%x%10%' THEN '8x10' WHEN size ILIKE '%5%x%7%' THEN '5x7' WHEN size ILIKE '%2.5%x%7%' THEN '2.5x7' WHEN size ILIKE '%6%x%9%' THEN '6x9' END size, SUM(CASE WHEN send_back__type in ('exchange') AND plant IN ('LA') THEN 1 ELSE 0 END) qty_returned, COUNT(*) qty_sold, SUM(CASE WHEN send_back__type in ('exchange') AND plant IN ('LA') THEN 1 ELSE 0 END) * 1.0 / COUNT(*) rate FROM product_pull.ret_exch_rep_data_final GROUP BY 1, 2, 3, 4, 5, 6 HAVING DATE_PART('year', fulfillment_week_ended) >= 2020 ORDER BY 1 DESC\n",
      "SELECT fulfillment_week_ended week_ended, 'actual' AS view, 'all' product, 'exchange' send_back__type, 'CHI' plant, 'all' size, SUM(CASE WHEN send_back__type in ('exchange') AND plant IN ('CHI') THEN 1 ELSE 0 END) qty_returned, COUNT(*) qty_sold, SUM(CASE WHEN send_back__type in ('exchange') AND plant IN ('CHI') THEN 1 ELSE 0 END) * 1.0 / COUNT(*) rate FROM product_pull.ret_exch_rep_data_final GROUP BY 1, 2, 3, 4, 5, 6 HAVING DATE_PART('year', fulfillment_week_ended) >= 2020 ORDER BY 1 DESC\n",
      "SELECT fulfillment_week_ended week_ended, 'actual' AS view, 'all' product, 'exchange' send_back__type, 'CHI' plant, CASE WHEN size ILIKE '%3%x%5%' THEN '3x5' WHEN size ILIKE '%8%r%' THEN '8-Round' WHEN size ILIKE '%6%r%' THEN '6-Round' WHEN size ILIKE '%2.5%x%10%' THEN '2.5x10' WHEN size ILIKE '%9%x%12%' THEN '9x12' WHEN size ILIKE '%8%x%10%' THEN '8x10' WHEN size ILIKE '%5%x%7%' THEN '5x7' WHEN size ILIKE '%2.5%x%7%' THEN '2.5x7' WHEN size ILIKE '%6%x%9%' THEN '6x9' END size, SUM(CASE WHEN send_back__type in ('exchange') AND plant IN ('CHI') THEN 1 ELSE 0 END) qty_returned, COUNT(*) qty_sold, SUM(CASE WHEN send_back__type in ('exchange') AND plant IN ('CHI') THEN 1 ELSE 0 END) * 1.0 / COUNT(*) rate FROM product_pull.ret_exch_rep_data_final GROUP BY 1, 2, 3, 4, 5, 6 HAVING DATE_PART('year', fulfillment_week_ended) >= 2020 ORDER BY 1 DESC\n",
      "SELECT fulfillment_week_ended week_ended, 'actual' AS view, 'all' product, 'exchange' send_back__type, 'N/A' plant, 'all' size, SUM(CASE WHEN send_back__type in ('exchange') AND plant IN ('N/A') THEN 1 ELSE 0 END) qty_returned, COUNT(*) qty_sold, SUM(CASE WHEN send_back__type in ('exchange') AND plant IN ('N/A') THEN 1 ELSE 0 END) * 1.0 / COUNT(*) rate FROM product_pull.ret_exch_rep_data_final GROUP BY 1, 2, 3, 4, 5, 6 HAVING DATE_PART('year', fulfillment_week_ended) >= 2020 ORDER BY 1 DESC\n",
      "SELECT fulfillment_week_ended week_ended, 'actual' AS view, 'all' product, 'exchange' send_back__type, 'N/A' plant, CASE WHEN size ILIKE '%3%x%5%' THEN '3x5' WHEN size ILIKE '%8%r%' THEN '8-Round' WHEN size ILIKE '%6%r%' THEN '6-Round' WHEN size ILIKE '%2.5%x%10%' THEN '2.5x10' WHEN size ILIKE '%9%x%12%' THEN '9x12' WHEN size ILIKE '%8%x%10%' THEN '8x10' WHEN size ILIKE '%5%x%7%' THEN '5x7' WHEN size ILIKE '%2.5%x%7%' THEN '2.5x7' WHEN size ILIKE '%6%x%9%' THEN '6x9' END size, SUM(CASE WHEN send_back__type in ('exchange') AND plant IN ('N/A') THEN 1 ELSE 0 END) qty_returned, COUNT(*) qty_sold, SUM(CASE WHEN send_back__type in ('exchange') AND plant IN ('N/A') THEN 1 ELSE 0 END) * 1.0 / COUNT(*) rate FROM product_pull.ret_exch_rep_data_final GROUP BY 1, 2, 3, 4, 5, 6 HAVING DATE_PART('year', fulfillment_week_ended) >= 2020 ORDER BY 1 DESC\n",
      "SELECT fulfillment_week_ended week_ended, 'actual' AS view, CASE WHEN shape = 'Rectangle' AND size NOT ILIKE ('%9%x%12%') AND texture = 'Chenille' AND purpose != 'Outdoor' THEN 'rectangular_chenille' WHEN texture = 'Shag' THEN 'shag' WHEN shape = 'Round' THEN 'round' WHEN purpose = 'Outdoor' THEN 'outdoor' WHEN texture = 'Plush' THEN 'plush' WHEN size ILIKE ('%9%x%12%') THEN '9x12' WHEN texture = 'Rubber' AND product_sub_type = 'classic' THEN 'classic_rug_pad' WHEN texture = 'Rubber' AND product_sub_type = 'cushioned' THEN 'cushioned_rug_pad' END product, 'send_back_both' send_back__type, 'all' plant, 'all' size, SUM(CASE WHEN send_back__type in ('return', 'exchange') AND plant IN ('LA', 'CHI', 'N/A') THEN 1 ELSE 0 END) qty_returned, COUNT(*) qty_sold, SUM(CASE WHEN send_back__type in ('return', 'exchange') AND plant IN ('LA', 'CHI', 'N/A') THEN 1 ELSE 0 END) * 1.0 / COUNT(*) rate FROM product_pull.ret_exch_rep_data_final GROUP BY 1, 2, 3, 4, 5, 6 HAVING DATE_PART('year', fulfillment_week_ended) >= 2020 ORDER BY 1 DESC\n"
     ]
    },
    {
     "name": "stdout",
     "output_type": "stream",
     "text": [
      "SELECT fulfillment_week_ended week_ended, 'actual' AS view, CASE WHEN shape = 'Rectangle' AND size NOT ILIKE ('%9%x%12%') AND texture = 'Chenille' AND purpose != 'Outdoor' THEN 'rectangular_chenille' WHEN texture = 'Shag' THEN 'shag' WHEN shape = 'Round' THEN 'round' WHEN purpose = 'Outdoor' THEN 'outdoor' WHEN texture = 'Plush' THEN 'plush' WHEN size ILIKE ('%9%x%12%') THEN '9x12' WHEN texture = 'Rubber' AND product_sub_type = 'classic' THEN 'classic_rug_pad' WHEN texture = 'Rubber' AND product_sub_type = 'cushioned' THEN 'cushioned_rug_pad' END product, 'send_back_both' send_back__type, 'all' plant, CASE WHEN size ILIKE '%3%x%5%' THEN '3x5' WHEN size ILIKE '%8%r%' THEN '8-Round' WHEN size ILIKE '%6%r%' THEN '6-Round' WHEN size ILIKE '%2.5%x%10%' THEN '2.5x10' WHEN size ILIKE '%9%x%12%' THEN '9x12' WHEN size ILIKE '%8%x%10%' THEN '8x10' WHEN size ILIKE '%5%x%7%' THEN '5x7' WHEN size ILIKE '%2.5%x%7%' THEN '2.5x7' WHEN size ILIKE '%6%x%9%' THEN '6x9' END size, SUM(CASE WHEN send_back__type in ('return', 'exchange') AND plant IN ('LA', 'CHI', 'N/A') THEN 1 ELSE 0 END) qty_returned, COUNT(*) qty_sold, SUM(CASE WHEN send_back__type in ('return', 'exchange') AND plant IN ('LA', 'CHI', 'N/A') THEN 1 ELSE 0 END) * 1.0 / COUNT(*) rate FROM product_pull.ret_exch_rep_data_final GROUP BY 1, 2, 3, 4, 5, 6 HAVING DATE_PART('year', fulfillment_week_ended) >= 2020 ORDER BY 1 DESC\n",
      "SELECT fulfillment_week_ended week_ended, 'actual' AS view, CASE WHEN shape = 'Rectangle' AND size NOT ILIKE ('%9%x%12%') AND texture = 'Chenille' AND purpose != 'Outdoor' THEN 'rectangular_chenille' WHEN texture = 'Shag' THEN 'shag' WHEN shape = 'Round' THEN 'round' WHEN purpose = 'Outdoor' THEN 'outdoor' WHEN texture = 'Plush' THEN 'plush' WHEN size ILIKE ('%9%x%12%') THEN '9x12' WHEN texture = 'Rubber' AND product_sub_type = 'classic' THEN 'classic_rug_pad' WHEN texture = 'Rubber' AND product_sub_type = 'cushioned' THEN 'cushioned_rug_pad' END product, 'send_back_both' send_back__type, 'LA' plant, 'all' size, SUM(CASE WHEN send_back__type in ('return', 'exchange') AND plant IN ('LA') THEN 1 ELSE 0 END) qty_returned, COUNT(*) qty_sold, SUM(CASE WHEN send_back__type in ('return', 'exchange') AND plant IN ('LA') THEN 1 ELSE 0 END) * 1.0 / COUNT(*) rate FROM product_pull.ret_exch_rep_data_final GROUP BY 1, 2, 3, 4, 5, 6 HAVING DATE_PART('year', fulfillment_week_ended) >= 2020 ORDER BY 1 DESC\n",
      "SELECT fulfillment_week_ended week_ended, 'actual' AS view, CASE WHEN shape = 'Rectangle' AND size NOT ILIKE ('%9%x%12%') AND texture = 'Chenille' AND purpose != 'Outdoor' THEN 'rectangular_chenille' WHEN texture = 'Shag' THEN 'shag' WHEN shape = 'Round' THEN 'round' WHEN purpose = 'Outdoor' THEN 'outdoor' WHEN texture = 'Plush' THEN 'plush' WHEN size ILIKE ('%9%x%12%') THEN '9x12' WHEN texture = 'Rubber' AND product_sub_type = 'classic' THEN 'classic_rug_pad' WHEN texture = 'Rubber' AND product_sub_type = 'cushioned' THEN 'cushioned_rug_pad' END product, 'send_back_both' send_back__type, 'LA' plant, CASE WHEN size ILIKE '%3%x%5%' THEN '3x5' WHEN size ILIKE '%8%r%' THEN '8-Round' WHEN size ILIKE '%6%r%' THEN '6-Round' WHEN size ILIKE '%2.5%x%10%' THEN '2.5x10' WHEN size ILIKE '%9%x%12%' THEN '9x12' WHEN size ILIKE '%8%x%10%' THEN '8x10' WHEN size ILIKE '%5%x%7%' THEN '5x7' WHEN size ILIKE '%2.5%x%7%' THEN '2.5x7' WHEN size ILIKE '%6%x%9%' THEN '6x9' END size, SUM(CASE WHEN send_back__type in ('return', 'exchange') AND plant IN ('LA') THEN 1 ELSE 0 END) qty_returned, COUNT(*) qty_sold, SUM(CASE WHEN send_back__type in ('return', 'exchange') AND plant IN ('LA') THEN 1 ELSE 0 END) * 1.0 / COUNT(*) rate FROM product_pull.ret_exch_rep_data_final GROUP BY 1, 2, 3, 4, 5, 6 HAVING DATE_PART('year', fulfillment_week_ended) >= 2020 ORDER BY 1 DESC\n",
      "SELECT fulfillment_week_ended week_ended, 'actual' AS view, CASE WHEN shape = 'Rectangle' AND size NOT ILIKE ('%9%x%12%') AND texture = 'Chenille' AND purpose != 'Outdoor' THEN 'rectangular_chenille' WHEN texture = 'Shag' THEN 'shag' WHEN shape = 'Round' THEN 'round' WHEN purpose = 'Outdoor' THEN 'outdoor' WHEN texture = 'Plush' THEN 'plush' WHEN size ILIKE ('%9%x%12%') THEN '9x12' WHEN texture = 'Rubber' AND product_sub_type = 'classic' THEN 'classic_rug_pad' WHEN texture = 'Rubber' AND product_sub_type = 'cushioned' THEN 'cushioned_rug_pad' END product, 'send_back_both' send_back__type, 'CHI' plant, 'all' size, SUM(CASE WHEN send_back__type in ('return', 'exchange') AND plant IN ('CHI') THEN 1 ELSE 0 END) qty_returned, COUNT(*) qty_sold, SUM(CASE WHEN send_back__type in ('return', 'exchange') AND plant IN ('CHI') THEN 1 ELSE 0 END) * 1.0 / COUNT(*) rate FROM product_pull.ret_exch_rep_data_final GROUP BY 1, 2, 3, 4, 5, 6 HAVING DATE_PART('year', fulfillment_week_ended) >= 2020 ORDER BY 1 DESC\n",
      "SELECT fulfillment_week_ended week_ended, 'actual' AS view, CASE WHEN shape = 'Rectangle' AND size NOT ILIKE ('%9%x%12%') AND texture = 'Chenille' AND purpose != 'Outdoor' THEN 'rectangular_chenille' WHEN texture = 'Shag' THEN 'shag' WHEN shape = 'Round' THEN 'round' WHEN purpose = 'Outdoor' THEN 'outdoor' WHEN texture = 'Plush' THEN 'plush' WHEN size ILIKE ('%9%x%12%') THEN '9x12' WHEN texture = 'Rubber' AND product_sub_type = 'classic' THEN 'classic_rug_pad' WHEN texture = 'Rubber' AND product_sub_type = 'cushioned' THEN 'cushioned_rug_pad' END product, 'send_back_both' send_back__type, 'CHI' plant, CASE WHEN size ILIKE '%3%x%5%' THEN '3x5' WHEN size ILIKE '%8%r%' THEN '8-Round' WHEN size ILIKE '%6%r%' THEN '6-Round' WHEN size ILIKE '%2.5%x%10%' THEN '2.5x10' WHEN size ILIKE '%9%x%12%' THEN '9x12' WHEN size ILIKE '%8%x%10%' THEN '8x10' WHEN size ILIKE '%5%x%7%' THEN '5x7' WHEN size ILIKE '%2.5%x%7%' THEN '2.5x7' WHEN size ILIKE '%6%x%9%' THEN '6x9' END size, SUM(CASE WHEN send_back__type in ('return', 'exchange') AND plant IN ('CHI') THEN 1 ELSE 0 END) qty_returned, COUNT(*) qty_sold, SUM(CASE WHEN send_back__type in ('return', 'exchange') AND plant IN ('CHI') THEN 1 ELSE 0 END) * 1.0 / COUNT(*) rate FROM product_pull.ret_exch_rep_data_final GROUP BY 1, 2, 3, 4, 5, 6 HAVING DATE_PART('year', fulfillment_week_ended) >= 2020 ORDER BY 1 DESC\n",
      "SELECT fulfillment_week_ended week_ended, 'actual' AS view, CASE WHEN shape = 'Rectangle' AND size NOT ILIKE ('%9%x%12%') AND texture = 'Chenille' AND purpose != 'Outdoor' THEN 'rectangular_chenille' WHEN texture = 'Shag' THEN 'shag' WHEN shape = 'Round' THEN 'round' WHEN purpose = 'Outdoor' THEN 'outdoor' WHEN texture = 'Plush' THEN 'plush' WHEN size ILIKE ('%9%x%12%') THEN '9x12' WHEN texture = 'Rubber' AND product_sub_type = 'classic' THEN 'classic_rug_pad' WHEN texture = 'Rubber' AND product_sub_type = 'cushioned' THEN 'cushioned_rug_pad' END product, 'send_back_both' send_back__type, 'N/A' plant, 'all' size, SUM(CASE WHEN send_back__type in ('return', 'exchange') AND plant IN ('N/A') THEN 1 ELSE 0 END) qty_returned, COUNT(*) qty_sold, SUM(CASE WHEN send_back__type in ('return', 'exchange') AND plant IN ('N/A') THEN 1 ELSE 0 END) * 1.0 / COUNT(*) rate FROM product_pull.ret_exch_rep_data_final GROUP BY 1, 2, 3, 4, 5, 6 HAVING DATE_PART('year', fulfillment_week_ended) >= 2020 ORDER BY 1 DESC\n",
      "SELECT fulfillment_week_ended week_ended, 'actual' AS view, CASE WHEN shape = 'Rectangle' AND size NOT ILIKE ('%9%x%12%') AND texture = 'Chenille' AND purpose != 'Outdoor' THEN 'rectangular_chenille' WHEN texture = 'Shag' THEN 'shag' WHEN shape = 'Round' THEN 'round' WHEN purpose = 'Outdoor' THEN 'outdoor' WHEN texture = 'Plush' THEN 'plush' WHEN size ILIKE ('%9%x%12%') THEN '9x12' WHEN texture = 'Rubber' AND product_sub_type = 'classic' THEN 'classic_rug_pad' WHEN texture = 'Rubber' AND product_sub_type = 'cushioned' THEN 'cushioned_rug_pad' END product, 'send_back_both' send_back__type, 'N/A' plant, CASE WHEN size ILIKE '%3%x%5%' THEN '3x5' WHEN size ILIKE '%8%r%' THEN '8-Round' WHEN size ILIKE '%6%r%' THEN '6-Round' WHEN size ILIKE '%2.5%x%10%' THEN '2.5x10' WHEN size ILIKE '%9%x%12%' THEN '9x12' WHEN size ILIKE '%8%x%10%' THEN '8x10' WHEN size ILIKE '%5%x%7%' THEN '5x7' WHEN size ILIKE '%2.5%x%7%' THEN '2.5x7' WHEN size ILIKE '%6%x%9%' THEN '6x9' END size, SUM(CASE WHEN send_back__type in ('return', 'exchange') AND plant IN ('N/A') THEN 1 ELSE 0 END) qty_returned, COUNT(*) qty_sold, SUM(CASE WHEN send_back__type in ('return', 'exchange') AND plant IN ('N/A') THEN 1 ELSE 0 END) * 1.0 / COUNT(*) rate FROM product_pull.ret_exch_rep_data_final GROUP BY 1, 2, 3, 4, 5, 6 HAVING DATE_PART('year', fulfillment_week_ended) >= 2020 ORDER BY 1 DESC\n"
     ]
    },
    {
     "name": "stdout",
     "output_type": "stream",
     "text": [
      "SELECT fulfillment_week_ended week_ended, 'actual' AS view, CASE WHEN shape = 'Rectangle' AND size NOT ILIKE ('%9%x%12%') AND texture = 'Chenille' AND purpose != 'Outdoor' THEN 'rectangular_chenille' WHEN texture = 'Shag' THEN 'shag' WHEN shape = 'Round' THEN 'round' WHEN purpose = 'Outdoor' THEN 'outdoor' WHEN texture = 'Plush' THEN 'plush' WHEN size ILIKE ('%9%x%12%') THEN '9x12' WHEN texture = 'Rubber' AND product_sub_type = 'classic' THEN 'classic_rug_pad' WHEN texture = 'Rubber' AND product_sub_type = 'cushioned' THEN 'cushioned_rug_pad' END product, 'return' send_back__type, 'all' plant, 'all' size, SUM(CASE WHEN send_back__type in ('return') AND plant IN ('LA', 'CHI', 'N/A') THEN 1 ELSE 0 END) qty_returned, COUNT(*) qty_sold, SUM(CASE WHEN send_back__type in ('return') AND plant IN ('LA', 'CHI', 'N/A') THEN 1 ELSE 0 END) * 1.0 / COUNT(*) rate FROM product_pull.ret_exch_rep_data_final GROUP BY 1, 2, 3, 4, 5, 6 HAVING DATE_PART('year', fulfillment_week_ended) >= 2020 ORDER BY 1 DESC\n",
      "SELECT fulfillment_week_ended week_ended, 'actual' AS view, CASE WHEN shape = 'Rectangle' AND size NOT ILIKE ('%9%x%12%') AND texture = 'Chenille' AND purpose != 'Outdoor' THEN 'rectangular_chenille' WHEN texture = 'Shag' THEN 'shag' WHEN shape = 'Round' THEN 'round' WHEN purpose = 'Outdoor' THEN 'outdoor' WHEN texture = 'Plush' THEN 'plush' WHEN size ILIKE ('%9%x%12%') THEN '9x12' WHEN texture = 'Rubber' AND product_sub_type = 'classic' THEN 'classic_rug_pad' WHEN texture = 'Rubber' AND product_sub_type = 'cushioned' THEN 'cushioned_rug_pad' END product, 'return' send_back__type, 'all' plant, CASE WHEN size ILIKE '%3%x%5%' THEN '3x5' WHEN size ILIKE '%8%r%' THEN '8-Round' WHEN size ILIKE '%6%r%' THEN '6-Round' WHEN size ILIKE '%2.5%x%10%' THEN '2.5x10' WHEN size ILIKE '%9%x%12%' THEN '9x12' WHEN size ILIKE '%8%x%10%' THEN '8x10' WHEN size ILIKE '%5%x%7%' THEN '5x7' WHEN size ILIKE '%2.5%x%7%' THEN '2.5x7' WHEN size ILIKE '%6%x%9%' THEN '6x9' END size, SUM(CASE WHEN send_back__type in ('return') AND plant IN ('LA', 'CHI', 'N/A') THEN 1 ELSE 0 END) qty_returned, COUNT(*) qty_sold, SUM(CASE WHEN send_back__type in ('return') AND plant IN ('LA', 'CHI', 'N/A') THEN 1 ELSE 0 END) * 1.0 / COUNT(*) rate FROM product_pull.ret_exch_rep_data_final GROUP BY 1, 2, 3, 4, 5, 6 HAVING DATE_PART('year', fulfillment_week_ended) >= 2020 ORDER BY 1 DESC\n",
      "SELECT fulfillment_week_ended week_ended, 'actual' AS view, CASE WHEN shape = 'Rectangle' AND size NOT ILIKE ('%9%x%12%') AND texture = 'Chenille' AND purpose != 'Outdoor' THEN 'rectangular_chenille' WHEN texture = 'Shag' THEN 'shag' WHEN shape = 'Round' THEN 'round' WHEN purpose = 'Outdoor' THEN 'outdoor' WHEN texture = 'Plush' THEN 'plush' WHEN size ILIKE ('%9%x%12%') THEN '9x12' WHEN texture = 'Rubber' AND product_sub_type = 'classic' THEN 'classic_rug_pad' WHEN texture = 'Rubber' AND product_sub_type = 'cushioned' THEN 'cushioned_rug_pad' END product, 'return' send_back__type, 'LA' plant, 'all' size, SUM(CASE WHEN send_back__type in ('return') AND plant IN ('LA') THEN 1 ELSE 0 END) qty_returned, COUNT(*) qty_sold, SUM(CASE WHEN send_back__type in ('return') AND plant IN ('LA') THEN 1 ELSE 0 END) * 1.0 / COUNT(*) rate FROM product_pull.ret_exch_rep_data_final GROUP BY 1, 2, 3, 4, 5, 6 HAVING DATE_PART('year', fulfillment_week_ended) >= 2020 ORDER BY 1 DESC\n",
      "SELECT fulfillment_week_ended week_ended, 'actual' AS view, CASE WHEN shape = 'Rectangle' AND size NOT ILIKE ('%9%x%12%') AND texture = 'Chenille' AND purpose != 'Outdoor' THEN 'rectangular_chenille' WHEN texture = 'Shag' THEN 'shag' WHEN shape = 'Round' THEN 'round' WHEN purpose = 'Outdoor' THEN 'outdoor' WHEN texture = 'Plush' THEN 'plush' WHEN size ILIKE ('%9%x%12%') THEN '9x12' WHEN texture = 'Rubber' AND product_sub_type = 'classic' THEN 'classic_rug_pad' WHEN texture = 'Rubber' AND product_sub_type = 'cushioned' THEN 'cushioned_rug_pad' END product, 'return' send_back__type, 'LA' plant, CASE WHEN size ILIKE '%3%x%5%' THEN '3x5' WHEN size ILIKE '%8%r%' THEN '8-Round' WHEN size ILIKE '%6%r%' THEN '6-Round' WHEN size ILIKE '%2.5%x%10%' THEN '2.5x10' WHEN size ILIKE '%9%x%12%' THEN '9x12' WHEN size ILIKE '%8%x%10%' THEN '8x10' WHEN size ILIKE '%5%x%7%' THEN '5x7' WHEN size ILIKE '%2.5%x%7%' THEN '2.5x7' WHEN size ILIKE '%6%x%9%' THEN '6x9' END size, SUM(CASE WHEN send_back__type in ('return') AND plant IN ('LA') THEN 1 ELSE 0 END) qty_returned, COUNT(*) qty_sold, SUM(CASE WHEN send_back__type in ('return') AND plant IN ('LA') THEN 1 ELSE 0 END) * 1.0 / COUNT(*) rate FROM product_pull.ret_exch_rep_data_final GROUP BY 1, 2, 3, 4, 5, 6 HAVING DATE_PART('year', fulfillment_week_ended) >= 2020 ORDER BY 1 DESC\n",
      "SELECT fulfillment_week_ended week_ended, 'actual' AS view, CASE WHEN shape = 'Rectangle' AND size NOT ILIKE ('%9%x%12%') AND texture = 'Chenille' AND purpose != 'Outdoor' THEN 'rectangular_chenille' WHEN texture = 'Shag' THEN 'shag' WHEN shape = 'Round' THEN 'round' WHEN purpose = 'Outdoor' THEN 'outdoor' WHEN texture = 'Plush' THEN 'plush' WHEN size ILIKE ('%9%x%12%') THEN '9x12' WHEN texture = 'Rubber' AND product_sub_type = 'classic' THEN 'classic_rug_pad' WHEN texture = 'Rubber' AND product_sub_type = 'cushioned' THEN 'cushioned_rug_pad' END product, 'return' send_back__type, 'CHI' plant, 'all' size, SUM(CASE WHEN send_back__type in ('return') AND plant IN ('CHI') THEN 1 ELSE 0 END) qty_returned, COUNT(*) qty_sold, SUM(CASE WHEN send_back__type in ('return') AND plant IN ('CHI') THEN 1 ELSE 0 END) * 1.0 / COUNT(*) rate FROM product_pull.ret_exch_rep_data_final GROUP BY 1, 2, 3, 4, 5, 6 HAVING DATE_PART('year', fulfillment_week_ended) >= 2020 ORDER BY 1 DESC\n",
      "SELECT fulfillment_week_ended week_ended, 'actual' AS view, CASE WHEN shape = 'Rectangle' AND size NOT ILIKE ('%9%x%12%') AND texture = 'Chenille' AND purpose != 'Outdoor' THEN 'rectangular_chenille' WHEN texture = 'Shag' THEN 'shag' WHEN shape = 'Round' THEN 'round' WHEN purpose = 'Outdoor' THEN 'outdoor' WHEN texture = 'Plush' THEN 'plush' WHEN size ILIKE ('%9%x%12%') THEN '9x12' WHEN texture = 'Rubber' AND product_sub_type = 'classic' THEN 'classic_rug_pad' WHEN texture = 'Rubber' AND product_sub_type = 'cushioned' THEN 'cushioned_rug_pad' END product, 'return' send_back__type, 'CHI' plant, CASE WHEN size ILIKE '%3%x%5%' THEN '3x5' WHEN size ILIKE '%8%r%' THEN '8-Round' WHEN size ILIKE '%6%r%' THEN '6-Round' WHEN size ILIKE '%2.5%x%10%' THEN '2.5x10' WHEN size ILIKE '%9%x%12%' THEN '9x12' WHEN size ILIKE '%8%x%10%' THEN '8x10' WHEN size ILIKE '%5%x%7%' THEN '5x7' WHEN size ILIKE '%2.5%x%7%' THEN '2.5x7' WHEN size ILIKE '%6%x%9%' THEN '6x9' END size, SUM(CASE WHEN send_back__type in ('return') AND plant IN ('CHI') THEN 1 ELSE 0 END) qty_returned, COUNT(*) qty_sold, SUM(CASE WHEN send_back__type in ('return') AND plant IN ('CHI') THEN 1 ELSE 0 END) * 1.0 / COUNT(*) rate FROM product_pull.ret_exch_rep_data_final GROUP BY 1, 2, 3, 4, 5, 6 HAVING DATE_PART('year', fulfillment_week_ended) >= 2020 ORDER BY 1 DESC\n",
      "SELECT fulfillment_week_ended week_ended, 'actual' AS view, CASE WHEN shape = 'Rectangle' AND size NOT ILIKE ('%9%x%12%') AND texture = 'Chenille' AND purpose != 'Outdoor' THEN 'rectangular_chenille' WHEN texture = 'Shag' THEN 'shag' WHEN shape = 'Round' THEN 'round' WHEN purpose = 'Outdoor' THEN 'outdoor' WHEN texture = 'Plush' THEN 'plush' WHEN size ILIKE ('%9%x%12%') THEN '9x12' WHEN texture = 'Rubber' AND product_sub_type = 'classic' THEN 'classic_rug_pad' WHEN texture = 'Rubber' AND product_sub_type = 'cushioned' THEN 'cushioned_rug_pad' END product, 'return' send_back__type, 'N/A' plant, 'all' size, SUM(CASE WHEN send_back__type in ('return') AND plant IN ('N/A') THEN 1 ELSE 0 END) qty_returned, COUNT(*) qty_sold, SUM(CASE WHEN send_back__type in ('return') AND plant IN ('N/A') THEN 1 ELSE 0 END) * 1.0 / COUNT(*) rate FROM product_pull.ret_exch_rep_data_final GROUP BY 1, 2, 3, 4, 5, 6 HAVING DATE_PART('year', fulfillment_week_ended) >= 2020 ORDER BY 1 DESC\n",
      "SELECT fulfillment_week_ended week_ended, 'actual' AS view, CASE WHEN shape = 'Rectangle' AND size NOT ILIKE ('%9%x%12%') AND texture = 'Chenille' AND purpose != 'Outdoor' THEN 'rectangular_chenille' WHEN texture = 'Shag' THEN 'shag' WHEN shape = 'Round' THEN 'round' WHEN purpose = 'Outdoor' THEN 'outdoor' WHEN texture = 'Plush' THEN 'plush' WHEN size ILIKE ('%9%x%12%') THEN '9x12' WHEN texture = 'Rubber' AND product_sub_type = 'classic' THEN 'classic_rug_pad' WHEN texture = 'Rubber' AND product_sub_type = 'cushioned' THEN 'cushioned_rug_pad' END product, 'return' send_back__type, 'N/A' plant, CASE WHEN size ILIKE '%3%x%5%' THEN '3x5' WHEN size ILIKE '%8%r%' THEN '8-Round' WHEN size ILIKE '%6%r%' THEN '6-Round' WHEN size ILIKE '%2.5%x%10%' THEN '2.5x10' WHEN size ILIKE '%9%x%12%' THEN '9x12' WHEN size ILIKE '%8%x%10%' THEN '8x10' WHEN size ILIKE '%5%x%7%' THEN '5x7' WHEN size ILIKE '%2.5%x%7%' THEN '2.5x7' WHEN size ILIKE '%6%x%9%' THEN '6x9' END size, SUM(CASE WHEN send_back__type in ('return') AND plant IN ('N/A') THEN 1 ELSE 0 END) qty_returned, COUNT(*) qty_sold, SUM(CASE WHEN send_back__type in ('return') AND plant IN ('N/A') THEN 1 ELSE 0 END) * 1.0 / COUNT(*) rate FROM product_pull.ret_exch_rep_data_final GROUP BY 1, 2, 3, 4, 5, 6 HAVING DATE_PART('year', fulfillment_week_ended) >= 2020 ORDER BY 1 DESC\n"
     ]
    },
    {
     "name": "stdout",
     "output_type": "stream",
     "text": [
      "SELECT fulfillment_week_ended week_ended, 'actual' AS view, CASE WHEN shape = 'Rectangle' AND size NOT ILIKE ('%9%x%12%') AND texture = 'Chenille' AND purpose != 'Outdoor' THEN 'rectangular_chenille' WHEN texture = 'Shag' THEN 'shag' WHEN shape = 'Round' THEN 'round' WHEN purpose = 'Outdoor' THEN 'outdoor' WHEN texture = 'Plush' THEN 'plush' WHEN size ILIKE ('%9%x%12%') THEN '9x12' WHEN texture = 'Rubber' AND product_sub_type = 'classic' THEN 'classic_rug_pad' WHEN texture = 'Rubber' AND product_sub_type = 'cushioned' THEN 'cushioned_rug_pad' END product, 'exchange' send_back__type, 'all' plant, 'all' size, SUM(CASE WHEN send_back__type in ('exchange') AND plant IN ('LA', 'CHI', 'N/A') THEN 1 ELSE 0 END) qty_returned, COUNT(*) qty_sold, SUM(CASE WHEN send_back__type in ('exchange') AND plant IN ('LA', 'CHI', 'N/A') THEN 1 ELSE 0 END) * 1.0 / COUNT(*) rate FROM product_pull.ret_exch_rep_data_final GROUP BY 1, 2, 3, 4, 5, 6 HAVING DATE_PART('year', fulfillment_week_ended) >= 2020 ORDER BY 1 DESC\n",
      "SELECT fulfillment_week_ended week_ended, 'actual' AS view, CASE WHEN shape = 'Rectangle' AND size NOT ILIKE ('%9%x%12%') AND texture = 'Chenille' AND purpose != 'Outdoor' THEN 'rectangular_chenille' WHEN texture = 'Shag' THEN 'shag' WHEN shape = 'Round' THEN 'round' WHEN purpose = 'Outdoor' THEN 'outdoor' WHEN texture = 'Plush' THEN 'plush' WHEN size ILIKE ('%9%x%12%') THEN '9x12' WHEN texture = 'Rubber' AND product_sub_type = 'classic' THEN 'classic_rug_pad' WHEN texture = 'Rubber' AND product_sub_type = 'cushioned' THEN 'cushioned_rug_pad' END product, 'exchange' send_back__type, 'all' plant, CASE WHEN size ILIKE '%3%x%5%' THEN '3x5' WHEN size ILIKE '%8%r%' THEN '8-Round' WHEN size ILIKE '%6%r%' THEN '6-Round' WHEN size ILIKE '%2.5%x%10%' THEN '2.5x10' WHEN size ILIKE '%9%x%12%' THEN '9x12' WHEN size ILIKE '%8%x%10%' THEN '8x10' WHEN size ILIKE '%5%x%7%' THEN '5x7' WHEN size ILIKE '%2.5%x%7%' THEN '2.5x7' WHEN size ILIKE '%6%x%9%' THEN '6x9' END size, SUM(CASE WHEN send_back__type in ('exchange') AND plant IN ('LA', 'CHI', 'N/A') THEN 1 ELSE 0 END) qty_returned, COUNT(*) qty_sold, SUM(CASE WHEN send_back__type in ('exchange') AND plant IN ('LA', 'CHI', 'N/A') THEN 1 ELSE 0 END) * 1.0 / COUNT(*) rate FROM product_pull.ret_exch_rep_data_final GROUP BY 1, 2, 3, 4, 5, 6 HAVING DATE_PART('year', fulfillment_week_ended) >= 2020 ORDER BY 1 DESC\n",
      "SELECT fulfillment_week_ended week_ended, 'actual' AS view, CASE WHEN shape = 'Rectangle' AND size NOT ILIKE ('%9%x%12%') AND texture = 'Chenille' AND purpose != 'Outdoor' THEN 'rectangular_chenille' WHEN texture = 'Shag' THEN 'shag' WHEN shape = 'Round' THEN 'round' WHEN purpose = 'Outdoor' THEN 'outdoor' WHEN texture = 'Plush' THEN 'plush' WHEN size ILIKE ('%9%x%12%') THEN '9x12' WHEN texture = 'Rubber' AND product_sub_type = 'classic' THEN 'classic_rug_pad' WHEN texture = 'Rubber' AND product_sub_type = 'cushioned' THEN 'cushioned_rug_pad' END product, 'exchange' send_back__type, 'LA' plant, 'all' size, SUM(CASE WHEN send_back__type in ('exchange') AND plant IN ('LA') THEN 1 ELSE 0 END) qty_returned, COUNT(*) qty_sold, SUM(CASE WHEN send_back__type in ('exchange') AND plant IN ('LA') THEN 1 ELSE 0 END) * 1.0 / COUNT(*) rate FROM product_pull.ret_exch_rep_data_final GROUP BY 1, 2, 3, 4, 5, 6 HAVING DATE_PART('year', fulfillment_week_ended) >= 2020 ORDER BY 1 DESC\n",
      "SELECT fulfillment_week_ended week_ended, 'actual' AS view, CASE WHEN shape = 'Rectangle' AND size NOT ILIKE ('%9%x%12%') AND texture = 'Chenille' AND purpose != 'Outdoor' THEN 'rectangular_chenille' WHEN texture = 'Shag' THEN 'shag' WHEN shape = 'Round' THEN 'round' WHEN purpose = 'Outdoor' THEN 'outdoor' WHEN texture = 'Plush' THEN 'plush' WHEN size ILIKE ('%9%x%12%') THEN '9x12' WHEN texture = 'Rubber' AND product_sub_type = 'classic' THEN 'classic_rug_pad' WHEN texture = 'Rubber' AND product_sub_type = 'cushioned' THEN 'cushioned_rug_pad' END product, 'exchange' send_back__type, 'LA' plant, CASE WHEN size ILIKE '%3%x%5%' THEN '3x5' WHEN size ILIKE '%8%r%' THEN '8-Round' WHEN size ILIKE '%6%r%' THEN '6-Round' WHEN size ILIKE '%2.5%x%10%' THEN '2.5x10' WHEN size ILIKE '%9%x%12%' THEN '9x12' WHEN size ILIKE '%8%x%10%' THEN '8x10' WHEN size ILIKE '%5%x%7%' THEN '5x7' WHEN size ILIKE '%2.5%x%7%' THEN '2.5x7' WHEN size ILIKE '%6%x%9%' THEN '6x9' END size, SUM(CASE WHEN send_back__type in ('exchange') AND plant IN ('LA') THEN 1 ELSE 0 END) qty_returned, COUNT(*) qty_sold, SUM(CASE WHEN send_back__type in ('exchange') AND plant IN ('LA') THEN 1 ELSE 0 END) * 1.0 / COUNT(*) rate FROM product_pull.ret_exch_rep_data_final GROUP BY 1, 2, 3, 4, 5, 6 HAVING DATE_PART('year', fulfillment_week_ended) >= 2020 ORDER BY 1 DESC\n",
      "SELECT fulfillment_week_ended week_ended, 'actual' AS view, CASE WHEN shape = 'Rectangle' AND size NOT ILIKE ('%9%x%12%') AND texture = 'Chenille' AND purpose != 'Outdoor' THEN 'rectangular_chenille' WHEN texture = 'Shag' THEN 'shag' WHEN shape = 'Round' THEN 'round' WHEN purpose = 'Outdoor' THEN 'outdoor' WHEN texture = 'Plush' THEN 'plush' WHEN size ILIKE ('%9%x%12%') THEN '9x12' WHEN texture = 'Rubber' AND product_sub_type = 'classic' THEN 'classic_rug_pad' WHEN texture = 'Rubber' AND product_sub_type = 'cushioned' THEN 'cushioned_rug_pad' END product, 'exchange' send_back__type, 'CHI' plant, 'all' size, SUM(CASE WHEN send_back__type in ('exchange') AND plant IN ('CHI') THEN 1 ELSE 0 END) qty_returned, COUNT(*) qty_sold, SUM(CASE WHEN send_back__type in ('exchange') AND plant IN ('CHI') THEN 1 ELSE 0 END) * 1.0 / COUNT(*) rate FROM product_pull.ret_exch_rep_data_final GROUP BY 1, 2, 3, 4, 5, 6 HAVING DATE_PART('year', fulfillment_week_ended) >= 2020 ORDER BY 1 DESC\n",
      "SELECT fulfillment_week_ended week_ended, 'actual' AS view, CASE WHEN shape = 'Rectangle' AND size NOT ILIKE ('%9%x%12%') AND texture = 'Chenille' AND purpose != 'Outdoor' THEN 'rectangular_chenille' WHEN texture = 'Shag' THEN 'shag' WHEN shape = 'Round' THEN 'round' WHEN purpose = 'Outdoor' THEN 'outdoor' WHEN texture = 'Plush' THEN 'plush' WHEN size ILIKE ('%9%x%12%') THEN '9x12' WHEN texture = 'Rubber' AND product_sub_type = 'classic' THEN 'classic_rug_pad' WHEN texture = 'Rubber' AND product_sub_type = 'cushioned' THEN 'cushioned_rug_pad' END product, 'exchange' send_back__type, 'CHI' plant, CASE WHEN size ILIKE '%3%x%5%' THEN '3x5' WHEN size ILIKE '%8%r%' THEN '8-Round' WHEN size ILIKE '%6%r%' THEN '6-Round' WHEN size ILIKE '%2.5%x%10%' THEN '2.5x10' WHEN size ILIKE '%9%x%12%' THEN '9x12' WHEN size ILIKE '%8%x%10%' THEN '8x10' WHEN size ILIKE '%5%x%7%' THEN '5x7' WHEN size ILIKE '%2.5%x%7%' THEN '2.5x7' WHEN size ILIKE '%6%x%9%' THEN '6x9' END size, SUM(CASE WHEN send_back__type in ('exchange') AND plant IN ('CHI') THEN 1 ELSE 0 END) qty_returned, COUNT(*) qty_sold, SUM(CASE WHEN send_back__type in ('exchange') AND plant IN ('CHI') THEN 1 ELSE 0 END) * 1.0 / COUNT(*) rate FROM product_pull.ret_exch_rep_data_final GROUP BY 1, 2, 3, 4, 5, 6 HAVING DATE_PART('year', fulfillment_week_ended) >= 2020 ORDER BY 1 DESC\n",
      "SELECT fulfillment_week_ended week_ended, 'actual' AS view, CASE WHEN shape = 'Rectangle' AND size NOT ILIKE ('%9%x%12%') AND texture = 'Chenille' AND purpose != 'Outdoor' THEN 'rectangular_chenille' WHEN texture = 'Shag' THEN 'shag' WHEN shape = 'Round' THEN 'round' WHEN purpose = 'Outdoor' THEN 'outdoor' WHEN texture = 'Plush' THEN 'plush' WHEN size ILIKE ('%9%x%12%') THEN '9x12' WHEN texture = 'Rubber' AND product_sub_type = 'classic' THEN 'classic_rug_pad' WHEN texture = 'Rubber' AND product_sub_type = 'cushioned' THEN 'cushioned_rug_pad' END product, 'exchange' send_back__type, 'N/A' plant, 'all' size, SUM(CASE WHEN send_back__type in ('exchange') AND plant IN ('N/A') THEN 1 ELSE 0 END) qty_returned, COUNT(*) qty_sold, SUM(CASE WHEN send_back__type in ('exchange') AND plant IN ('N/A') THEN 1 ELSE 0 END) * 1.0 / COUNT(*) rate FROM product_pull.ret_exch_rep_data_final GROUP BY 1, 2, 3, 4, 5, 6 HAVING DATE_PART('year', fulfillment_week_ended) >= 2020 ORDER BY 1 DESC\n",
      "SELECT fulfillment_week_ended week_ended, 'actual' AS view, CASE WHEN shape = 'Rectangle' AND size NOT ILIKE ('%9%x%12%') AND texture = 'Chenille' AND purpose != 'Outdoor' THEN 'rectangular_chenille' WHEN texture = 'Shag' THEN 'shag' WHEN shape = 'Round' THEN 'round' WHEN purpose = 'Outdoor' THEN 'outdoor' WHEN texture = 'Plush' THEN 'plush' WHEN size ILIKE ('%9%x%12%') THEN '9x12' WHEN texture = 'Rubber' AND product_sub_type = 'classic' THEN 'classic_rug_pad' WHEN texture = 'Rubber' AND product_sub_type = 'cushioned' THEN 'cushioned_rug_pad' END product, 'exchange' send_back__type, 'N/A' plant, CASE WHEN size ILIKE '%3%x%5%' THEN '3x5' WHEN size ILIKE '%8%r%' THEN '8-Round' WHEN size ILIKE '%6%r%' THEN '6-Round' WHEN size ILIKE '%2.5%x%10%' THEN '2.5x10' WHEN size ILIKE '%9%x%12%' THEN '9x12' WHEN size ILIKE '%8%x%10%' THEN '8x10' WHEN size ILIKE '%5%x%7%' THEN '5x7' WHEN size ILIKE '%2.5%x%7%' THEN '2.5x7' WHEN size ILIKE '%6%x%9%' THEN '6x9' END size, SUM(CASE WHEN send_back__type in ('exchange') AND plant IN ('N/A') THEN 1 ELSE 0 END) qty_returned, COUNT(*) qty_sold, SUM(CASE WHEN send_back__type in ('exchange') AND plant IN ('N/A') THEN 1 ELSE 0 END) * 1.0 / COUNT(*) rate FROM product_pull.ret_exch_rep_data_final GROUP BY 1, 2, 3, 4, 5, 6 HAVING DATE_PART('year', fulfillment_week_ended) >= 2020 ORDER BY 1 DESC\n"
     ]
    },
    {
     "name": "stdout",
     "output_type": "stream",
     "text": [
      "SELECT fulfillment_week_ended week_ended, 'actual' AS view, CASE WHEN product_sub_type = 'cushioned' THEN 'cushioned' WHEN product_sub_type = 'classic' THEN 'classic' END product, 'send_back_both' send_back__type, 'all' plant, 'all' size, SUM(CASE WHEN send_back__type in ('return', 'exchange') AND plant IN ('LA', 'CHI', 'N/A') THEN 1 ELSE 0 END) qty_returned, COUNT(*) qty_sold, SUM(CASE WHEN send_back__type in ('return', 'exchange') AND plant IN ('LA', 'CHI', 'N/A') THEN 1 ELSE 0 END) * 1.0 / COUNT(*) rate FROM product_pull.ret_exch_rep_data_final GROUP BY 1, 2, 3, 4, 5, 6 HAVING DATE_PART('year', fulfillment_week_ended) >= 2020 ORDER BY 1 DESC\n",
      "SELECT fulfillment_week_ended week_ended, 'actual' AS view, CASE WHEN product_sub_type = 'cushioned' THEN 'cushioned' WHEN product_sub_type = 'classic' THEN 'classic' END product, 'send_back_both' send_back__type, 'all' plant, CASE WHEN size ILIKE '%3%x%5%' THEN '3x5' WHEN size ILIKE '%8%r%' THEN '8-Round' WHEN size ILIKE '%6%r%' THEN '6-Round' WHEN size ILIKE '%2.5%x%10%' THEN '2.5x10' WHEN size ILIKE '%9%x%12%' THEN '9x12' WHEN size ILIKE '%8%x%10%' THEN '8x10' WHEN size ILIKE '%5%x%7%' THEN '5x7' WHEN size ILIKE '%2.5%x%7%' THEN '2.5x7' WHEN size ILIKE '%6%x%9%' THEN '6x9' END size, SUM(CASE WHEN send_back__type in ('return', 'exchange') AND plant IN ('LA', 'CHI', 'N/A') THEN 1 ELSE 0 END) qty_returned, COUNT(*) qty_sold, SUM(CASE WHEN send_back__type in ('return', 'exchange') AND plant IN ('LA', 'CHI', 'N/A') THEN 1 ELSE 0 END) * 1.0 / COUNT(*) rate FROM product_pull.ret_exch_rep_data_final GROUP BY 1, 2, 3, 4, 5, 6 HAVING DATE_PART('year', fulfillment_week_ended) >= 2020 ORDER BY 1 DESC\n",
      "SELECT fulfillment_week_ended week_ended, 'actual' AS view, CASE WHEN product_sub_type = 'cushioned' THEN 'cushioned' WHEN product_sub_type = 'classic' THEN 'classic' END product, 'send_back_both' send_back__type, 'LA' plant, 'all' size, SUM(CASE WHEN send_back__type in ('return', 'exchange') AND plant IN ('LA') THEN 1 ELSE 0 END) qty_returned, COUNT(*) qty_sold, SUM(CASE WHEN send_back__type in ('return', 'exchange') AND plant IN ('LA') THEN 1 ELSE 0 END) * 1.0 / COUNT(*) rate FROM product_pull.ret_exch_rep_data_final GROUP BY 1, 2, 3, 4, 5, 6 HAVING DATE_PART('year', fulfillment_week_ended) >= 2020 ORDER BY 1 DESC\n",
      "SELECT fulfillment_week_ended week_ended, 'actual' AS view, CASE WHEN product_sub_type = 'cushioned' THEN 'cushioned' WHEN product_sub_type = 'classic' THEN 'classic' END product, 'send_back_both' send_back__type, 'LA' plant, CASE WHEN size ILIKE '%3%x%5%' THEN '3x5' WHEN size ILIKE '%8%r%' THEN '8-Round' WHEN size ILIKE '%6%r%' THEN '6-Round' WHEN size ILIKE '%2.5%x%10%' THEN '2.5x10' WHEN size ILIKE '%9%x%12%' THEN '9x12' WHEN size ILIKE '%8%x%10%' THEN '8x10' WHEN size ILIKE '%5%x%7%' THEN '5x7' WHEN size ILIKE '%2.5%x%7%' THEN '2.5x7' WHEN size ILIKE '%6%x%9%' THEN '6x9' END size, SUM(CASE WHEN send_back__type in ('return', 'exchange') AND plant IN ('LA') THEN 1 ELSE 0 END) qty_returned, COUNT(*) qty_sold, SUM(CASE WHEN send_back__type in ('return', 'exchange') AND plant IN ('LA') THEN 1 ELSE 0 END) * 1.0 / COUNT(*) rate FROM product_pull.ret_exch_rep_data_final GROUP BY 1, 2, 3, 4, 5, 6 HAVING DATE_PART('year', fulfillment_week_ended) >= 2020 ORDER BY 1 DESC\n",
      "SELECT fulfillment_week_ended week_ended, 'actual' AS view, CASE WHEN product_sub_type = 'cushioned' THEN 'cushioned' WHEN product_sub_type = 'classic' THEN 'classic' END product, 'send_back_both' send_back__type, 'CHI' plant, 'all' size, SUM(CASE WHEN send_back__type in ('return', 'exchange') AND plant IN ('CHI') THEN 1 ELSE 0 END) qty_returned, COUNT(*) qty_sold, SUM(CASE WHEN send_back__type in ('return', 'exchange') AND plant IN ('CHI') THEN 1 ELSE 0 END) * 1.0 / COUNT(*) rate FROM product_pull.ret_exch_rep_data_final GROUP BY 1, 2, 3, 4, 5, 6 HAVING DATE_PART('year', fulfillment_week_ended) >= 2020 ORDER BY 1 DESC\n",
      "SELECT fulfillment_week_ended week_ended, 'actual' AS view, CASE WHEN product_sub_type = 'cushioned' THEN 'cushioned' WHEN product_sub_type = 'classic' THEN 'classic' END product, 'send_back_both' send_back__type, 'CHI' plant, CASE WHEN size ILIKE '%3%x%5%' THEN '3x5' WHEN size ILIKE '%8%r%' THEN '8-Round' WHEN size ILIKE '%6%r%' THEN '6-Round' WHEN size ILIKE '%2.5%x%10%' THEN '2.5x10' WHEN size ILIKE '%9%x%12%' THEN '9x12' WHEN size ILIKE '%8%x%10%' THEN '8x10' WHEN size ILIKE '%5%x%7%' THEN '5x7' WHEN size ILIKE '%2.5%x%7%' THEN '2.5x7' WHEN size ILIKE '%6%x%9%' THEN '6x9' END size, SUM(CASE WHEN send_back__type in ('return', 'exchange') AND plant IN ('CHI') THEN 1 ELSE 0 END) qty_returned, COUNT(*) qty_sold, SUM(CASE WHEN send_back__type in ('return', 'exchange') AND plant IN ('CHI') THEN 1 ELSE 0 END) * 1.0 / COUNT(*) rate FROM product_pull.ret_exch_rep_data_final GROUP BY 1, 2, 3, 4, 5, 6 HAVING DATE_PART('year', fulfillment_week_ended) >= 2020 ORDER BY 1 DESC\n",
      "SELECT fulfillment_week_ended week_ended, 'actual' AS view, CASE WHEN product_sub_type = 'cushioned' THEN 'cushioned' WHEN product_sub_type = 'classic' THEN 'classic' END product, 'send_back_both' send_back__type, 'N/A' plant, 'all' size, SUM(CASE WHEN send_back__type in ('return', 'exchange') AND plant IN ('N/A') THEN 1 ELSE 0 END) qty_returned, COUNT(*) qty_sold, SUM(CASE WHEN send_back__type in ('return', 'exchange') AND plant IN ('N/A') THEN 1 ELSE 0 END) * 1.0 / COUNT(*) rate FROM product_pull.ret_exch_rep_data_final GROUP BY 1, 2, 3, 4, 5, 6 HAVING DATE_PART('year', fulfillment_week_ended) >= 2020 ORDER BY 1 DESC\n",
      "SELECT fulfillment_week_ended week_ended, 'actual' AS view, CASE WHEN product_sub_type = 'cushioned' THEN 'cushioned' WHEN product_sub_type = 'classic' THEN 'classic' END product, 'send_back_both' send_back__type, 'N/A' plant, CASE WHEN size ILIKE '%3%x%5%' THEN '3x5' WHEN size ILIKE '%8%r%' THEN '8-Round' WHEN size ILIKE '%6%r%' THEN '6-Round' WHEN size ILIKE '%2.5%x%10%' THEN '2.5x10' WHEN size ILIKE '%9%x%12%' THEN '9x12' WHEN size ILIKE '%8%x%10%' THEN '8x10' WHEN size ILIKE '%5%x%7%' THEN '5x7' WHEN size ILIKE '%2.5%x%7%' THEN '2.5x7' WHEN size ILIKE '%6%x%9%' THEN '6x9' END size, SUM(CASE WHEN send_back__type in ('return', 'exchange') AND plant IN ('N/A') THEN 1 ELSE 0 END) qty_returned, COUNT(*) qty_sold, SUM(CASE WHEN send_back__type in ('return', 'exchange') AND plant IN ('N/A') THEN 1 ELSE 0 END) * 1.0 / COUNT(*) rate FROM product_pull.ret_exch_rep_data_final GROUP BY 1, 2, 3, 4, 5, 6 HAVING DATE_PART('year', fulfillment_week_ended) >= 2020 ORDER BY 1 DESC\n",
      "SELECT fulfillment_week_ended week_ended, 'actual' AS view, CASE WHEN product_sub_type = 'cushioned' THEN 'cushioned' WHEN product_sub_type = 'classic' THEN 'classic' END product, 'return' send_back__type, 'all' plant, 'all' size, SUM(CASE WHEN send_back__type in ('return') AND plant IN ('LA', 'CHI', 'N/A') THEN 1 ELSE 0 END) qty_returned, COUNT(*) qty_sold, SUM(CASE WHEN send_back__type in ('return') AND plant IN ('LA', 'CHI', 'N/A') THEN 1 ELSE 0 END) * 1.0 / COUNT(*) rate FROM product_pull.ret_exch_rep_data_final GROUP BY 1, 2, 3, 4, 5, 6 HAVING DATE_PART('year', fulfillment_week_ended) >= 2020 ORDER BY 1 DESC\n",
      "SELECT fulfillment_week_ended week_ended, 'actual' AS view, CASE WHEN product_sub_type = 'cushioned' THEN 'cushioned' WHEN product_sub_type = 'classic' THEN 'classic' END product, 'return' send_back__type, 'all' plant, CASE WHEN size ILIKE '%3%x%5%' THEN '3x5' WHEN size ILIKE '%8%r%' THEN '8-Round' WHEN size ILIKE '%6%r%' THEN '6-Round' WHEN size ILIKE '%2.5%x%10%' THEN '2.5x10' WHEN size ILIKE '%9%x%12%' THEN '9x12' WHEN size ILIKE '%8%x%10%' THEN '8x10' WHEN size ILIKE '%5%x%7%' THEN '5x7' WHEN size ILIKE '%2.5%x%7%' THEN '2.5x7' WHEN size ILIKE '%6%x%9%' THEN '6x9' END size, SUM(CASE WHEN send_back__type in ('return') AND plant IN ('LA', 'CHI', 'N/A') THEN 1 ELSE 0 END) qty_returned, COUNT(*) qty_sold, SUM(CASE WHEN send_back__type in ('return') AND plant IN ('LA', 'CHI', 'N/A') THEN 1 ELSE 0 END) * 1.0 / COUNT(*) rate FROM product_pull.ret_exch_rep_data_final GROUP BY 1, 2, 3, 4, 5, 6 HAVING DATE_PART('year', fulfillment_week_ended) >= 2020 ORDER BY 1 DESC\n",
      "SELECT fulfillment_week_ended week_ended, 'actual' AS view, CASE WHEN product_sub_type = 'cushioned' THEN 'cushioned' WHEN product_sub_type = 'classic' THEN 'classic' END product, 'return' send_back__type, 'LA' plant, 'all' size, SUM(CASE WHEN send_back__type in ('return') AND plant IN ('LA') THEN 1 ELSE 0 END) qty_returned, COUNT(*) qty_sold, SUM(CASE WHEN send_back__type in ('return') AND plant IN ('LA') THEN 1 ELSE 0 END) * 1.0 / COUNT(*) rate FROM product_pull.ret_exch_rep_data_final GROUP BY 1, 2, 3, 4, 5, 6 HAVING DATE_PART('year', fulfillment_week_ended) >= 2020 ORDER BY 1 DESC\n"
     ]
    },
    {
     "name": "stdout",
     "output_type": "stream",
     "text": [
      "SELECT fulfillment_week_ended week_ended, 'actual' AS view, CASE WHEN product_sub_type = 'cushioned' THEN 'cushioned' WHEN product_sub_type = 'classic' THEN 'classic' END product, 'return' send_back__type, 'LA' plant, CASE WHEN size ILIKE '%3%x%5%' THEN '3x5' WHEN size ILIKE '%8%r%' THEN '8-Round' WHEN size ILIKE '%6%r%' THEN '6-Round' WHEN size ILIKE '%2.5%x%10%' THEN '2.5x10' WHEN size ILIKE '%9%x%12%' THEN '9x12' WHEN size ILIKE '%8%x%10%' THEN '8x10' WHEN size ILIKE '%5%x%7%' THEN '5x7' WHEN size ILIKE '%2.5%x%7%' THEN '2.5x7' WHEN size ILIKE '%6%x%9%' THEN '6x9' END size, SUM(CASE WHEN send_back__type in ('return') AND plant IN ('LA') THEN 1 ELSE 0 END) qty_returned, COUNT(*) qty_sold, SUM(CASE WHEN send_back__type in ('return') AND plant IN ('LA') THEN 1 ELSE 0 END) * 1.0 / COUNT(*) rate FROM product_pull.ret_exch_rep_data_final GROUP BY 1, 2, 3, 4, 5, 6 HAVING DATE_PART('year', fulfillment_week_ended) >= 2020 ORDER BY 1 DESC\n",
      "SELECT fulfillment_week_ended week_ended, 'actual' AS view, CASE WHEN product_sub_type = 'cushioned' THEN 'cushioned' WHEN product_sub_type = 'classic' THEN 'classic' END product, 'return' send_back__type, 'CHI' plant, 'all' size, SUM(CASE WHEN send_back__type in ('return') AND plant IN ('CHI') THEN 1 ELSE 0 END) qty_returned, COUNT(*) qty_sold, SUM(CASE WHEN send_back__type in ('return') AND plant IN ('CHI') THEN 1 ELSE 0 END) * 1.0 / COUNT(*) rate FROM product_pull.ret_exch_rep_data_final GROUP BY 1, 2, 3, 4, 5, 6 HAVING DATE_PART('year', fulfillment_week_ended) >= 2020 ORDER BY 1 DESC\n",
      "SELECT fulfillment_week_ended week_ended, 'actual' AS view, CASE WHEN product_sub_type = 'cushioned' THEN 'cushioned' WHEN product_sub_type = 'classic' THEN 'classic' END product, 'return' send_back__type, 'CHI' plant, CASE WHEN size ILIKE '%3%x%5%' THEN '3x5' WHEN size ILIKE '%8%r%' THEN '8-Round' WHEN size ILIKE '%6%r%' THEN '6-Round' WHEN size ILIKE '%2.5%x%10%' THEN '2.5x10' WHEN size ILIKE '%9%x%12%' THEN '9x12' WHEN size ILIKE '%8%x%10%' THEN '8x10' WHEN size ILIKE '%5%x%7%' THEN '5x7' WHEN size ILIKE '%2.5%x%7%' THEN '2.5x7' WHEN size ILIKE '%6%x%9%' THEN '6x9' END size, SUM(CASE WHEN send_back__type in ('return') AND plant IN ('CHI') THEN 1 ELSE 0 END) qty_returned, COUNT(*) qty_sold, SUM(CASE WHEN send_back__type in ('return') AND plant IN ('CHI') THEN 1 ELSE 0 END) * 1.0 / COUNT(*) rate FROM product_pull.ret_exch_rep_data_final GROUP BY 1, 2, 3, 4, 5, 6 HAVING DATE_PART('year', fulfillment_week_ended) >= 2020 ORDER BY 1 DESC\n",
      "SELECT fulfillment_week_ended week_ended, 'actual' AS view, CASE WHEN product_sub_type = 'cushioned' THEN 'cushioned' WHEN product_sub_type = 'classic' THEN 'classic' END product, 'return' send_back__type, 'N/A' plant, 'all' size, SUM(CASE WHEN send_back__type in ('return') AND plant IN ('N/A') THEN 1 ELSE 0 END) qty_returned, COUNT(*) qty_sold, SUM(CASE WHEN send_back__type in ('return') AND plant IN ('N/A') THEN 1 ELSE 0 END) * 1.0 / COUNT(*) rate FROM product_pull.ret_exch_rep_data_final GROUP BY 1, 2, 3, 4, 5, 6 HAVING DATE_PART('year', fulfillment_week_ended) >= 2020 ORDER BY 1 DESC\n",
      "SELECT fulfillment_week_ended week_ended, 'actual' AS view, CASE WHEN product_sub_type = 'cushioned' THEN 'cushioned' WHEN product_sub_type = 'classic' THEN 'classic' END product, 'return' send_back__type, 'N/A' plant, CASE WHEN size ILIKE '%3%x%5%' THEN '3x5' WHEN size ILIKE '%8%r%' THEN '8-Round' WHEN size ILIKE '%6%r%' THEN '6-Round' WHEN size ILIKE '%2.5%x%10%' THEN '2.5x10' WHEN size ILIKE '%9%x%12%' THEN '9x12' WHEN size ILIKE '%8%x%10%' THEN '8x10' WHEN size ILIKE '%5%x%7%' THEN '5x7' WHEN size ILIKE '%2.5%x%7%' THEN '2.5x7' WHEN size ILIKE '%6%x%9%' THEN '6x9' END size, SUM(CASE WHEN send_back__type in ('return') AND plant IN ('N/A') THEN 1 ELSE 0 END) qty_returned, COUNT(*) qty_sold, SUM(CASE WHEN send_back__type in ('return') AND plant IN ('N/A') THEN 1 ELSE 0 END) * 1.0 / COUNT(*) rate FROM product_pull.ret_exch_rep_data_final GROUP BY 1, 2, 3, 4, 5, 6 HAVING DATE_PART('year', fulfillment_week_ended) >= 2020 ORDER BY 1 DESC\n",
      "SELECT fulfillment_week_ended week_ended, 'actual' AS view, CASE WHEN product_sub_type = 'cushioned' THEN 'cushioned' WHEN product_sub_type = 'classic' THEN 'classic' END product, 'exchange' send_back__type, 'all' plant, 'all' size, SUM(CASE WHEN send_back__type in ('exchange') AND plant IN ('LA', 'CHI', 'N/A') THEN 1 ELSE 0 END) qty_returned, COUNT(*) qty_sold, SUM(CASE WHEN send_back__type in ('exchange') AND plant IN ('LA', 'CHI', 'N/A') THEN 1 ELSE 0 END) * 1.0 / COUNT(*) rate FROM product_pull.ret_exch_rep_data_final GROUP BY 1, 2, 3, 4, 5, 6 HAVING DATE_PART('year', fulfillment_week_ended) >= 2020 ORDER BY 1 DESC\n",
      "SELECT fulfillment_week_ended week_ended, 'actual' AS view, CASE WHEN product_sub_type = 'cushioned' THEN 'cushioned' WHEN product_sub_type = 'classic' THEN 'classic' END product, 'exchange' send_back__type, 'all' plant, CASE WHEN size ILIKE '%3%x%5%' THEN '3x5' WHEN size ILIKE '%8%r%' THEN '8-Round' WHEN size ILIKE '%6%r%' THEN '6-Round' WHEN size ILIKE '%2.5%x%10%' THEN '2.5x10' WHEN size ILIKE '%9%x%12%' THEN '9x12' WHEN size ILIKE '%8%x%10%' THEN '8x10' WHEN size ILIKE '%5%x%7%' THEN '5x7' WHEN size ILIKE '%2.5%x%7%' THEN '2.5x7' WHEN size ILIKE '%6%x%9%' THEN '6x9' END size, SUM(CASE WHEN send_back__type in ('exchange') AND plant IN ('LA', 'CHI', 'N/A') THEN 1 ELSE 0 END) qty_returned, COUNT(*) qty_sold, SUM(CASE WHEN send_back__type in ('exchange') AND plant IN ('LA', 'CHI', 'N/A') THEN 1 ELSE 0 END) * 1.0 / COUNT(*) rate FROM product_pull.ret_exch_rep_data_final GROUP BY 1, 2, 3, 4, 5, 6 HAVING DATE_PART('year', fulfillment_week_ended) >= 2020 ORDER BY 1 DESC\n",
      "SELECT fulfillment_week_ended week_ended, 'actual' AS view, CASE WHEN product_sub_type = 'cushioned' THEN 'cushioned' WHEN product_sub_type = 'classic' THEN 'classic' END product, 'exchange' send_back__type, 'LA' plant, 'all' size, SUM(CASE WHEN send_back__type in ('exchange') AND plant IN ('LA') THEN 1 ELSE 0 END) qty_returned, COUNT(*) qty_sold, SUM(CASE WHEN send_back__type in ('exchange') AND plant IN ('LA') THEN 1 ELSE 0 END) * 1.0 / COUNT(*) rate FROM product_pull.ret_exch_rep_data_final GROUP BY 1, 2, 3, 4, 5, 6 HAVING DATE_PART('year', fulfillment_week_ended) >= 2020 ORDER BY 1 DESC\n",
      "SELECT fulfillment_week_ended week_ended, 'actual' AS view, CASE WHEN product_sub_type = 'cushioned' THEN 'cushioned' WHEN product_sub_type = 'classic' THEN 'classic' END product, 'exchange' send_back__type, 'LA' plant, CASE WHEN size ILIKE '%3%x%5%' THEN '3x5' WHEN size ILIKE '%8%r%' THEN '8-Round' WHEN size ILIKE '%6%r%' THEN '6-Round' WHEN size ILIKE '%2.5%x%10%' THEN '2.5x10' WHEN size ILIKE '%9%x%12%' THEN '9x12' WHEN size ILIKE '%8%x%10%' THEN '8x10' WHEN size ILIKE '%5%x%7%' THEN '5x7' WHEN size ILIKE '%2.5%x%7%' THEN '2.5x7' WHEN size ILIKE '%6%x%9%' THEN '6x9' END size, SUM(CASE WHEN send_back__type in ('exchange') AND plant IN ('LA') THEN 1 ELSE 0 END) qty_returned, COUNT(*) qty_sold, SUM(CASE WHEN send_back__type in ('exchange') AND plant IN ('LA') THEN 1 ELSE 0 END) * 1.0 / COUNT(*) rate FROM product_pull.ret_exch_rep_data_final GROUP BY 1, 2, 3, 4, 5, 6 HAVING DATE_PART('year', fulfillment_week_ended) >= 2020 ORDER BY 1 DESC\n",
      "SELECT fulfillment_week_ended week_ended, 'actual' AS view, CASE WHEN product_sub_type = 'cushioned' THEN 'cushioned' WHEN product_sub_type = 'classic' THEN 'classic' END product, 'exchange' send_back__type, 'CHI' plant, 'all' size, SUM(CASE WHEN send_back__type in ('exchange') AND plant IN ('CHI') THEN 1 ELSE 0 END) qty_returned, COUNT(*) qty_sold, SUM(CASE WHEN send_back__type in ('exchange') AND plant IN ('CHI') THEN 1 ELSE 0 END) * 1.0 / COUNT(*) rate FROM product_pull.ret_exch_rep_data_final GROUP BY 1, 2, 3, 4, 5, 6 HAVING DATE_PART('year', fulfillment_week_ended) >= 2020 ORDER BY 1 DESC\n",
      "SELECT fulfillment_week_ended week_ended, 'actual' AS view, CASE WHEN product_sub_type = 'cushioned' THEN 'cushioned' WHEN product_sub_type = 'classic' THEN 'classic' END product, 'exchange' send_back__type, 'CHI' plant, CASE WHEN size ILIKE '%3%x%5%' THEN '3x5' WHEN size ILIKE '%8%r%' THEN '8-Round' WHEN size ILIKE '%6%r%' THEN '6-Round' WHEN size ILIKE '%2.5%x%10%' THEN '2.5x10' WHEN size ILIKE '%9%x%12%' THEN '9x12' WHEN size ILIKE '%8%x%10%' THEN '8x10' WHEN size ILIKE '%5%x%7%' THEN '5x7' WHEN size ILIKE '%2.5%x%7%' THEN '2.5x7' WHEN size ILIKE '%6%x%9%' THEN '6x9' END size, SUM(CASE WHEN send_back__type in ('exchange') AND plant IN ('CHI') THEN 1 ELSE 0 END) qty_returned, COUNT(*) qty_sold, SUM(CASE WHEN send_back__type in ('exchange') AND plant IN ('CHI') THEN 1 ELSE 0 END) * 1.0 / COUNT(*) rate FROM product_pull.ret_exch_rep_data_final GROUP BY 1, 2, 3, 4, 5, 6 HAVING DATE_PART('year', fulfillment_week_ended) >= 2020 ORDER BY 1 DESC\n"
     ]
    },
    {
     "name": "stdout",
     "output_type": "stream",
     "text": [
      "SELECT fulfillment_week_ended week_ended, 'actual' AS view, CASE WHEN product_sub_type = 'cushioned' THEN 'cushioned' WHEN product_sub_type = 'classic' THEN 'classic' END product, 'exchange' send_back__type, 'N/A' plant, 'all' size, SUM(CASE WHEN send_back__type in ('exchange') AND plant IN ('N/A') THEN 1 ELSE 0 END) qty_returned, COUNT(*) qty_sold, SUM(CASE WHEN send_back__type in ('exchange') AND plant IN ('N/A') THEN 1 ELSE 0 END) * 1.0 / COUNT(*) rate FROM product_pull.ret_exch_rep_data_final GROUP BY 1, 2, 3, 4, 5, 6 HAVING DATE_PART('year', fulfillment_week_ended) >= 2020 ORDER BY 1 DESC\n",
      "SELECT fulfillment_week_ended week_ended, 'actual' AS view, CASE WHEN product_sub_type = 'cushioned' THEN 'cushioned' WHEN product_sub_type = 'classic' THEN 'classic' END product, 'exchange' send_back__type, 'N/A' plant, CASE WHEN size ILIKE '%3%x%5%' THEN '3x5' WHEN size ILIKE '%8%r%' THEN '8-Round' WHEN size ILIKE '%6%r%' THEN '6-Round' WHEN size ILIKE '%2.5%x%10%' THEN '2.5x10' WHEN size ILIKE '%9%x%12%' THEN '9x12' WHEN size ILIKE '%8%x%10%' THEN '8x10' WHEN size ILIKE '%5%x%7%' THEN '5x7' WHEN size ILIKE '%2.5%x%7%' THEN '2.5x7' WHEN size ILIKE '%6%x%9%' THEN '6x9' END size, SUM(CASE WHEN send_back__type in ('exchange') AND plant IN ('N/A') THEN 1 ELSE 0 END) qty_returned, COUNT(*) qty_sold, SUM(CASE WHEN send_back__type in ('exchange') AND plant IN ('N/A') THEN 1 ELSE 0 END) * 1.0 / COUNT(*) rate FROM product_pull.ret_exch_rep_data_final GROUP BY 1, 2, 3, 4, 5, 6 HAVING DATE_PART('year', fulfillment_week_ended) >= 2020 ORDER BY 1 DESC\n",
      "SELECT fulfillment_week_ended week_ended, 'forecast' AS view, 'all' product, 'send_back_both' send_back__type, 'all' plant, 'all' size, SUM(CASE WHEN send_back__type IN ('return', 'exchange') AND plant IN ('LA', 'CHI', 'N/A') AND return_created_date <= fulfillment_week_ended+21 THEN 1 ELSE 0 END) qty_returned, COUNT(*) qty_sold, SUM(CASE WHEN send_back__type IN ('return', 'exchange') AND plant IN ('LA', 'CHI', 'N/A') AND return_created_date <= fulfillment_week_ended+21 THEN 1 ELSE 0 END) * 1.0 / COUNT(*) rate FROM product_pull.ret_exch_rep_data_final GROUP BY 1, 2, 3, 4, 5, 6 HAVING DATE_PART('year', fulfillment_week_ended) >= 2020 ORDER BY 1 DESC\n",
      "SELECT fulfillment_week_ended week_ended, 'forecast' AS view, 'all' product, 'send_back_both' send_back__type, 'all' plant, CASE WHEN size ILIKE '%3%x%5%' THEN '3x5' WHEN size ILIKE '%8%r%' THEN '8-Round' WHEN size ILIKE '%6%r%' THEN '6-Round' WHEN size ILIKE '%2.5%x%10%' THEN '2.5x10' WHEN size ILIKE '%9%x%12%' THEN '9x12' WHEN size ILIKE '%8%x%10%' THEN '8x10' WHEN size ILIKE '%5%x%7%' THEN '5x7' WHEN size ILIKE '%2.5%x%7%' THEN '2.5x7' WHEN size ILIKE '%6%x%9%' THEN '6x9' END size, SUM(CASE WHEN send_back__type IN ('return', 'exchange') AND plant IN ('LA', 'CHI', 'N/A') AND return_created_date <= fulfillment_week_ended+21 THEN 1 ELSE 0 END) qty_returned, COUNT(*) qty_sold, SUM(CASE WHEN send_back__type IN ('return', 'exchange') AND plant IN ('LA', 'CHI', 'N/A') AND return_created_date <= fulfillment_week_ended+21 THEN 1 ELSE 0 END) * 1.0 / COUNT(*) rate FROM product_pull.ret_exch_rep_data_final GROUP BY 1, 2, 3, 4, 5, 6 HAVING DATE_PART('year', fulfillment_week_ended) >= 2020 ORDER BY 1 DESC\n",
      "SELECT fulfillment_week_ended week_ended, 'forecast' AS view, 'all' product, 'send_back_both' send_back__type, 'LA' plant, 'all' size, SUM(CASE WHEN send_back__type IN ('return', 'exchange') AND plant IN ('LA') AND return_created_date <= fulfillment_week_ended+21 THEN 1 ELSE 0 END) qty_returned, COUNT(*) qty_sold, SUM(CASE WHEN send_back__type IN ('return', 'exchange') AND plant IN ('LA') AND return_created_date <= fulfillment_week_ended+21 THEN 1 ELSE 0 END) * 1.0 / COUNT(*) rate FROM product_pull.ret_exch_rep_data_final GROUP BY 1, 2, 3, 4, 5, 6 HAVING DATE_PART('year', fulfillment_week_ended) >= 2020 ORDER BY 1 DESC\n",
      "SELECT fulfillment_week_ended week_ended, 'forecast' AS view, 'all' product, 'send_back_both' send_back__type, 'LA' plant, CASE WHEN size ILIKE '%3%x%5%' THEN '3x5' WHEN size ILIKE '%8%r%' THEN '8-Round' WHEN size ILIKE '%6%r%' THEN '6-Round' WHEN size ILIKE '%2.5%x%10%' THEN '2.5x10' WHEN size ILIKE '%9%x%12%' THEN '9x12' WHEN size ILIKE '%8%x%10%' THEN '8x10' WHEN size ILIKE '%5%x%7%' THEN '5x7' WHEN size ILIKE '%2.5%x%7%' THEN '2.5x7' WHEN size ILIKE '%6%x%9%' THEN '6x9' END size, SUM(CASE WHEN send_back__type IN ('return', 'exchange') AND plant IN ('LA') AND return_created_date <= fulfillment_week_ended+21 THEN 1 ELSE 0 END) qty_returned, COUNT(*) qty_sold, SUM(CASE WHEN send_back__type IN ('return', 'exchange') AND plant IN ('LA') AND return_created_date <= fulfillment_week_ended+21 THEN 1 ELSE 0 END) * 1.0 / COUNT(*) rate FROM product_pull.ret_exch_rep_data_final GROUP BY 1, 2, 3, 4, 5, 6 HAVING DATE_PART('year', fulfillment_week_ended) >= 2020 ORDER BY 1 DESC\n",
      "SELECT fulfillment_week_ended week_ended, 'forecast' AS view, 'all' product, 'send_back_both' send_back__type, 'CHI' plant, 'all' size, SUM(CASE WHEN send_back__type IN ('return', 'exchange') AND plant IN ('CHI') AND return_created_date <= fulfillment_week_ended+21 THEN 1 ELSE 0 END) qty_returned, COUNT(*) qty_sold, SUM(CASE WHEN send_back__type IN ('return', 'exchange') AND plant IN ('CHI') AND return_created_date <= fulfillment_week_ended+21 THEN 1 ELSE 0 END) * 1.0 / COUNT(*) rate FROM product_pull.ret_exch_rep_data_final GROUP BY 1, 2, 3, 4, 5, 6 HAVING DATE_PART('year', fulfillment_week_ended) >= 2020 ORDER BY 1 DESC\n",
      "SELECT fulfillment_week_ended week_ended, 'forecast' AS view, 'all' product, 'send_back_both' send_back__type, 'CHI' plant, CASE WHEN size ILIKE '%3%x%5%' THEN '3x5' WHEN size ILIKE '%8%r%' THEN '8-Round' WHEN size ILIKE '%6%r%' THEN '6-Round' WHEN size ILIKE '%2.5%x%10%' THEN '2.5x10' WHEN size ILIKE '%9%x%12%' THEN '9x12' WHEN size ILIKE '%8%x%10%' THEN '8x10' WHEN size ILIKE '%5%x%7%' THEN '5x7' WHEN size ILIKE '%2.5%x%7%' THEN '2.5x7' WHEN size ILIKE '%6%x%9%' THEN '6x9' END size, SUM(CASE WHEN send_back__type IN ('return', 'exchange') AND plant IN ('CHI') AND return_created_date <= fulfillment_week_ended+21 THEN 1 ELSE 0 END) qty_returned, COUNT(*) qty_sold, SUM(CASE WHEN send_back__type IN ('return', 'exchange') AND plant IN ('CHI') AND return_created_date <= fulfillment_week_ended+21 THEN 1 ELSE 0 END) * 1.0 / COUNT(*) rate FROM product_pull.ret_exch_rep_data_final GROUP BY 1, 2, 3, 4, 5, 6 HAVING DATE_PART('year', fulfillment_week_ended) >= 2020 ORDER BY 1 DESC\n",
      "SELECT fulfillment_week_ended week_ended, 'forecast' AS view, 'all' product, 'send_back_both' send_back__type, 'N/A' plant, 'all' size, SUM(CASE WHEN send_back__type IN ('return', 'exchange') AND plant IN ('N/A') AND return_created_date <= fulfillment_week_ended+21 THEN 1 ELSE 0 END) qty_returned, COUNT(*) qty_sold, SUM(CASE WHEN send_back__type IN ('return', 'exchange') AND plant IN ('N/A') AND return_created_date <= fulfillment_week_ended+21 THEN 1 ELSE 0 END) * 1.0 / COUNT(*) rate FROM product_pull.ret_exch_rep_data_final GROUP BY 1, 2, 3, 4, 5, 6 HAVING DATE_PART('year', fulfillment_week_ended) >= 2020 ORDER BY 1 DESC\n",
      "SELECT fulfillment_week_ended week_ended, 'forecast' AS view, 'all' product, 'send_back_both' send_back__type, 'N/A' plant, CASE WHEN size ILIKE '%3%x%5%' THEN '3x5' WHEN size ILIKE '%8%r%' THEN '8-Round' WHEN size ILIKE '%6%r%' THEN '6-Round' WHEN size ILIKE '%2.5%x%10%' THEN '2.5x10' WHEN size ILIKE '%9%x%12%' THEN '9x12' WHEN size ILIKE '%8%x%10%' THEN '8x10' WHEN size ILIKE '%5%x%7%' THEN '5x7' WHEN size ILIKE '%2.5%x%7%' THEN '2.5x7' WHEN size ILIKE '%6%x%9%' THEN '6x9' END size, SUM(CASE WHEN send_back__type IN ('return', 'exchange') AND plant IN ('N/A') AND return_created_date <= fulfillment_week_ended+21 THEN 1 ELSE 0 END) qty_returned, COUNT(*) qty_sold, SUM(CASE WHEN send_back__type IN ('return', 'exchange') AND plant IN ('N/A') AND return_created_date <= fulfillment_week_ended+21 THEN 1 ELSE 0 END) * 1.0 / COUNT(*) rate FROM product_pull.ret_exch_rep_data_final GROUP BY 1, 2, 3, 4, 5, 6 HAVING DATE_PART('year', fulfillment_week_ended) >= 2020 ORDER BY 1 DESC\n",
      "SELECT fulfillment_week_ended week_ended, 'forecast' AS view, 'all' product, 'return' send_back__type, 'all' plant, 'all' size, SUM(CASE WHEN send_back__type IN ('return') AND plant IN ('LA', 'CHI', 'N/A') AND return_created_date <= fulfillment_week_ended+21 THEN 1 ELSE 0 END) qty_returned, COUNT(*) qty_sold, SUM(CASE WHEN send_back__type IN ('return') AND plant IN ('LA', 'CHI', 'N/A') AND return_created_date <= fulfillment_week_ended+21 THEN 1 ELSE 0 END) * 1.0 / COUNT(*) rate FROM product_pull.ret_exch_rep_data_final GROUP BY 1, 2, 3, 4, 5, 6 HAVING DATE_PART('year', fulfillment_week_ended) >= 2020 ORDER BY 1 DESC\n"
     ]
    },
    {
     "name": "stdout",
     "output_type": "stream",
     "text": [
      "SELECT fulfillment_week_ended week_ended, 'forecast' AS view, 'all' product, 'return' send_back__type, 'all' plant, CASE WHEN size ILIKE '%3%x%5%' THEN '3x5' WHEN size ILIKE '%8%r%' THEN '8-Round' WHEN size ILIKE '%6%r%' THEN '6-Round' WHEN size ILIKE '%2.5%x%10%' THEN '2.5x10' WHEN size ILIKE '%9%x%12%' THEN '9x12' WHEN size ILIKE '%8%x%10%' THEN '8x10' WHEN size ILIKE '%5%x%7%' THEN '5x7' WHEN size ILIKE '%2.5%x%7%' THEN '2.5x7' WHEN size ILIKE '%6%x%9%' THEN '6x9' END size, SUM(CASE WHEN send_back__type IN ('return') AND plant IN ('LA', 'CHI', 'N/A') AND return_created_date <= fulfillment_week_ended+21 THEN 1 ELSE 0 END) qty_returned, COUNT(*) qty_sold, SUM(CASE WHEN send_back__type IN ('return') AND plant IN ('LA', 'CHI', 'N/A') AND return_created_date <= fulfillment_week_ended+21 THEN 1 ELSE 0 END) * 1.0 / COUNT(*) rate FROM product_pull.ret_exch_rep_data_final GROUP BY 1, 2, 3, 4, 5, 6 HAVING DATE_PART('year', fulfillment_week_ended) >= 2020 ORDER BY 1 DESC\n",
      "SELECT fulfillment_week_ended week_ended, 'forecast' AS view, 'all' product, 'return' send_back__type, 'LA' plant, 'all' size, SUM(CASE WHEN send_back__type IN ('return') AND plant IN ('LA') AND return_created_date <= fulfillment_week_ended+21 THEN 1 ELSE 0 END) qty_returned, COUNT(*) qty_sold, SUM(CASE WHEN send_back__type IN ('return') AND plant IN ('LA') AND return_created_date <= fulfillment_week_ended+21 THEN 1 ELSE 0 END) * 1.0 / COUNT(*) rate FROM product_pull.ret_exch_rep_data_final GROUP BY 1, 2, 3, 4, 5, 6 HAVING DATE_PART('year', fulfillment_week_ended) >= 2020 ORDER BY 1 DESC\n",
      "SELECT fulfillment_week_ended week_ended, 'forecast' AS view, 'all' product, 'return' send_back__type, 'LA' plant, CASE WHEN size ILIKE '%3%x%5%' THEN '3x5' WHEN size ILIKE '%8%r%' THEN '8-Round' WHEN size ILIKE '%6%r%' THEN '6-Round' WHEN size ILIKE '%2.5%x%10%' THEN '2.5x10' WHEN size ILIKE '%9%x%12%' THEN '9x12' WHEN size ILIKE '%8%x%10%' THEN '8x10' WHEN size ILIKE '%5%x%7%' THEN '5x7' WHEN size ILIKE '%2.5%x%7%' THEN '2.5x7' WHEN size ILIKE '%6%x%9%' THEN '6x9' END size, SUM(CASE WHEN send_back__type IN ('return') AND plant IN ('LA') AND return_created_date <= fulfillment_week_ended+21 THEN 1 ELSE 0 END) qty_returned, COUNT(*) qty_sold, SUM(CASE WHEN send_back__type IN ('return') AND plant IN ('LA') AND return_created_date <= fulfillment_week_ended+21 THEN 1 ELSE 0 END) * 1.0 / COUNT(*) rate FROM product_pull.ret_exch_rep_data_final GROUP BY 1, 2, 3, 4, 5, 6 HAVING DATE_PART('year', fulfillment_week_ended) >= 2020 ORDER BY 1 DESC\n",
      "SELECT fulfillment_week_ended week_ended, 'forecast' AS view, 'all' product, 'return' send_back__type, 'CHI' plant, 'all' size, SUM(CASE WHEN send_back__type IN ('return') AND plant IN ('CHI') AND return_created_date <= fulfillment_week_ended+21 THEN 1 ELSE 0 END) qty_returned, COUNT(*) qty_sold, SUM(CASE WHEN send_back__type IN ('return') AND plant IN ('CHI') AND return_created_date <= fulfillment_week_ended+21 THEN 1 ELSE 0 END) * 1.0 / COUNT(*) rate FROM product_pull.ret_exch_rep_data_final GROUP BY 1, 2, 3, 4, 5, 6 HAVING DATE_PART('year', fulfillment_week_ended) >= 2020 ORDER BY 1 DESC\n",
      "SELECT fulfillment_week_ended week_ended, 'forecast' AS view, 'all' product, 'return' send_back__type, 'CHI' plant, CASE WHEN size ILIKE '%3%x%5%' THEN '3x5' WHEN size ILIKE '%8%r%' THEN '8-Round' WHEN size ILIKE '%6%r%' THEN '6-Round' WHEN size ILIKE '%2.5%x%10%' THEN '2.5x10' WHEN size ILIKE '%9%x%12%' THEN '9x12' WHEN size ILIKE '%8%x%10%' THEN '8x10' WHEN size ILIKE '%5%x%7%' THEN '5x7' WHEN size ILIKE '%2.5%x%7%' THEN '2.5x7' WHEN size ILIKE '%6%x%9%' THEN '6x9' END size, SUM(CASE WHEN send_back__type IN ('return') AND plant IN ('CHI') AND return_created_date <= fulfillment_week_ended+21 THEN 1 ELSE 0 END) qty_returned, COUNT(*) qty_sold, SUM(CASE WHEN send_back__type IN ('return') AND plant IN ('CHI') AND return_created_date <= fulfillment_week_ended+21 THEN 1 ELSE 0 END) * 1.0 / COUNT(*) rate FROM product_pull.ret_exch_rep_data_final GROUP BY 1, 2, 3, 4, 5, 6 HAVING DATE_PART('year', fulfillment_week_ended) >= 2020 ORDER BY 1 DESC\n",
      "SELECT fulfillment_week_ended week_ended, 'forecast' AS view, 'all' product, 'return' send_back__type, 'N/A' plant, 'all' size, SUM(CASE WHEN send_back__type IN ('return') AND plant IN ('N/A') AND return_created_date <= fulfillment_week_ended+21 THEN 1 ELSE 0 END) qty_returned, COUNT(*) qty_sold, SUM(CASE WHEN send_back__type IN ('return') AND plant IN ('N/A') AND return_created_date <= fulfillment_week_ended+21 THEN 1 ELSE 0 END) * 1.0 / COUNT(*) rate FROM product_pull.ret_exch_rep_data_final GROUP BY 1, 2, 3, 4, 5, 6 HAVING DATE_PART('year', fulfillment_week_ended) >= 2020 ORDER BY 1 DESC\n",
      "SELECT fulfillment_week_ended week_ended, 'forecast' AS view, 'all' product, 'return' send_back__type, 'N/A' plant, CASE WHEN size ILIKE '%3%x%5%' THEN '3x5' WHEN size ILIKE '%8%r%' THEN '8-Round' WHEN size ILIKE '%6%r%' THEN '6-Round' WHEN size ILIKE '%2.5%x%10%' THEN '2.5x10' WHEN size ILIKE '%9%x%12%' THEN '9x12' WHEN size ILIKE '%8%x%10%' THEN '8x10' WHEN size ILIKE '%5%x%7%' THEN '5x7' WHEN size ILIKE '%2.5%x%7%' THEN '2.5x7' WHEN size ILIKE '%6%x%9%' THEN '6x9' END size, SUM(CASE WHEN send_back__type IN ('return') AND plant IN ('N/A') AND return_created_date <= fulfillment_week_ended+21 THEN 1 ELSE 0 END) qty_returned, COUNT(*) qty_sold, SUM(CASE WHEN send_back__type IN ('return') AND plant IN ('N/A') AND return_created_date <= fulfillment_week_ended+21 THEN 1 ELSE 0 END) * 1.0 / COUNT(*) rate FROM product_pull.ret_exch_rep_data_final GROUP BY 1, 2, 3, 4, 5, 6 HAVING DATE_PART('year', fulfillment_week_ended) >= 2020 ORDER BY 1 DESC\n",
      "SELECT fulfillment_week_ended week_ended, 'forecast' AS view, 'all' product, 'exchange' send_back__type, 'all' plant, 'all' size, SUM(CASE WHEN send_back__type IN ('exchange') AND plant IN ('LA', 'CHI', 'N/A') AND return_created_date <= fulfillment_week_ended+21 THEN 1 ELSE 0 END) qty_returned, COUNT(*) qty_sold, SUM(CASE WHEN send_back__type IN ('exchange') AND plant IN ('LA', 'CHI', 'N/A') AND return_created_date <= fulfillment_week_ended+21 THEN 1 ELSE 0 END) * 1.0 / COUNT(*) rate FROM product_pull.ret_exch_rep_data_final GROUP BY 1, 2, 3, 4, 5, 6 HAVING DATE_PART('year', fulfillment_week_ended) >= 2020 ORDER BY 1 DESC\n",
      "SELECT fulfillment_week_ended week_ended, 'forecast' AS view, 'all' product, 'exchange' send_back__type, 'all' plant, CASE WHEN size ILIKE '%3%x%5%' THEN '3x5' WHEN size ILIKE '%8%r%' THEN '8-Round' WHEN size ILIKE '%6%r%' THEN '6-Round' WHEN size ILIKE '%2.5%x%10%' THEN '2.5x10' WHEN size ILIKE '%9%x%12%' THEN '9x12' WHEN size ILIKE '%8%x%10%' THEN '8x10' WHEN size ILIKE '%5%x%7%' THEN '5x7' WHEN size ILIKE '%2.5%x%7%' THEN '2.5x7' WHEN size ILIKE '%6%x%9%' THEN '6x9' END size, SUM(CASE WHEN send_back__type IN ('exchange') AND plant IN ('LA', 'CHI', 'N/A') AND return_created_date <= fulfillment_week_ended+21 THEN 1 ELSE 0 END) qty_returned, COUNT(*) qty_sold, SUM(CASE WHEN send_back__type IN ('exchange') AND plant IN ('LA', 'CHI', 'N/A') AND return_created_date <= fulfillment_week_ended+21 THEN 1 ELSE 0 END) * 1.0 / COUNT(*) rate FROM product_pull.ret_exch_rep_data_final GROUP BY 1, 2, 3, 4, 5, 6 HAVING DATE_PART('year', fulfillment_week_ended) >= 2020 ORDER BY 1 DESC\n",
      "SELECT fulfillment_week_ended week_ended, 'forecast' AS view, 'all' product, 'exchange' send_back__type, 'LA' plant, 'all' size, SUM(CASE WHEN send_back__type IN ('exchange') AND plant IN ('LA') AND return_created_date <= fulfillment_week_ended+21 THEN 1 ELSE 0 END) qty_returned, COUNT(*) qty_sold, SUM(CASE WHEN send_back__type IN ('exchange') AND plant IN ('LA') AND return_created_date <= fulfillment_week_ended+21 THEN 1 ELSE 0 END) * 1.0 / COUNT(*) rate FROM product_pull.ret_exch_rep_data_final GROUP BY 1, 2, 3, 4, 5, 6 HAVING DATE_PART('year', fulfillment_week_ended) >= 2020 ORDER BY 1 DESC\n",
      "SELECT fulfillment_week_ended week_ended, 'forecast' AS view, 'all' product, 'exchange' send_back__type, 'LA' plant, CASE WHEN size ILIKE '%3%x%5%' THEN '3x5' WHEN size ILIKE '%8%r%' THEN '8-Round' WHEN size ILIKE '%6%r%' THEN '6-Round' WHEN size ILIKE '%2.5%x%10%' THEN '2.5x10' WHEN size ILIKE '%9%x%12%' THEN '9x12' WHEN size ILIKE '%8%x%10%' THEN '8x10' WHEN size ILIKE '%5%x%7%' THEN '5x7' WHEN size ILIKE '%2.5%x%7%' THEN '2.5x7' WHEN size ILIKE '%6%x%9%' THEN '6x9' END size, SUM(CASE WHEN send_back__type IN ('exchange') AND plant IN ('LA') AND return_created_date <= fulfillment_week_ended+21 THEN 1 ELSE 0 END) qty_returned, COUNT(*) qty_sold, SUM(CASE WHEN send_back__type IN ('exchange') AND plant IN ('LA') AND return_created_date <= fulfillment_week_ended+21 THEN 1 ELSE 0 END) * 1.0 / COUNT(*) rate FROM product_pull.ret_exch_rep_data_final GROUP BY 1, 2, 3, 4, 5, 6 HAVING DATE_PART('year', fulfillment_week_ended) >= 2020 ORDER BY 1 DESC\n"
     ]
    },
    {
     "name": "stdout",
     "output_type": "stream",
     "text": [
      "SELECT fulfillment_week_ended week_ended, 'forecast' AS view, 'all' product, 'exchange' send_back__type, 'CHI' plant, 'all' size, SUM(CASE WHEN send_back__type IN ('exchange') AND plant IN ('CHI') AND return_created_date <= fulfillment_week_ended+21 THEN 1 ELSE 0 END) qty_returned, COUNT(*) qty_sold, SUM(CASE WHEN send_back__type IN ('exchange') AND plant IN ('CHI') AND return_created_date <= fulfillment_week_ended+21 THEN 1 ELSE 0 END) * 1.0 / COUNT(*) rate FROM product_pull.ret_exch_rep_data_final GROUP BY 1, 2, 3, 4, 5, 6 HAVING DATE_PART('year', fulfillment_week_ended) >= 2020 ORDER BY 1 DESC\n",
      "SELECT fulfillment_week_ended week_ended, 'forecast' AS view, 'all' product, 'exchange' send_back__type, 'CHI' plant, CASE WHEN size ILIKE '%3%x%5%' THEN '3x5' WHEN size ILIKE '%8%r%' THEN '8-Round' WHEN size ILIKE '%6%r%' THEN '6-Round' WHEN size ILIKE '%2.5%x%10%' THEN '2.5x10' WHEN size ILIKE '%9%x%12%' THEN '9x12' WHEN size ILIKE '%8%x%10%' THEN '8x10' WHEN size ILIKE '%5%x%7%' THEN '5x7' WHEN size ILIKE '%2.5%x%7%' THEN '2.5x7' WHEN size ILIKE '%6%x%9%' THEN '6x9' END size, SUM(CASE WHEN send_back__type IN ('exchange') AND plant IN ('CHI') AND return_created_date <= fulfillment_week_ended+21 THEN 1 ELSE 0 END) qty_returned, COUNT(*) qty_sold, SUM(CASE WHEN send_back__type IN ('exchange') AND plant IN ('CHI') AND return_created_date <= fulfillment_week_ended+21 THEN 1 ELSE 0 END) * 1.0 / COUNT(*) rate FROM product_pull.ret_exch_rep_data_final GROUP BY 1, 2, 3, 4, 5, 6 HAVING DATE_PART('year', fulfillment_week_ended) >= 2020 ORDER BY 1 DESC\n",
      "SELECT fulfillment_week_ended week_ended, 'forecast' AS view, 'all' product, 'exchange' send_back__type, 'N/A' plant, 'all' size, SUM(CASE WHEN send_back__type IN ('exchange') AND plant IN ('N/A') AND return_created_date <= fulfillment_week_ended+21 THEN 1 ELSE 0 END) qty_returned, COUNT(*) qty_sold, SUM(CASE WHEN send_back__type IN ('exchange') AND plant IN ('N/A') AND return_created_date <= fulfillment_week_ended+21 THEN 1 ELSE 0 END) * 1.0 / COUNT(*) rate FROM product_pull.ret_exch_rep_data_final GROUP BY 1, 2, 3, 4, 5, 6 HAVING DATE_PART('year', fulfillment_week_ended) >= 2020 ORDER BY 1 DESC\n",
      "SELECT fulfillment_week_ended week_ended, 'forecast' AS view, 'all' product, 'exchange' send_back__type, 'N/A' plant, CASE WHEN size ILIKE '%3%x%5%' THEN '3x5' WHEN size ILIKE '%8%r%' THEN '8-Round' WHEN size ILIKE '%6%r%' THEN '6-Round' WHEN size ILIKE '%2.5%x%10%' THEN '2.5x10' WHEN size ILIKE '%9%x%12%' THEN '9x12' WHEN size ILIKE '%8%x%10%' THEN '8x10' WHEN size ILIKE '%5%x%7%' THEN '5x7' WHEN size ILIKE '%2.5%x%7%' THEN '2.5x7' WHEN size ILIKE '%6%x%9%' THEN '6x9' END size, SUM(CASE WHEN send_back__type IN ('exchange') AND plant IN ('N/A') AND return_created_date <= fulfillment_week_ended+21 THEN 1 ELSE 0 END) qty_returned, COUNT(*) qty_sold, SUM(CASE WHEN send_back__type IN ('exchange') AND plant IN ('N/A') AND return_created_date <= fulfillment_week_ended+21 THEN 1 ELSE 0 END) * 1.0 / COUNT(*) rate FROM product_pull.ret_exch_rep_data_final GROUP BY 1, 2, 3, 4, 5, 6 HAVING DATE_PART('year', fulfillment_week_ended) >= 2020 ORDER BY 1 DESC\n",
      "SELECT fulfillment_week_ended week_ended, 'forecast' AS view, CASE WHEN shape = 'Rectangle' AND size NOT ILIKE ('%9%x%12%') AND texture = 'Chenille' AND purpose != 'Outdoor' THEN 'rectangular_chenille' WHEN texture = 'Shag' THEN 'shag' WHEN shape = 'Round' THEN 'round' WHEN purpose = 'Outdoor' THEN 'outdoor' WHEN texture = 'Plush' THEN 'plush' WHEN size ILIKE ('%9%x%12%') THEN '9x12' WHEN texture = 'Rubber' AND product_sub_type = 'classic' THEN 'classic_rug_pad' WHEN texture = 'Rubber' AND product_sub_type = 'cushioned' THEN 'cushioned_rug_pad' END product, 'send_back_both' send_back__type, 'all' plant, 'all' size, SUM(CASE WHEN send_back__type IN ('return', 'exchange') AND plant IN ('LA', 'CHI', 'N/A') AND return_created_date <= fulfillment_week_ended+21 THEN 1 ELSE 0 END) qty_returned, COUNT(*) qty_sold, SUM(CASE WHEN send_back__type IN ('return', 'exchange') AND plant IN ('LA', 'CHI', 'N/A') AND return_created_date <= fulfillment_week_ended+21 THEN 1 ELSE 0 END) * 1.0 / COUNT(*) rate FROM product_pull.ret_exch_rep_data_final GROUP BY 1, 2, 3, 4, 5, 6 HAVING DATE_PART('year', fulfillment_week_ended) >= 2020 ORDER BY 1 DESC\n",
      "SELECT fulfillment_week_ended week_ended, 'forecast' AS view, CASE WHEN shape = 'Rectangle' AND size NOT ILIKE ('%9%x%12%') AND texture = 'Chenille' AND purpose != 'Outdoor' THEN 'rectangular_chenille' WHEN texture = 'Shag' THEN 'shag' WHEN shape = 'Round' THEN 'round' WHEN purpose = 'Outdoor' THEN 'outdoor' WHEN texture = 'Plush' THEN 'plush' WHEN size ILIKE ('%9%x%12%') THEN '9x12' WHEN texture = 'Rubber' AND product_sub_type = 'classic' THEN 'classic_rug_pad' WHEN texture = 'Rubber' AND product_sub_type = 'cushioned' THEN 'cushioned_rug_pad' END product, 'send_back_both' send_back__type, 'all' plant, CASE WHEN size ILIKE '%3%x%5%' THEN '3x5' WHEN size ILIKE '%8%r%' THEN '8-Round' WHEN size ILIKE '%6%r%' THEN '6-Round' WHEN size ILIKE '%2.5%x%10%' THEN '2.5x10' WHEN size ILIKE '%9%x%12%' THEN '9x12' WHEN size ILIKE '%8%x%10%' THEN '8x10' WHEN size ILIKE '%5%x%7%' THEN '5x7' WHEN size ILIKE '%2.5%x%7%' THEN '2.5x7' WHEN size ILIKE '%6%x%9%' THEN '6x9' END size, SUM(CASE WHEN send_back__type IN ('return', 'exchange') AND plant IN ('LA', 'CHI', 'N/A') AND return_created_date <= fulfillment_week_ended+21 THEN 1 ELSE 0 END) qty_returned, COUNT(*) qty_sold, SUM(CASE WHEN send_back__type IN ('return', 'exchange') AND plant IN ('LA', 'CHI', 'N/A') AND return_created_date <= fulfillment_week_ended+21 THEN 1 ELSE 0 END) * 1.0 / COUNT(*) rate FROM product_pull.ret_exch_rep_data_final GROUP BY 1, 2, 3, 4, 5, 6 HAVING DATE_PART('year', fulfillment_week_ended) >= 2020 ORDER BY 1 DESC\n",
      "SELECT fulfillment_week_ended week_ended, 'forecast' AS view, CASE WHEN shape = 'Rectangle' AND size NOT ILIKE ('%9%x%12%') AND texture = 'Chenille' AND purpose != 'Outdoor' THEN 'rectangular_chenille' WHEN texture = 'Shag' THEN 'shag' WHEN shape = 'Round' THEN 'round' WHEN purpose = 'Outdoor' THEN 'outdoor' WHEN texture = 'Plush' THEN 'plush' WHEN size ILIKE ('%9%x%12%') THEN '9x12' WHEN texture = 'Rubber' AND product_sub_type = 'classic' THEN 'classic_rug_pad' WHEN texture = 'Rubber' AND product_sub_type = 'cushioned' THEN 'cushioned_rug_pad' END product, 'send_back_both' send_back__type, 'LA' plant, 'all' size, SUM(CASE WHEN send_back__type IN ('return', 'exchange') AND plant IN ('LA') AND return_created_date <= fulfillment_week_ended+21 THEN 1 ELSE 0 END) qty_returned, COUNT(*) qty_sold, SUM(CASE WHEN send_back__type IN ('return', 'exchange') AND plant IN ('LA') AND return_created_date <= fulfillment_week_ended+21 THEN 1 ELSE 0 END) * 1.0 / COUNT(*) rate FROM product_pull.ret_exch_rep_data_final GROUP BY 1, 2, 3, 4, 5, 6 HAVING DATE_PART('year', fulfillment_week_ended) >= 2020 ORDER BY 1 DESC\n",
      "SELECT fulfillment_week_ended week_ended, 'forecast' AS view, CASE WHEN shape = 'Rectangle' AND size NOT ILIKE ('%9%x%12%') AND texture = 'Chenille' AND purpose != 'Outdoor' THEN 'rectangular_chenille' WHEN texture = 'Shag' THEN 'shag' WHEN shape = 'Round' THEN 'round' WHEN purpose = 'Outdoor' THEN 'outdoor' WHEN texture = 'Plush' THEN 'plush' WHEN size ILIKE ('%9%x%12%') THEN '9x12' WHEN texture = 'Rubber' AND product_sub_type = 'classic' THEN 'classic_rug_pad' WHEN texture = 'Rubber' AND product_sub_type = 'cushioned' THEN 'cushioned_rug_pad' END product, 'send_back_both' send_back__type, 'LA' plant, CASE WHEN size ILIKE '%3%x%5%' THEN '3x5' WHEN size ILIKE '%8%r%' THEN '8-Round' WHEN size ILIKE '%6%r%' THEN '6-Round' WHEN size ILIKE '%2.5%x%10%' THEN '2.5x10' WHEN size ILIKE '%9%x%12%' THEN '9x12' WHEN size ILIKE '%8%x%10%' THEN '8x10' WHEN size ILIKE '%5%x%7%' THEN '5x7' WHEN size ILIKE '%2.5%x%7%' THEN '2.5x7' WHEN size ILIKE '%6%x%9%' THEN '6x9' END size, SUM(CASE WHEN send_back__type IN ('return', 'exchange') AND plant IN ('LA') AND return_created_date <= fulfillment_week_ended+21 THEN 1 ELSE 0 END) qty_returned, COUNT(*) qty_sold, SUM(CASE WHEN send_back__type IN ('return', 'exchange') AND plant IN ('LA') AND return_created_date <= fulfillment_week_ended+21 THEN 1 ELSE 0 END) * 1.0 / COUNT(*) rate FROM product_pull.ret_exch_rep_data_final GROUP BY 1, 2, 3, 4, 5, 6 HAVING DATE_PART('year', fulfillment_week_ended) >= 2020 ORDER BY 1 DESC\n"
     ]
    },
    {
     "name": "stdout",
     "output_type": "stream",
     "text": [
      "SELECT fulfillment_week_ended week_ended, 'forecast' AS view, CASE WHEN shape = 'Rectangle' AND size NOT ILIKE ('%9%x%12%') AND texture = 'Chenille' AND purpose != 'Outdoor' THEN 'rectangular_chenille' WHEN texture = 'Shag' THEN 'shag' WHEN shape = 'Round' THEN 'round' WHEN purpose = 'Outdoor' THEN 'outdoor' WHEN texture = 'Plush' THEN 'plush' WHEN size ILIKE ('%9%x%12%') THEN '9x12' WHEN texture = 'Rubber' AND product_sub_type = 'classic' THEN 'classic_rug_pad' WHEN texture = 'Rubber' AND product_sub_type = 'cushioned' THEN 'cushioned_rug_pad' END product, 'send_back_both' send_back__type, 'CHI' plant, 'all' size, SUM(CASE WHEN send_back__type IN ('return', 'exchange') AND plant IN ('CHI') AND return_created_date <= fulfillment_week_ended+21 THEN 1 ELSE 0 END) qty_returned, COUNT(*) qty_sold, SUM(CASE WHEN send_back__type IN ('return', 'exchange') AND plant IN ('CHI') AND return_created_date <= fulfillment_week_ended+21 THEN 1 ELSE 0 END) * 1.0 / COUNT(*) rate FROM product_pull.ret_exch_rep_data_final GROUP BY 1, 2, 3, 4, 5, 6 HAVING DATE_PART('year', fulfillment_week_ended) >= 2020 ORDER BY 1 DESC\n",
      "SELECT fulfillment_week_ended week_ended, 'forecast' AS view, CASE WHEN shape = 'Rectangle' AND size NOT ILIKE ('%9%x%12%') AND texture = 'Chenille' AND purpose != 'Outdoor' THEN 'rectangular_chenille' WHEN texture = 'Shag' THEN 'shag' WHEN shape = 'Round' THEN 'round' WHEN purpose = 'Outdoor' THEN 'outdoor' WHEN texture = 'Plush' THEN 'plush' WHEN size ILIKE ('%9%x%12%') THEN '9x12' WHEN texture = 'Rubber' AND product_sub_type = 'classic' THEN 'classic_rug_pad' WHEN texture = 'Rubber' AND product_sub_type = 'cushioned' THEN 'cushioned_rug_pad' END product, 'send_back_both' send_back__type, 'CHI' plant, CASE WHEN size ILIKE '%3%x%5%' THEN '3x5' WHEN size ILIKE '%8%r%' THEN '8-Round' WHEN size ILIKE '%6%r%' THEN '6-Round' WHEN size ILIKE '%2.5%x%10%' THEN '2.5x10' WHEN size ILIKE '%9%x%12%' THEN '9x12' WHEN size ILIKE '%8%x%10%' THEN '8x10' WHEN size ILIKE '%5%x%7%' THEN '5x7' WHEN size ILIKE '%2.5%x%7%' THEN '2.5x7' WHEN size ILIKE '%6%x%9%' THEN '6x9' END size, SUM(CASE WHEN send_back__type IN ('return', 'exchange') AND plant IN ('CHI') AND return_created_date <= fulfillment_week_ended+21 THEN 1 ELSE 0 END) qty_returned, COUNT(*) qty_sold, SUM(CASE WHEN send_back__type IN ('return', 'exchange') AND plant IN ('CHI') AND return_created_date <= fulfillment_week_ended+21 THEN 1 ELSE 0 END) * 1.0 / COUNT(*) rate FROM product_pull.ret_exch_rep_data_final GROUP BY 1, 2, 3, 4, 5, 6 HAVING DATE_PART('year', fulfillment_week_ended) >= 2020 ORDER BY 1 DESC\n",
      "SELECT fulfillment_week_ended week_ended, 'forecast' AS view, CASE WHEN shape = 'Rectangle' AND size NOT ILIKE ('%9%x%12%') AND texture = 'Chenille' AND purpose != 'Outdoor' THEN 'rectangular_chenille' WHEN texture = 'Shag' THEN 'shag' WHEN shape = 'Round' THEN 'round' WHEN purpose = 'Outdoor' THEN 'outdoor' WHEN texture = 'Plush' THEN 'plush' WHEN size ILIKE ('%9%x%12%') THEN '9x12' WHEN texture = 'Rubber' AND product_sub_type = 'classic' THEN 'classic_rug_pad' WHEN texture = 'Rubber' AND product_sub_type = 'cushioned' THEN 'cushioned_rug_pad' END product, 'send_back_both' send_back__type, 'N/A' plant, 'all' size, SUM(CASE WHEN send_back__type IN ('return', 'exchange') AND plant IN ('N/A') AND return_created_date <= fulfillment_week_ended+21 THEN 1 ELSE 0 END) qty_returned, COUNT(*) qty_sold, SUM(CASE WHEN send_back__type IN ('return', 'exchange') AND plant IN ('N/A') AND return_created_date <= fulfillment_week_ended+21 THEN 1 ELSE 0 END) * 1.0 / COUNT(*) rate FROM product_pull.ret_exch_rep_data_final GROUP BY 1, 2, 3, 4, 5, 6 HAVING DATE_PART('year', fulfillment_week_ended) >= 2020 ORDER BY 1 DESC\n",
      "SELECT fulfillment_week_ended week_ended, 'forecast' AS view, CASE WHEN shape = 'Rectangle' AND size NOT ILIKE ('%9%x%12%') AND texture = 'Chenille' AND purpose != 'Outdoor' THEN 'rectangular_chenille' WHEN texture = 'Shag' THEN 'shag' WHEN shape = 'Round' THEN 'round' WHEN purpose = 'Outdoor' THEN 'outdoor' WHEN texture = 'Plush' THEN 'plush' WHEN size ILIKE ('%9%x%12%') THEN '9x12' WHEN texture = 'Rubber' AND product_sub_type = 'classic' THEN 'classic_rug_pad' WHEN texture = 'Rubber' AND product_sub_type = 'cushioned' THEN 'cushioned_rug_pad' END product, 'send_back_both' send_back__type, 'N/A' plant, CASE WHEN size ILIKE '%3%x%5%' THEN '3x5' WHEN size ILIKE '%8%r%' THEN '8-Round' WHEN size ILIKE '%6%r%' THEN '6-Round' WHEN size ILIKE '%2.5%x%10%' THEN '2.5x10' WHEN size ILIKE '%9%x%12%' THEN '9x12' WHEN size ILIKE '%8%x%10%' THEN '8x10' WHEN size ILIKE '%5%x%7%' THEN '5x7' WHEN size ILIKE '%2.5%x%7%' THEN '2.5x7' WHEN size ILIKE '%6%x%9%' THEN '6x9' END size, SUM(CASE WHEN send_back__type IN ('return', 'exchange') AND plant IN ('N/A') AND return_created_date <= fulfillment_week_ended+21 THEN 1 ELSE 0 END) qty_returned, COUNT(*) qty_sold, SUM(CASE WHEN send_back__type IN ('return', 'exchange') AND plant IN ('N/A') AND return_created_date <= fulfillment_week_ended+21 THEN 1 ELSE 0 END) * 1.0 / COUNT(*) rate FROM product_pull.ret_exch_rep_data_final GROUP BY 1, 2, 3, 4, 5, 6 HAVING DATE_PART('year', fulfillment_week_ended) >= 2020 ORDER BY 1 DESC\n",
      "SELECT fulfillment_week_ended week_ended, 'forecast' AS view, CASE WHEN shape = 'Rectangle' AND size NOT ILIKE ('%9%x%12%') AND texture = 'Chenille' AND purpose != 'Outdoor' THEN 'rectangular_chenille' WHEN texture = 'Shag' THEN 'shag' WHEN shape = 'Round' THEN 'round' WHEN purpose = 'Outdoor' THEN 'outdoor' WHEN texture = 'Plush' THEN 'plush' WHEN size ILIKE ('%9%x%12%') THEN '9x12' WHEN texture = 'Rubber' AND product_sub_type = 'classic' THEN 'classic_rug_pad' WHEN texture = 'Rubber' AND product_sub_type = 'cushioned' THEN 'cushioned_rug_pad' END product, 'return' send_back__type, 'all' plant, 'all' size, SUM(CASE WHEN send_back__type IN ('return') AND plant IN ('LA', 'CHI', 'N/A') AND return_created_date <= fulfillment_week_ended+21 THEN 1 ELSE 0 END) qty_returned, COUNT(*) qty_sold, SUM(CASE WHEN send_back__type IN ('return') AND plant IN ('LA', 'CHI', 'N/A') AND return_created_date <= fulfillment_week_ended+21 THEN 1 ELSE 0 END) * 1.0 / COUNT(*) rate FROM product_pull.ret_exch_rep_data_final GROUP BY 1, 2, 3, 4, 5, 6 HAVING DATE_PART('year', fulfillment_week_ended) >= 2020 ORDER BY 1 DESC\n",
      "SELECT fulfillment_week_ended week_ended, 'forecast' AS view, CASE WHEN shape = 'Rectangle' AND size NOT ILIKE ('%9%x%12%') AND texture = 'Chenille' AND purpose != 'Outdoor' THEN 'rectangular_chenille' WHEN texture = 'Shag' THEN 'shag' WHEN shape = 'Round' THEN 'round' WHEN purpose = 'Outdoor' THEN 'outdoor' WHEN texture = 'Plush' THEN 'plush' WHEN size ILIKE ('%9%x%12%') THEN '9x12' WHEN texture = 'Rubber' AND product_sub_type = 'classic' THEN 'classic_rug_pad' WHEN texture = 'Rubber' AND product_sub_type = 'cushioned' THEN 'cushioned_rug_pad' END product, 'return' send_back__type, 'all' plant, CASE WHEN size ILIKE '%3%x%5%' THEN '3x5' WHEN size ILIKE '%8%r%' THEN '8-Round' WHEN size ILIKE '%6%r%' THEN '6-Round' WHEN size ILIKE '%2.5%x%10%' THEN '2.5x10' WHEN size ILIKE '%9%x%12%' THEN '9x12' WHEN size ILIKE '%8%x%10%' THEN '8x10' WHEN size ILIKE '%5%x%7%' THEN '5x7' WHEN size ILIKE '%2.5%x%7%' THEN '2.5x7' WHEN size ILIKE '%6%x%9%' THEN '6x9' END size, SUM(CASE WHEN send_back__type IN ('return') AND plant IN ('LA', 'CHI', 'N/A') AND return_created_date <= fulfillment_week_ended+21 THEN 1 ELSE 0 END) qty_returned, COUNT(*) qty_sold, SUM(CASE WHEN send_back__type IN ('return') AND plant IN ('LA', 'CHI', 'N/A') AND return_created_date <= fulfillment_week_ended+21 THEN 1 ELSE 0 END) * 1.0 / COUNT(*) rate FROM product_pull.ret_exch_rep_data_final GROUP BY 1, 2, 3, 4, 5, 6 HAVING DATE_PART('year', fulfillment_week_ended) >= 2020 ORDER BY 1 DESC\n",
      "SELECT fulfillment_week_ended week_ended, 'forecast' AS view, CASE WHEN shape = 'Rectangle' AND size NOT ILIKE ('%9%x%12%') AND texture = 'Chenille' AND purpose != 'Outdoor' THEN 'rectangular_chenille' WHEN texture = 'Shag' THEN 'shag' WHEN shape = 'Round' THEN 'round' WHEN purpose = 'Outdoor' THEN 'outdoor' WHEN texture = 'Plush' THEN 'plush' WHEN size ILIKE ('%9%x%12%') THEN '9x12' WHEN texture = 'Rubber' AND product_sub_type = 'classic' THEN 'classic_rug_pad' WHEN texture = 'Rubber' AND product_sub_type = 'cushioned' THEN 'cushioned_rug_pad' END product, 'return' send_back__type, 'LA' plant, 'all' size, SUM(CASE WHEN send_back__type IN ('return') AND plant IN ('LA') AND return_created_date <= fulfillment_week_ended+21 THEN 1 ELSE 0 END) qty_returned, COUNT(*) qty_sold, SUM(CASE WHEN send_back__type IN ('return') AND plant IN ('LA') AND return_created_date <= fulfillment_week_ended+21 THEN 1 ELSE 0 END) * 1.0 / COUNT(*) rate FROM product_pull.ret_exch_rep_data_final GROUP BY 1, 2, 3, 4, 5, 6 HAVING DATE_PART('year', fulfillment_week_ended) >= 2020 ORDER BY 1 DESC\n"
     ]
    },
    {
     "name": "stdout",
     "output_type": "stream",
     "text": [
      "SELECT fulfillment_week_ended week_ended, 'forecast' AS view, CASE WHEN shape = 'Rectangle' AND size NOT ILIKE ('%9%x%12%') AND texture = 'Chenille' AND purpose != 'Outdoor' THEN 'rectangular_chenille' WHEN texture = 'Shag' THEN 'shag' WHEN shape = 'Round' THEN 'round' WHEN purpose = 'Outdoor' THEN 'outdoor' WHEN texture = 'Plush' THEN 'plush' WHEN size ILIKE ('%9%x%12%') THEN '9x12' WHEN texture = 'Rubber' AND product_sub_type = 'classic' THEN 'classic_rug_pad' WHEN texture = 'Rubber' AND product_sub_type = 'cushioned' THEN 'cushioned_rug_pad' END product, 'return' send_back__type, 'LA' plant, CASE WHEN size ILIKE '%3%x%5%' THEN '3x5' WHEN size ILIKE '%8%r%' THEN '8-Round' WHEN size ILIKE '%6%r%' THEN '6-Round' WHEN size ILIKE '%2.5%x%10%' THEN '2.5x10' WHEN size ILIKE '%9%x%12%' THEN '9x12' WHEN size ILIKE '%8%x%10%' THEN '8x10' WHEN size ILIKE '%5%x%7%' THEN '5x7' WHEN size ILIKE '%2.5%x%7%' THEN '2.5x7' WHEN size ILIKE '%6%x%9%' THEN '6x9' END size, SUM(CASE WHEN send_back__type IN ('return') AND plant IN ('LA') AND return_created_date <= fulfillment_week_ended+21 THEN 1 ELSE 0 END) qty_returned, COUNT(*) qty_sold, SUM(CASE WHEN send_back__type IN ('return') AND plant IN ('LA') AND return_created_date <= fulfillment_week_ended+21 THEN 1 ELSE 0 END) * 1.0 / COUNT(*) rate FROM product_pull.ret_exch_rep_data_final GROUP BY 1, 2, 3, 4, 5, 6 HAVING DATE_PART('year', fulfillment_week_ended) >= 2020 ORDER BY 1 DESC\n",
      "SELECT fulfillment_week_ended week_ended, 'forecast' AS view, CASE WHEN shape = 'Rectangle' AND size NOT ILIKE ('%9%x%12%') AND texture = 'Chenille' AND purpose != 'Outdoor' THEN 'rectangular_chenille' WHEN texture = 'Shag' THEN 'shag' WHEN shape = 'Round' THEN 'round' WHEN purpose = 'Outdoor' THEN 'outdoor' WHEN texture = 'Plush' THEN 'plush' WHEN size ILIKE ('%9%x%12%') THEN '9x12' WHEN texture = 'Rubber' AND product_sub_type = 'classic' THEN 'classic_rug_pad' WHEN texture = 'Rubber' AND product_sub_type = 'cushioned' THEN 'cushioned_rug_pad' END product, 'return' send_back__type, 'CHI' plant, 'all' size, SUM(CASE WHEN send_back__type IN ('return') AND plant IN ('CHI') AND return_created_date <= fulfillment_week_ended+21 THEN 1 ELSE 0 END) qty_returned, COUNT(*) qty_sold, SUM(CASE WHEN send_back__type IN ('return') AND plant IN ('CHI') AND return_created_date <= fulfillment_week_ended+21 THEN 1 ELSE 0 END) * 1.0 / COUNT(*) rate FROM product_pull.ret_exch_rep_data_final GROUP BY 1, 2, 3, 4, 5, 6 HAVING DATE_PART('year', fulfillment_week_ended) >= 2020 ORDER BY 1 DESC\n",
      "SELECT fulfillment_week_ended week_ended, 'forecast' AS view, CASE WHEN shape = 'Rectangle' AND size NOT ILIKE ('%9%x%12%') AND texture = 'Chenille' AND purpose != 'Outdoor' THEN 'rectangular_chenille' WHEN texture = 'Shag' THEN 'shag' WHEN shape = 'Round' THEN 'round' WHEN purpose = 'Outdoor' THEN 'outdoor' WHEN texture = 'Plush' THEN 'plush' WHEN size ILIKE ('%9%x%12%') THEN '9x12' WHEN texture = 'Rubber' AND product_sub_type = 'classic' THEN 'classic_rug_pad' WHEN texture = 'Rubber' AND product_sub_type = 'cushioned' THEN 'cushioned_rug_pad' END product, 'return' send_back__type, 'CHI' plant, CASE WHEN size ILIKE '%3%x%5%' THEN '3x5' WHEN size ILIKE '%8%r%' THEN '8-Round' WHEN size ILIKE '%6%r%' THEN '6-Round' WHEN size ILIKE '%2.5%x%10%' THEN '2.5x10' WHEN size ILIKE '%9%x%12%' THEN '9x12' WHEN size ILIKE '%8%x%10%' THEN '8x10' WHEN size ILIKE '%5%x%7%' THEN '5x7' WHEN size ILIKE '%2.5%x%7%' THEN '2.5x7' WHEN size ILIKE '%6%x%9%' THEN '6x9' END size, SUM(CASE WHEN send_back__type IN ('return') AND plant IN ('CHI') AND return_created_date <= fulfillment_week_ended+21 THEN 1 ELSE 0 END) qty_returned, COUNT(*) qty_sold, SUM(CASE WHEN send_back__type IN ('return') AND plant IN ('CHI') AND return_created_date <= fulfillment_week_ended+21 THEN 1 ELSE 0 END) * 1.0 / COUNT(*) rate FROM product_pull.ret_exch_rep_data_final GROUP BY 1, 2, 3, 4, 5, 6 HAVING DATE_PART('year', fulfillment_week_ended) >= 2020 ORDER BY 1 DESC\n",
      "SELECT fulfillment_week_ended week_ended, 'forecast' AS view, CASE WHEN shape = 'Rectangle' AND size NOT ILIKE ('%9%x%12%') AND texture = 'Chenille' AND purpose != 'Outdoor' THEN 'rectangular_chenille' WHEN texture = 'Shag' THEN 'shag' WHEN shape = 'Round' THEN 'round' WHEN purpose = 'Outdoor' THEN 'outdoor' WHEN texture = 'Plush' THEN 'plush' WHEN size ILIKE ('%9%x%12%') THEN '9x12' WHEN texture = 'Rubber' AND product_sub_type = 'classic' THEN 'classic_rug_pad' WHEN texture = 'Rubber' AND product_sub_type = 'cushioned' THEN 'cushioned_rug_pad' END product, 'return' send_back__type, 'N/A' plant, 'all' size, SUM(CASE WHEN send_back__type IN ('return') AND plant IN ('N/A') AND return_created_date <= fulfillment_week_ended+21 THEN 1 ELSE 0 END) qty_returned, COUNT(*) qty_sold, SUM(CASE WHEN send_back__type IN ('return') AND plant IN ('N/A') AND return_created_date <= fulfillment_week_ended+21 THEN 1 ELSE 0 END) * 1.0 / COUNT(*) rate FROM product_pull.ret_exch_rep_data_final GROUP BY 1, 2, 3, 4, 5, 6 HAVING DATE_PART('year', fulfillment_week_ended) >= 2020 ORDER BY 1 DESC\n",
      "SELECT fulfillment_week_ended week_ended, 'forecast' AS view, CASE WHEN shape = 'Rectangle' AND size NOT ILIKE ('%9%x%12%') AND texture = 'Chenille' AND purpose != 'Outdoor' THEN 'rectangular_chenille' WHEN texture = 'Shag' THEN 'shag' WHEN shape = 'Round' THEN 'round' WHEN purpose = 'Outdoor' THEN 'outdoor' WHEN texture = 'Plush' THEN 'plush' WHEN size ILIKE ('%9%x%12%') THEN '9x12' WHEN texture = 'Rubber' AND product_sub_type = 'classic' THEN 'classic_rug_pad' WHEN texture = 'Rubber' AND product_sub_type = 'cushioned' THEN 'cushioned_rug_pad' END product, 'return' send_back__type, 'N/A' plant, CASE WHEN size ILIKE '%3%x%5%' THEN '3x5' WHEN size ILIKE '%8%r%' THEN '8-Round' WHEN size ILIKE '%6%r%' THEN '6-Round' WHEN size ILIKE '%2.5%x%10%' THEN '2.5x10' WHEN size ILIKE '%9%x%12%' THEN '9x12' WHEN size ILIKE '%8%x%10%' THEN '8x10' WHEN size ILIKE '%5%x%7%' THEN '5x7' WHEN size ILIKE '%2.5%x%7%' THEN '2.5x7' WHEN size ILIKE '%6%x%9%' THEN '6x9' END size, SUM(CASE WHEN send_back__type IN ('return') AND plant IN ('N/A') AND return_created_date <= fulfillment_week_ended+21 THEN 1 ELSE 0 END) qty_returned, COUNT(*) qty_sold, SUM(CASE WHEN send_back__type IN ('return') AND plant IN ('N/A') AND return_created_date <= fulfillment_week_ended+21 THEN 1 ELSE 0 END) * 1.0 / COUNT(*) rate FROM product_pull.ret_exch_rep_data_final GROUP BY 1, 2, 3, 4, 5, 6 HAVING DATE_PART('year', fulfillment_week_ended) >= 2020 ORDER BY 1 DESC\n",
      "SELECT fulfillment_week_ended week_ended, 'forecast' AS view, CASE WHEN shape = 'Rectangle' AND size NOT ILIKE ('%9%x%12%') AND texture = 'Chenille' AND purpose != 'Outdoor' THEN 'rectangular_chenille' WHEN texture = 'Shag' THEN 'shag' WHEN shape = 'Round' THEN 'round' WHEN purpose = 'Outdoor' THEN 'outdoor' WHEN texture = 'Plush' THEN 'plush' WHEN size ILIKE ('%9%x%12%') THEN '9x12' WHEN texture = 'Rubber' AND product_sub_type = 'classic' THEN 'classic_rug_pad' WHEN texture = 'Rubber' AND product_sub_type = 'cushioned' THEN 'cushioned_rug_pad' END product, 'exchange' send_back__type, 'all' plant, 'all' size, SUM(CASE WHEN send_back__type IN ('exchange') AND plant IN ('LA', 'CHI', 'N/A') AND return_created_date <= fulfillment_week_ended+21 THEN 1 ELSE 0 END) qty_returned, COUNT(*) qty_sold, SUM(CASE WHEN send_back__type IN ('exchange') AND plant IN ('LA', 'CHI', 'N/A') AND return_created_date <= fulfillment_week_ended+21 THEN 1 ELSE 0 END) * 1.0 / COUNT(*) rate FROM product_pull.ret_exch_rep_data_final GROUP BY 1, 2, 3, 4, 5, 6 HAVING DATE_PART('year', fulfillment_week_ended) >= 2020 ORDER BY 1 DESC\n",
      "SELECT fulfillment_week_ended week_ended, 'forecast' AS view, CASE WHEN shape = 'Rectangle' AND size NOT ILIKE ('%9%x%12%') AND texture = 'Chenille' AND purpose != 'Outdoor' THEN 'rectangular_chenille' WHEN texture = 'Shag' THEN 'shag' WHEN shape = 'Round' THEN 'round' WHEN purpose = 'Outdoor' THEN 'outdoor' WHEN texture = 'Plush' THEN 'plush' WHEN size ILIKE ('%9%x%12%') THEN '9x12' WHEN texture = 'Rubber' AND product_sub_type = 'classic' THEN 'classic_rug_pad' WHEN texture = 'Rubber' AND product_sub_type = 'cushioned' THEN 'cushioned_rug_pad' END product, 'exchange' send_back__type, 'all' plant, CASE WHEN size ILIKE '%3%x%5%' THEN '3x5' WHEN size ILIKE '%8%r%' THEN '8-Round' WHEN size ILIKE '%6%r%' THEN '6-Round' WHEN size ILIKE '%2.5%x%10%' THEN '2.5x10' WHEN size ILIKE '%9%x%12%' THEN '9x12' WHEN size ILIKE '%8%x%10%' THEN '8x10' WHEN size ILIKE '%5%x%7%' THEN '5x7' WHEN size ILIKE '%2.5%x%7%' THEN '2.5x7' WHEN size ILIKE '%6%x%9%' THEN '6x9' END size, SUM(CASE WHEN send_back__type IN ('exchange') AND plant IN ('LA', 'CHI', 'N/A') AND return_created_date <= fulfillment_week_ended+21 THEN 1 ELSE 0 END) qty_returned, COUNT(*) qty_sold, SUM(CASE WHEN send_back__type IN ('exchange') AND plant IN ('LA', 'CHI', 'N/A') AND return_created_date <= fulfillment_week_ended+21 THEN 1 ELSE 0 END) * 1.0 / COUNT(*) rate FROM product_pull.ret_exch_rep_data_final GROUP BY 1, 2, 3, 4, 5, 6 HAVING DATE_PART('year', fulfillment_week_ended) >= 2020 ORDER BY 1 DESC\n"
     ]
    },
    {
     "name": "stdout",
     "output_type": "stream",
     "text": [
      "SELECT fulfillment_week_ended week_ended, 'forecast' AS view, CASE WHEN shape = 'Rectangle' AND size NOT ILIKE ('%9%x%12%') AND texture = 'Chenille' AND purpose != 'Outdoor' THEN 'rectangular_chenille' WHEN texture = 'Shag' THEN 'shag' WHEN shape = 'Round' THEN 'round' WHEN purpose = 'Outdoor' THEN 'outdoor' WHEN texture = 'Plush' THEN 'plush' WHEN size ILIKE ('%9%x%12%') THEN '9x12' WHEN texture = 'Rubber' AND product_sub_type = 'classic' THEN 'classic_rug_pad' WHEN texture = 'Rubber' AND product_sub_type = 'cushioned' THEN 'cushioned_rug_pad' END product, 'exchange' send_back__type, 'LA' plant, 'all' size, SUM(CASE WHEN send_back__type IN ('exchange') AND plant IN ('LA') AND return_created_date <= fulfillment_week_ended+21 THEN 1 ELSE 0 END) qty_returned, COUNT(*) qty_sold, SUM(CASE WHEN send_back__type IN ('exchange') AND plant IN ('LA') AND return_created_date <= fulfillment_week_ended+21 THEN 1 ELSE 0 END) * 1.0 / COUNT(*) rate FROM product_pull.ret_exch_rep_data_final GROUP BY 1, 2, 3, 4, 5, 6 HAVING DATE_PART('year', fulfillment_week_ended) >= 2020 ORDER BY 1 DESC\n",
      "SELECT fulfillment_week_ended week_ended, 'forecast' AS view, CASE WHEN shape = 'Rectangle' AND size NOT ILIKE ('%9%x%12%') AND texture = 'Chenille' AND purpose != 'Outdoor' THEN 'rectangular_chenille' WHEN texture = 'Shag' THEN 'shag' WHEN shape = 'Round' THEN 'round' WHEN purpose = 'Outdoor' THEN 'outdoor' WHEN texture = 'Plush' THEN 'plush' WHEN size ILIKE ('%9%x%12%') THEN '9x12' WHEN texture = 'Rubber' AND product_sub_type = 'classic' THEN 'classic_rug_pad' WHEN texture = 'Rubber' AND product_sub_type = 'cushioned' THEN 'cushioned_rug_pad' END product, 'exchange' send_back__type, 'LA' plant, CASE WHEN size ILIKE '%3%x%5%' THEN '3x5' WHEN size ILIKE '%8%r%' THEN '8-Round' WHEN size ILIKE '%6%r%' THEN '6-Round' WHEN size ILIKE '%2.5%x%10%' THEN '2.5x10' WHEN size ILIKE '%9%x%12%' THEN '9x12' WHEN size ILIKE '%8%x%10%' THEN '8x10' WHEN size ILIKE '%5%x%7%' THEN '5x7' WHEN size ILIKE '%2.5%x%7%' THEN '2.5x7' WHEN size ILIKE '%6%x%9%' THEN '6x9' END size, SUM(CASE WHEN send_back__type IN ('exchange') AND plant IN ('LA') AND return_created_date <= fulfillment_week_ended+21 THEN 1 ELSE 0 END) qty_returned, COUNT(*) qty_sold, SUM(CASE WHEN send_back__type IN ('exchange') AND plant IN ('LA') AND return_created_date <= fulfillment_week_ended+21 THEN 1 ELSE 0 END) * 1.0 / COUNT(*) rate FROM product_pull.ret_exch_rep_data_final GROUP BY 1, 2, 3, 4, 5, 6 HAVING DATE_PART('year', fulfillment_week_ended) >= 2020 ORDER BY 1 DESC\n",
      "SELECT fulfillment_week_ended week_ended, 'forecast' AS view, CASE WHEN shape = 'Rectangle' AND size NOT ILIKE ('%9%x%12%') AND texture = 'Chenille' AND purpose != 'Outdoor' THEN 'rectangular_chenille' WHEN texture = 'Shag' THEN 'shag' WHEN shape = 'Round' THEN 'round' WHEN purpose = 'Outdoor' THEN 'outdoor' WHEN texture = 'Plush' THEN 'plush' WHEN size ILIKE ('%9%x%12%') THEN '9x12' WHEN texture = 'Rubber' AND product_sub_type = 'classic' THEN 'classic_rug_pad' WHEN texture = 'Rubber' AND product_sub_type = 'cushioned' THEN 'cushioned_rug_pad' END product, 'exchange' send_back__type, 'CHI' plant, 'all' size, SUM(CASE WHEN send_back__type IN ('exchange') AND plant IN ('CHI') AND return_created_date <= fulfillment_week_ended+21 THEN 1 ELSE 0 END) qty_returned, COUNT(*) qty_sold, SUM(CASE WHEN send_back__type IN ('exchange') AND plant IN ('CHI') AND return_created_date <= fulfillment_week_ended+21 THEN 1 ELSE 0 END) * 1.0 / COUNT(*) rate FROM product_pull.ret_exch_rep_data_final GROUP BY 1, 2, 3, 4, 5, 6 HAVING DATE_PART('year', fulfillment_week_ended) >= 2020 ORDER BY 1 DESC\n",
      "SELECT fulfillment_week_ended week_ended, 'forecast' AS view, CASE WHEN shape = 'Rectangle' AND size NOT ILIKE ('%9%x%12%') AND texture = 'Chenille' AND purpose != 'Outdoor' THEN 'rectangular_chenille' WHEN texture = 'Shag' THEN 'shag' WHEN shape = 'Round' THEN 'round' WHEN purpose = 'Outdoor' THEN 'outdoor' WHEN texture = 'Plush' THEN 'plush' WHEN size ILIKE ('%9%x%12%') THEN '9x12' WHEN texture = 'Rubber' AND product_sub_type = 'classic' THEN 'classic_rug_pad' WHEN texture = 'Rubber' AND product_sub_type = 'cushioned' THEN 'cushioned_rug_pad' END product, 'exchange' send_back__type, 'CHI' plant, CASE WHEN size ILIKE '%3%x%5%' THEN '3x5' WHEN size ILIKE '%8%r%' THEN '8-Round' WHEN size ILIKE '%6%r%' THEN '6-Round' WHEN size ILIKE '%2.5%x%10%' THEN '2.5x10' WHEN size ILIKE '%9%x%12%' THEN '9x12' WHEN size ILIKE '%8%x%10%' THEN '8x10' WHEN size ILIKE '%5%x%7%' THEN '5x7' WHEN size ILIKE '%2.5%x%7%' THEN '2.5x7' WHEN size ILIKE '%6%x%9%' THEN '6x9' END size, SUM(CASE WHEN send_back__type IN ('exchange') AND plant IN ('CHI') AND return_created_date <= fulfillment_week_ended+21 THEN 1 ELSE 0 END) qty_returned, COUNT(*) qty_sold, SUM(CASE WHEN send_back__type IN ('exchange') AND plant IN ('CHI') AND return_created_date <= fulfillment_week_ended+21 THEN 1 ELSE 0 END) * 1.0 / COUNT(*) rate FROM product_pull.ret_exch_rep_data_final GROUP BY 1, 2, 3, 4, 5, 6 HAVING DATE_PART('year', fulfillment_week_ended) >= 2020 ORDER BY 1 DESC\n",
      "SELECT fulfillment_week_ended week_ended, 'forecast' AS view, CASE WHEN shape = 'Rectangle' AND size NOT ILIKE ('%9%x%12%') AND texture = 'Chenille' AND purpose != 'Outdoor' THEN 'rectangular_chenille' WHEN texture = 'Shag' THEN 'shag' WHEN shape = 'Round' THEN 'round' WHEN purpose = 'Outdoor' THEN 'outdoor' WHEN texture = 'Plush' THEN 'plush' WHEN size ILIKE ('%9%x%12%') THEN '9x12' WHEN texture = 'Rubber' AND product_sub_type = 'classic' THEN 'classic_rug_pad' WHEN texture = 'Rubber' AND product_sub_type = 'cushioned' THEN 'cushioned_rug_pad' END product, 'exchange' send_back__type, 'N/A' plant, 'all' size, SUM(CASE WHEN send_back__type IN ('exchange') AND plant IN ('N/A') AND return_created_date <= fulfillment_week_ended+21 THEN 1 ELSE 0 END) qty_returned, COUNT(*) qty_sold, SUM(CASE WHEN send_back__type IN ('exchange') AND plant IN ('N/A') AND return_created_date <= fulfillment_week_ended+21 THEN 1 ELSE 0 END) * 1.0 / COUNT(*) rate FROM product_pull.ret_exch_rep_data_final GROUP BY 1, 2, 3, 4, 5, 6 HAVING DATE_PART('year', fulfillment_week_ended) >= 2020 ORDER BY 1 DESC\n",
      "SELECT fulfillment_week_ended week_ended, 'forecast' AS view, CASE WHEN shape = 'Rectangle' AND size NOT ILIKE ('%9%x%12%') AND texture = 'Chenille' AND purpose != 'Outdoor' THEN 'rectangular_chenille' WHEN texture = 'Shag' THEN 'shag' WHEN shape = 'Round' THEN 'round' WHEN purpose = 'Outdoor' THEN 'outdoor' WHEN texture = 'Plush' THEN 'plush' WHEN size ILIKE ('%9%x%12%') THEN '9x12' WHEN texture = 'Rubber' AND product_sub_type = 'classic' THEN 'classic_rug_pad' WHEN texture = 'Rubber' AND product_sub_type = 'cushioned' THEN 'cushioned_rug_pad' END product, 'exchange' send_back__type, 'N/A' plant, CASE WHEN size ILIKE '%3%x%5%' THEN '3x5' WHEN size ILIKE '%8%r%' THEN '8-Round' WHEN size ILIKE '%6%r%' THEN '6-Round' WHEN size ILIKE '%2.5%x%10%' THEN '2.5x10' WHEN size ILIKE '%9%x%12%' THEN '9x12' WHEN size ILIKE '%8%x%10%' THEN '8x10' WHEN size ILIKE '%5%x%7%' THEN '5x7' WHEN size ILIKE '%2.5%x%7%' THEN '2.5x7' WHEN size ILIKE '%6%x%9%' THEN '6x9' END size, SUM(CASE WHEN send_back__type IN ('exchange') AND plant IN ('N/A') AND return_created_date <= fulfillment_week_ended+21 THEN 1 ELSE 0 END) qty_returned, COUNT(*) qty_sold, SUM(CASE WHEN send_back__type IN ('exchange') AND plant IN ('N/A') AND return_created_date <= fulfillment_week_ended+21 THEN 1 ELSE 0 END) * 1.0 / COUNT(*) rate FROM product_pull.ret_exch_rep_data_final GROUP BY 1, 2, 3, 4, 5, 6 HAVING DATE_PART('year', fulfillment_week_ended) >= 2020 ORDER BY 1 DESC\n",
      "SELECT fulfillment_week_ended week_ended, 'forecast' AS view, CASE WHEN product_sub_type = 'cushioned' THEN 'cushioned' WHEN product_sub_type = 'classic' THEN 'classic' END product, 'send_back_both' send_back__type, 'all' plant, 'all' size, SUM(CASE WHEN send_back__type IN ('return', 'exchange') AND plant IN ('LA', 'CHI', 'N/A') AND return_created_date <= fulfillment_week_ended+21 THEN 1 ELSE 0 END) qty_returned, COUNT(*) qty_sold, SUM(CASE WHEN send_back__type IN ('return', 'exchange') AND plant IN ('LA', 'CHI', 'N/A') AND return_created_date <= fulfillment_week_ended+21 THEN 1 ELSE 0 END) * 1.0 / COUNT(*) rate FROM product_pull.ret_exch_rep_data_final GROUP BY 1, 2, 3, 4, 5, 6 HAVING DATE_PART('year', fulfillment_week_ended) >= 2020 ORDER BY 1 DESC\n"
     ]
    },
    {
     "name": "stdout",
     "output_type": "stream",
     "text": [
      "SELECT fulfillment_week_ended week_ended, 'forecast' AS view, CASE WHEN product_sub_type = 'cushioned' THEN 'cushioned' WHEN product_sub_type = 'classic' THEN 'classic' END product, 'send_back_both' send_back__type, 'all' plant, CASE WHEN size ILIKE '%3%x%5%' THEN '3x5' WHEN size ILIKE '%8%r%' THEN '8-Round' WHEN size ILIKE '%6%r%' THEN '6-Round' WHEN size ILIKE '%2.5%x%10%' THEN '2.5x10' WHEN size ILIKE '%9%x%12%' THEN '9x12' WHEN size ILIKE '%8%x%10%' THEN '8x10' WHEN size ILIKE '%5%x%7%' THEN '5x7' WHEN size ILIKE '%2.5%x%7%' THEN '2.5x7' WHEN size ILIKE '%6%x%9%' THEN '6x9' END size, SUM(CASE WHEN send_back__type IN ('return', 'exchange') AND plant IN ('LA', 'CHI', 'N/A') AND return_created_date <= fulfillment_week_ended+21 THEN 1 ELSE 0 END) qty_returned, COUNT(*) qty_sold, SUM(CASE WHEN send_back__type IN ('return', 'exchange') AND plant IN ('LA', 'CHI', 'N/A') AND return_created_date <= fulfillment_week_ended+21 THEN 1 ELSE 0 END) * 1.0 / COUNT(*) rate FROM product_pull.ret_exch_rep_data_final GROUP BY 1, 2, 3, 4, 5, 6 HAVING DATE_PART('year', fulfillment_week_ended) >= 2020 ORDER BY 1 DESC\n",
      "SELECT fulfillment_week_ended week_ended, 'forecast' AS view, CASE WHEN product_sub_type = 'cushioned' THEN 'cushioned' WHEN product_sub_type = 'classic' THEN 'classic' END product, 'send_back_both' send_back__type, 'LA' plant, 'all' size, SUM(CASE WHEN send_back__type IN ('return', 'exchange') AND plant IN ('LA') AND return_created_date <= fulfillment_week_ended+21 THEN 1 ELSE 0 END) qty_returned, COUNT(*) qty_sold, SUM(CASE WHEN send_back__type IN ('return', 'exchange') AND plant IN ('LA') AND return_created_date <= fulfillment_week_ended+21 THEN 1 ELSE 0 END) * 1.0 / COUNT(*) rate FROM product_pull.ret_exch_rep_data_final GROUP BY 1, 2, 3, 4, 5, 6 HAVING DATE_PART('year', fulfillment_week_ended) >= 2020 ORDER BY 1 DESC\n",
      "SELECT fulfillment_week_ended week_ended, 'forecast' AS view, CASE WHEN product_sub_type = 'cushioned' THEN 'cushioned' WHEN product_sub_type = 'classic' THEN 'classic' END product, 'send_back_both' send_back__type, 'LA' plant, CASE WHEN size ILIKE '%3%x%5%' THEN '3x5' WHEN size ILIKE '%8%r%' THEN '8-Round' WHEN size ILIKE '%6%r%' THEN '6-Round' WHEN size ILIKE '%2.5%x%10%' THEN '2.5x10' WHEN size ILIKE '%9%x%12%' THEN '9x12' WHEN size ILIKE '%8%x%10%' THEN '8x10' WHEN size ILIKE '%5%x%7%' THEN '5x7' WHEN size ILIKE '%2.5%x%7%' THEN '2.5x7' WHEN size ILIKE '%6%x%9%' THEN '6x9' END size, SUM(CASE WHEN send_back__type IN ('return', 'exchange') AND plant IN ('LA') AND return_created_date <= fulfillment_week_ended+21 THEN 1 ELSE 0 END) qty_returned, COUNT(*) qty_sold, SUM(CASE WHEN send_back__type IN ('return', 'exchange') AND plant IN ('LA') AND return_created_date <= fulfillment_week_ended+21 THEN 1 ELSE 0 END) * 1.0 / COUNT(*) rate FROM product_pull.ret_exch_rep_data_final GROUP BY 1, 2, 3, 4, 5, 6 HAVING DATE_PART('year', fulfillment_week_ended) >= 2020 ORDER BY 1 DESC\n",
      "SELECT fulfillment_week_ended week_ended, 'forecast' AS view, CASE WHEN product_sub_type = 'cushioned' THEN 'cushioned' WHEN product_sub_type = 'classic' THEN 'classic' END product, 'send_back_both' send_back__type, 'CHI' plant, 'all' size, SUM(CASE WHEN send_back__type IN ('return', 'exchange') AND plant IN ('CHI') AND return_created_date <= fulfillment_week_ended+21 THEN 1 ELSE 0 END) qty_returned, COUNT(*) qty_sold, SUM(CASE WHEN send_back__type IN ('return', 'exchange') AND plant IN ('CHI') AND return_created_date <= fulfillment_week_ended+21 THEN 1 ELSE 0 END) * 1.0 / COUNT(*) rate FROM product_pull.ret_exch_rep_data_final GROUP BY 1, 2, 3, 4, 5, 6 HAVING DATE_PART('year', fulfillment_week_ended) >= 2020 ORDER BY 1 DESC\n",
      "SELECT fulfillment_week_ended week_ended, 'forecast' AS view, CASE WHEN product_sub_type = 'cushioned' THEN 'cushioned' WHEN product_sub_type = 'classic' THEN 'classic' END product, 'send_back_both' send_back__type, 'CHI' plant, CASE WHEN size ILIKE '%3%x%5%' THEN '3x5' WHEN size ILIKE '%8%r%' THEN '8-Round' WHEN size ILIKE '%6%r%' THEN '6-Round' WHEN size ILIKE '%2.5%x%10%' THEN '2.5x10' WHEN size ILIKE '%9%x%12%' THEN '9x12' WHEN size ILIKE '%8%x%10%' THEN '8x10' WHEN size ILIKE '%5%x%7%' THEN '5x7' WHEN size ILIKE '%2.5%x%7%' THEN '2.5x7' WHEN size ILIKE '%6%x%9%' THEN '6x9' END size, SUM(CASE WHEN send_back__type IN ('return', 'exchange') AND plant IN ('CHI') AND return_created_date <= fulfillment_week_ended+21 THEN 1 ELSE 0 END) qty_returned, COUNT(*) qty_sold, SUM(CASE WHEN send_back__type IN ('return', 'exchange') AND plant IN ('CHI') AND return_created_date <= fulfillment_week_ended+21 THEN 1 ELSE 0 END) * 1.0 / COUNT(*) rate FROM product_pull.ret_exch_rep_data_final GROUP BY 1, 2, 3, 4, 5, 6 HAVING DATE_PART('year', fulfillment_week_ended) >= 2020 ORDER BY 1 DESC\n",
      "SELECT fulfillment_week_ended week_ended, 'forecast' AS view, CASE WHEN product_sub_type = 'cushioned' THEN 'cushioned' WHEN product_sub_type = 'classic' THEN 'classic' END product, 'send_back_both' send_back__type, 'N/A' plant, 'all' size, SUM(CASE WHEN send_back__type IN ('return', 'exchange') AND plant IN ('N/A') AND return_created_date <= fulfillment_week_ended+21 THEN 1 ELSE 0 END) qty_returned, COUNT(*) qty_sold, SUM(CASE WHEN send_back__type IN ('return', 'exchange') AND plant IN ('N/A') AND return_created_date <= fulfillment_week_ended+21 THEN 1 ELSE 0 END) * 1.0 / COUNT(*) rate FROM product_pull.ret_exch_rep_data_final GROUP BY 1, 2, 3, 4, 5, 6 HAVING DATE_PART('year', fulfillment_week_ended) >= 2020 ORDER BY 1 DESC\n",
      "SELECT fulfillment_week_ended week_ended, 'forecast' AS view, CASE WHEN product_sub_type = 'cushioned' THEN 'cushioned' WHEN product_sub_type = 'classic' THEN 'classic' END product, 'send_back_both' send_back__type, 'N/A' plant, CASE WHEN size ILIKE '%3%x%5%' THEN '3x5' WHEN size ILIKE '%8%r%' THEN '8-Round' WHEN size ILIKE '%6%r%' THEN '6-Round' WHEN size ILIKE '%2.5%x%10%' THEN '2.5x10' WHEN size ILIKE '%9%x%12%' THEN '9x12' WHEN size ILIKE '%8%x%10%' THEN '8x10' WHEN size ILIKE '%5%x%7%' THEN '5x7' WHEN size ILIKE '%2.5%x%7%' THEN '2.5x7' WHEN size ILIKE '%6%x%9%' THEN '6x9' END size, SUM(CASE WHEN send_back__type IN ('return', 'exchange') AND plant IN ('N/A') AND return_created_date <= fulfillment_week_ended+21 THEN 1 ELSE 0 END) qty_returned, COUNT(*) qty_sold, SUM(CASE WHEN send_back__type IN ('return', 'exchange') AND plant IN ('N/A') AND return_created_date <= fulfillment_week_ended+21 THEN 1 ELSE 0 END) * 1.0 / COUNT(*) rate FROM product_pull.ret_exch_rep_data_final GROUP BY 1, 2, 3, 4, 5, 6 HAVING DATE_PART('year', fulfillment_week_ended) >= 2020 ORDER BY 1 DESC\n",
      "SELECT fulfillment_week_ended week_ended, 'forecast' AS view, CASE WHEN product_sub_type = 'cushioned' THEN 'cushioned' WHEN product_sub_type = 'classic' THEN 'classic' END product, 'return' send_back__type, 'all' plant, 'all' size, SUM(CASE WHEN send_back__type IN ('return') AND plant IN ('LA', 'CHI', 'N/A') AND return_created_date <= fulfillment_week_ended+21 THEN 1 ELSE 0 END) qty_returned, COUNT(*) qty_sold, SUM(CASE WHEN send_back__type IN ('return') AND plant IN ('LA', 'CHI', 'N/A') AND return_created_date <= fulfillment_week_ended+21 THEN 1 ELSE 0 END) * 1.0 / COUNT(*) rate FROM product_pull.ret_exch_rep_data_final GROUP BY 1, 2, 3, 4, 5, 6 HAVING DATE_PART('year', fulfillment_week_ended) >= 2020 ORDER BY 1 DESC\n",
      "SELECT fulfillment_week_ended week_ended, 'forecast' AS view, CASE WHEN product_sub_type = 'cushioned' THEN 'cushioned' WHEN product_sub_type = 'classic' THEN 'classic' END product, 'return' send_back__type, 'all' plant, CASE WHEN size ILIKE '%3%x%5%' THEN '3x5' WHEN size ILIKE '%8%r%' THEN '8-Round' WHEN size ILIKE '%6%r%' THEN '6-Round' WHEN size ILIKE '%2.5%x%10%' THEN '2.5x10' WHEN size ILIKE '%9%x%12%' THEN '9x12' WHEN size ILIKE '%8%x%10%' THEN '8x10' WHEN size ILIKE '%5%x%7%' THEN '5x7' WHEN size ILIKE '%2.5%x%7%' THEN '2.5x7' WHEN size ILIKE '%6%x%9%' THEN '6x9' END size, SUM(CASE WHEN send_back__type IN ('return') AND plant IN ('LA', 'CHI', 'N/A') AND return_created_date <= fulfillment_week_ended+21 THEN 1 ELSE 0 END) qty_returned, COUNT(*) qty_sold, SUM(CASE WHEN send_back__type IN ('return') AND plant IN ('LA', 'CHI', 'N/A') AND return_created_date <= fulfillment_week_ended+21 THEN 1 ELSE 0 END) * 1.0 / COUNT(*) rate FROM product_pull.ret_exch_rep_data_final GROUP BY 1, 2, 3, 4, 5, 6 HAVING DATE_PART('year', fulfillment_week_ended) >= 2020 ORDER BY 1 DESC\n"
     ]
    },
    {
     "name": "stdout",
     "output_type": "stream",
     "text": [
      "SELECT fulfillment_week_ended week_ended, 'forecast' AS view, CASE WHEN product_sub_type = 'cushioned' THEN 'cushioned' WHEN product_sub_type = 'classic' THEN 'classic' END product, 'return' send_back__type, 'LA' plant, 'all' size, SUM(CASE WHEN send_back__type IN ('return') AND plant IN ('LA') AND return_created_date <= fulfillment_week_ended+21 THEN 1 ELSE 0 END) qty_returned, COUNT(*) qty_sold, SUM(CASE WHEN send_back__type IN ('return') AND plant IN ('LA') AND return_created_date <= fulfillment_week_ended+21 THEN 1 ELSE 0 END) * 1.0 / COUNT(*) rate FROM product_pull.ret_exch_rep_data_final GROUP BY 1, 2, 3, 4, 5, 6 HAVING DATE_PART('year', fulfillment_week_ended) >= 2020 ORDER BY 1 DESC\n",
      "SELECT fulfillment_week_ended week_ended, 'forecast' AS view, CASE WHEN product_sub_type = 'cushioned' THEN 'cushioned' WHEN product_sub_type = 'classic' THEN 'classic' END product, 'return' send_back__type, 'LA' plant, CASE WHEN size ILIKE '%3%x%5%' THEN '3x5' WHEN size ILIKE '%8%r%' THEN '8-Round' WHEN size ILIKE '%6%r%' THEN '6-Round' WHEN size ILIKE '%2.5%x%10%' THEN '2.5x10' WHEN size ILIKE '%9%x%12%' THEN '9x12' WHEN size ILIKE '%8%x%10%' THEN '8x10' WHEN size ILIKE '%5%x%7%' THEN '5x7' WHEN size ILIKE '%2.5%x%7%' THEN '2.5x7' WHEN size ILIKE '%6%x%9%' THEN '6x9' END size, SUM(CASE WHEN send_back__type IN ('return') AND plant IN ('LA') AND return_created_date <= fulfillment_week_ended+21 THEN 1 ELSE 0 END) qty_returned, COUNT(*) qty_sold, SUM(CASE WHEN send_back__type IN ('return') AND plant IN ('LA') AND return_created_date <= fulfillment_week_ended+21 THEN 1 ELSE 0 END) * 1.0 / COUNT(*) rate FROM product_pull.ret_exch_rep_data_final GROUP BY 1, 2, 3, 4, 5, 6 HAVING DATE_PART('year', fulfillment_week_ended) >= 2020 ORDER BY 1 DESC\n",
      "SELECT fulfillment_week_ended week_ended, 'forecast' AS view, CASE WHEN product_sub_type = 'cushioned' THEN 'cushioned' WHEN product_sub_type = 'classic' THEN 'classic' END product, 'return' send_back__type, 'CHI' plant, 'all' size, SUM(CASE WHEN send_back__type IN ('return') AND plant IN ('CHI') AND return_created_date <= fulfillment_week_ended+21 THEN 1 ELSE 0 END) qty_returned, COUNT(*) qty_sold, SUM(CASE WHEN send_back__type IN ('return') AND plant IN ('CHI') AND return_created_date <= fulfillment_week_ended+21 THEN 1 ELSE 0 END) * 1.0 / COUNT(*) rate FROM product_pull.ret_exch_rep_data_final GROUP BY 1, 2, 3, 4, 5, 6 HAVING DATE_PART('year', fulfillment_week_ended) >= 2020 ORDER BY 1 DESC\n",
      "SELECT fulfillment_week_ended week_ended, 'forecast' AS view, CASE WHEN product_sub_type = 'cushioned' THEN 'cushioned' WHEN product_sub_type = 'classic' THEN 'classic' END product, 'return' send_back__type, 'CHI' plant, CASE WHEN size ILIKE '%3%x%5%' THEN '3x5' WHEN size ILIKE '%8%r%' THEN '8-Round' WHEN size ILIKE '%6%r%' THEN '6-Round' WHEN size ILIKE '%2.5%x%10%' THEN '2.5x10' WHEN size ILIKE '%9%x%12%' THEN '9x12' WHEN size ILIKE '%8%x%10%' THEN '8x10' WHEN size ILIKE '%5%x%7%' THEN '5x7' WHEN size ILIKE '%2.5%x%7%' THEN '2.5x7' WHEN size ILIKE '%6%x%9%' THEN '6x9' END size, SUM(CASE WHEN send_back__type IN ('return') AND plant IN ('CHI') AND return_created_date <= fulfillment_week_ended+21 THEN 1 ELSE 0 END) qty_returned, COUNT(*) qty_sold, SUM(CASE WHEN send_back__type IN ('return') AND plant IN ('CHI') AND return_created_date <= fulfillment_week_ended+21 THEN 1 ELSE 0 END) * 1.0 / COUNT(*) rate FROM product_pull.ret_exch_rep_data_final GROUP BY 1, 2, 3, 4, 5, 6 HAVING DATE_PART('year', fulfillment_week_ended) >= 2020 ORDER BY 1 DESC\n",
      "SELECT fulfillment_week_ended week_ended, 'forecast' AS view, CASE WHEN product_sub_type = 'cushioned' THEN 'cushioned' WHEN product_sub_type = 'classic' THEN 'classic' END product, 'return' send_back__type, 'N/A' plant, 'all' size, SUM(CASE WHEN send_back__type IN ('return') AND plant IN ('N/A') AND return_created_date <= fulfillment_week_ended+21 THEN 1 ELSE 0 END) qty_returned, COUNT(*) qty_sold, SUM(CASE WHEN send_back__type IN ('return') AND plant IN ('N/A') AND return_created_date <= fulfillment_week_ended+21 THEN 1 ELSE 0 END) * 1.0 / COUNT(*) rate FROM product_pull.ret_exch_rep_data_final GROUP BY 1, 2, 3, 4, 5, 6 HAVING DATE_PART('year', fulfillment_week_ended) >= 2020 ORDER BY 1 DESC\n",
      "SELECT fulfillment_week_ended week_ended, 'forecast' AS view, CASE WHEN product_sub_type = 'cushioned' THEN 'cushioned' WHEN product_sub_type = 'classic' THEN 'classic' END product, 'return' send_back__type, 'N/A' plant, CASE WHEN size ILIKE '%3%x%5%' THEN '3x5' WHEN size ILIKE '%8%r%' THEN '8-Round' WHEN size ILIKE '%6%r%' THEN '6-Round' WHEN size ILIKE '%2.5%x%10%' THEN '2.5x10' WHEN size ILIKE '%9%x%12%' THEN '9x12' WHEN size ILIKE '%8%x%10%' THEN '8x10' WHEN size ILIKE '%5%x%7%' THEN '5x7' WHEN size ILIKE '%2.5%x%7%' THEN '2.5x7' WHEN size ILIKE '%6%x%9%' THEN '6x9' END size, SUM(CASE WHEN send_back__type IN ('return') AND plant IN ('N/A') AND return_created_date <= fulfillment_week_ended+21 THEN 1 ELSE 0 END) qty_returned, COUNT(*) qty_sold, SUM(CASE WHEN send_back__type IN ('return') AND plant IN ('N/A') AND return_created_date <= fulfillment_week_ended+21 THEN 1 ELSE 0 END) * 1.0 / COUNT(*) rate FROM product_pull.ret_exch_rep_data_final GROUP BY 1, 2, 3, 4, 5, 6 HAVING DATE_PART('year', fulfillment_week_ended) >= 2020 ORDER BY 1 DESC\n",
      "SELECT fulfillment_week_ended week_ended, 'forecast' AS view, CASE WHEN product_sub_type = 'cushioned' THEN 'cushioned' WHEN product_sub_type = 'classic' THEN 'classic' END product, 'exchange' send_back__type, 'all' plant, 'all' size, SUM(CASE WHEN send_back__type IN ('exchange') AND plant IN ('LA', 'CHI', 'N/A') AND return_created_date <= fulfillment_week_ended+21 THEN 1 ELSE 0 END) qty_returned, COUNT(*) qty_sold, SUM(CASE WHEN send_back__type IN ('exchange') AND plant IN ('LA', 'CHI', 'N/A') AND return_created_date <= fulfillment_week_ended+21 THEN 1 ELSE 0 END) * 1.0 / COUNT(*) rate FROM product_pull.ret_exch_rep_data_final GROUP BY 1, 2, 3, 4, 5, 6 HAVING DATE_PART('year', fulfillment_week_ended) >= 2020 ORDER BY 1 DESC\n",
      "SELECT fulfillment_week_ended week_ended, 'forecast' AS view, CASE WHEN product_sub_type = 'cushioned' THEN 'cushioned' WHEN product_sub_type = 'classic' THEN 'classic' END product, 'exchange' send_back__type, 'all' plant, CASE WHEN size ILIKE '%3%x%5%' THEN '3x5' WHEN size ILIKE '%8%r%' THEN '8-Round' WHEN size ILIKE '%6%r%' THEN '6-Round' WHEN size ILIKE '%2.5%x%10%' THEN '2.5x10' WHEN size ILIKE '%9%x%12%' THEN '9x12' WHEN size ILIKE '%8%x%10%' THEN '8x10' WHEN size ILIKE '%5%x%7%' THEN '5x7' WHEN size ILIKE '%2.5%x%7%' THEN '2.5x7' WHEN size ILIKE '%6%x%9%' THEN '6x9' END size, SUM(CASE WHEN send_back__type IN ('exchange') AND plant IN ('LA', 'CHI', 'N/A') AND return_created_date <= fulfillment_week_ended+21 THEN 1 ELSE 0 END) qty_returned, COUNT(*) qty_sold, SUM(CASE WHEN send_back__type IN ('exchange') AND plant IN ('LA', 'CHI', 'N/A') AND return_created_date <= fulfillment_week_ended+21 THEN 1 ELSE 0 END) * 1.0 / COUNT(*) rate FROM product_pull.ret_exch_rep_data_final GROUP BY 1, 2, 3, 4, 5, 6 HAVING DATE_PART('year', fulfillment_week_ended) >= 2020 ORDER BY 1 DESC\n",
      "SELECT fulfillment_week_ended week_ended, 'forecast' AS view, CASE WHEN product_sub_type = 'cushioned' THEN 'cushioned' WHEN product_sub_type = 'classic' THEN 'classic' END product, 'exchange' send_back__type, 'LA' plant, 'all' size, SUM(CASE WHEN send_back__type IN ('exchange') AND plant IN ('LA') AND return_created_date <= fulfillment_week_ended+21 THEN 1 ELSE 0 END) qty_returned, COUNT(*) qty_sold, SUM(CASE WHEN send_back__type IN ('exchange') AND plant IN ('LA') AND return_created_date <= fulfillment_week_ended+21 THEN 1 ELSE 0 END) * 1.0 / COUNT(*) rate FROM product_pull.ret_exch_rep_data_final GROUP BY 1, 2, 3, 4, 5, 6 HAVING DATE_PART('year', fulfillment_week_ended) >= 2020 ORDER BY 1 DESC\n",
      "SELECT fulfillment_week_ended week_ended, 'forecast' AS view, CASE WHEN product_sub_type = 'cushioned' THEN 'cushioned' WHEN product_sub_type = 'classic' THEN 'classic' END product, 'exchange' send_back__type, 'LA' plant, CASE WHEN size ILIKE '%3%x%5%' THEN '3x5' WHEN size ILIKE '%8%r%' THEN '8-Round' WHEN size ILIKE '%6%r%' THEN '6-Round' WHEN size ILIKE '%2.5%x%10%' THEN '2.5x10' WHEN size ILIKE '%9%x%12%' THEN '9x12' WHEN size ILIKE '%8%x%10%' THEN '8x10' WHEN size ILIKE '%5%x%7%' THEN '5x7' WHEN size ILIKE '%2.5%x%7%' THEN '2.5x7' WHEN size ILIKE '%6%x%9%' THEN '6x9' END size, SUM(CASE WHEN send_back__type IN ('exchange') AND plant IN ('LA') AND return_created_date <= fulfillment_week_ended+21 THEN 1 ELSE 0 END) qty_returned, COUNT(*) qty_sold, SUM(CASE WHEN send_back__type IN ('exchange') AND plant IN ('LA') AND return_created_date <= fulfillment_week_ended+21 THEN 1 ELSE 0 END) * 1.0 / COUNT(*) rate FROM product_pull.ret_exch_rep_data_final GROUP BY 1, 2, 3, 4, 5, 6 HAVING DATE_PART('year', fulfillment_week_ended) >= 2020 ORDER BY 1 DESC\n"
     ]
    },
    {
     "name": "stdout",
     "output_type": "stream",
     "text": [
      "SELECT fulfillment_week_ended week_ended, 'forecast' AS view, CASE WHEN product_sub_type = 'cushioned' THEN 'cushioned' WHEN product_sub_type = 'classic' THEN 'classic' END product, 'exchange' send_back__type, 'CHI' plant, 'all' size, SUM(CASE WHEN send_back__type IN ('exchange') AND plant IN ('CHI') AND return_created_date <= fulfillment_week_ended+21 THEN 1 ELSE 0 END) qty_returned, COUNT(*) qty_sold, SUM(CASE WHEN send_back__type IN ('exchange') AND plant IN ('CHI') AND return_created_date <= fulfillment_week_ended+21 THEN 1 ELSE 0 END) * 1.0 / COUNT(*) rate FROM product_pull.ret_exch_rep_data_final GROUP BY 1, 2, 3, 4, 5, 6 HAVING DATE_PART('year', fulfillment_week_ended) >= 2020 ORDER BY 1 DESC\n",
      "SELECT fulfillment_week_ended week_ended, 'forecast' AS view, CASE WHEN product_sub_type = 'cushioned' THEN 'cushioned' WHEN product_sub_type = 'classic' THEN 'classic' END product, 'exchange' send_back__type, 'CHI' plant, CASE WHEN size ILIKE '%3%x%5%' THEN '3x5' WHEN size ILIKE '%8%r%' THEN '8-Round' WHEN size ILIKE '%6%r%' THEN '6-Round' WHEN size ILIKE '%2.5%x%10%' THEN '2.5x10' WHEN size ILIKE '%9%x%12%' THEN '9x12' WHEN size ILIKE '%8%x%10%' THEN '8x10' WHEN size ILIKE '%5%x%7%' THEN '5x7' WHEN size ILIKE '%2.5%x%7%' THEN '2.5x7' WHEN size ILIKE '%6%x%9%' THEN '6x9' END size, SUM(CASE WHEN send_back__type IN ('exchange') AND plant IN ('CHI') AND return_created_date <= fulfillment_week_ended+21 THEN 1 ELSE 0 END) qty_returned, COUNT(*) qty_sold, SUM(CASE WHEN send_back__type IN ('exchange') AND plant IN ('CHI') AND return_created_date <= fulfillment_week_ended+21 THEN 1 ELSE 0 END) * 1.0 / COUNT(*) rate FROM product_pull.ret_exch_rep_data_final GROUP BY 1, 2, 3, 4, 5, 6 HAVING DATE_PART('year', fulfillment_week_ended) >= 2020 ORDER BY 1 DESC\n",
      "SELECT fulfillment_week_ended week_ended, 'forecast' AS view, CASE WHEN product_sub_type = 'cushioned' THEN 'cushioned' WHEN product_sub_type = 'classic' THEN 'classic' END product, 'exchange' send_back__type, 'N/A' plant, 'all' size, SUM(CASE WHEN send_back__type IN ('exchange') AND plant IN ('N/A') AND return_created_date <= fulfillment_week_ended+21 THEN 1 ELSE 0 END) qty_returned, COUNT(*) qty_sold, SUM(CASE WHEN send_back__type IN ('exchange') AND plant IN ('N/A') AND return_created_date <= fulfillment_week_ended+21 THEN 1 ELSE 0 END) * 1.0 / COUNT(*) rate FROM product_pull.ret_exch_rep_data_final GROUP BY 1, 2, 3, 4, 5, 6 HAVING DATE_PART('year', fulfillment_week_ended) >= 2020 ORDER BY 1 DESC\n",
      "SELECT fulfillment_week_ended week_ended, 'forecast' AS view, CASE WHEN product_sub_type = 'cushioned' THEN 'cushioned' WHEN product_sub_type = 'classic' THEN 'classic' END product, 'exchange' send_back__type, 'N/A' plant, CASE WHEN size ILIKE '%3%x%5%' THEN '3x5' WHEN size ILIKE '%8%r%' THEN '8-Round' WHEN size ILIKE '%6%r%' THEN '6-Round' WHEN size ILIKE '%2.5%x%10%' THEN '2.5x10' WHEN size ILIKE '%9%x%12%' THEN '9x12' WHEN size ILIKE '%8%x%10%' THEN '8x10' WHEN size ILIKE '%5%x%7%' THEN '5x7' WHEN size ILIKE '%2.5%x%7%' THEN '2.5x7' WHEN size ILIKE '%6%x%9%' THEN '6x9' END size, SUM(CASE WHEN send_back__type IN ('exchange') AND plant IN ('N/A') AND return_created_date <= fulfillment_week_ended+21 THEN 1 ELSE 0 END) qty_returned, COUNT(*) qty_sold, SUM(CASE WHEN send_back__type IN ('exchange') AND plant IN ('N/A') AND return_created_date <= fulfillment_week_ended+21 THEN 1 ELSE 0 END) * 1.0 / COUNT(*) rate FROM product_pull.ret_exch_rep_data_final GROUP BY 1, 2, 3, 4, 5, 6 HAVING DATE_PART('year', fulfillment_week_ended) >= 2020 ORDER BY 1 DESC\n",
      "A1\n",
      "J10000\n",
      "C:\\Users\\darius kay\\Dev\\gitlab\\test\\python\\credentials.json\n",
      "1Y6D0-TRXMT3gwN3HITouUmMJrhUPqItTykXcCFfU23I\n"
     ]
    }
   ],
   "source": [
    "for key, value in query_params.items():\n",
    "    '''Add logic to populate each tab in google sheet'''\n",
    "#     print(key)\n",
    "    tab_df = pd.DataFrame()\n",
    "    combinations = []\n",
    "    keys = value.keys()\n",
    "    values = (value[key] for key in keys)\n",
    "    combinations.append(dict(zip(keys, combination)) for combination in itertools.product(*values))\n",
    "    for combination in combinations:\n",
    "        for combo in combination:\n",
    "            keys = list(keys)\n",
    "            grouping = \"\"\n",
    "            for i in range(len(keys)):\n",
    "#                 print(query_params[key][keys[i]][combo[keys[i]]])\n",
    "                grouping = f\"{grouping}, {i+2}\"\n",
    "#                 print(keys[i], grouping)\n",
    "                if i == 0:\n",
    "                    query = query_params[key][keys[i]][combo[keys[i]]][0]\n",
    "#                     print(query)\n",
    "                    calculation = query_params[key][keys[i]][combo[keys[i]]][1]\n",
    "#                     print(calculation)\n",
    "                    params = f\"'{combo[keys[i]]}' AS {keys[i]}\"\n",
    "#                     print(params)\n",
    "                else:\n",
    "                    if keys[i] == 'send_back__type':\n",
    "                        send_back_type = str(query_params[key][keys[i]][combo[keys[i]]])\n",
    "                        params = f\"{params}, '{combo[keys[i]]}' {keys[i]}\"\n",
    "                    elif keys[i] == 'plant':\n",
    "                        calculation = calculation %(send_back_type, str(query_params[key][keys[i]][combo[keys[i]]]))\n",
    "                        params = f\"{params}, '{combo[keys[i]]}' {keys[i]}\"\n",
    "                    else:\n",
    "                        params = f\"{params}, {query_params[key][keys[i]][combo[keys[i]]]}\"\n",
    "            query = query %(params, calculation, calculation, grouping)\n",
    "            print(query)\n",
    "#             print(calculation)\n",
    "#             print(params)\n",
    "#             print(grouping)\n",
    "            df = pd.read_sql(query, conn)\n",
    "            tab_df = tab_df.append(df)\n",
    "    \n",
    "    if 'weekly' in key:\n",
    "        # Add 21 days to week_ended for forecast only.\n",
    "        tab_df['week_ended'] = tab_df.apply(lambda row: date_checker(row['view'], row['week_ended'], 'week'), axis=1)\n",
    "\n",
    "        # Concat first four columns.\n",
    "        keys.insert(0, 'week_ended')\n",
    "        uid = tab_df[keys].astype(str).agg('_'.join, axis=1)\n",
    "        tab_df.insert(loc=0, column='uid', value=uid)\n",
    "    elif 'monthly' in key:\n",
    "        # Add 21 days to month_ended for forecast only.\n",
    "#         tab_df['month_ended'] = tab_df.apply(lambda row: date_checker(row['view'], row['month_ended'], 'month'), axis=1)\n",
    "        if 'week_ended' in tab_df.columns:\n",
    "            tab_df = tab_df.rename(columns={'week_ended': 'month_ended'})\n",
    "        # Concat first four columns.\n",
    "        keys.insert(0, 'month_ended')\n",
    "        uid = tab_df[keys].astype(str).agg('_'.join, axis=1)\n",
    "        tab_df.insert(loc=0, column='uid', value=uid)\n",
    "\n",
    "    clear_data_range(workbook, key, \"A1:J100000\")\n",
    "    pd_to_gsheets(workbook, key, tab_df, 1, 1)"
   ]
  },
  {
   "cell_type": "code",
   "execution_count": null,
   "metadata": {},
   "outputs": [],
   "source": [
    "(tab_df['month_ended'][0] + timedelta(days=21)) + MonthEnd(0)"
   ]
  },
  {
   "cell_type": "code",
   "execution_count": 31,
   "metadata": {},
   "outputs": [
    {
     "name": "stdout",
     "output_type": "stream",
     "text": [
      "A1\n",
      "J100000\n",
      "C:\\Users\\darius kay\\Dev\\gitlab\\test\\python\\credentials.json\n",
      "1Y6D0-TRXMT3gwN3HITouUmMJrhUPqItTykXcCFfU23I\n"
     ]
    }
   ],
   "source": [
    "\n",
    "\n",
    "# clear_data_range(workbook, key, \"A1:J100000\")\n",
    "# pd_to_gsheets(workbook, key, tab_df[pd.DatetimeIndex(tab_df['week_ended']).year >= 2020], 1, 1)"
   ]
  },
  {
   "cell_type": "code",
   "execution_count": 40,
   "metadata": {},
   "outputs": [
    {
     "data": {
      "text/plain": [
       "['month_ended', 'view', 'product', 'send_back__type', 'plant', 'size']"
      ]
     },
     "execution_count": 40,
     "metadata": {},
     "output_type": "execute_result"
    }
   ],
   "source": [
    "keys"
   ]
  },
  {
   "cell_type": "code",
   "execution_count": 46,
   "metadata": {},
   "outputs": [
    {
     "name": "stdout",
     "output_type": "stream",
     "text": [
      "A1\n",
      "J100000\n",
      "C:\\Users\\darius kay\\Dev\\gitlab\\test\\python\\credentials.json\n",
      "1Y6D0-TRXMT3gwN3HITouUmMJrhUPqItTykXcCFfU23I\n"
     ]
    }
   ],
   "source": [
    "clear_data_range(workbook, key, \"A1:J100000\")\n",
    "pd_to_gsheets(workbook, key, tab_df, 1, 1)"
   ]
  },
  {
   "cell_type": "code",
   "execution_count": 45,
   "metadata": {},
   "outputs": [
    {
     "data": {
      "text/html": [
       "<div>\n",
       "<style scoped>\n",
       "    .dataframe tbody tr th:only-of-type {\n",
       "        vertical-align: middle;\n",
       "    }\n",
       "\n",
       "    .dataframe tbody tr th {\n",
       "        vertical-align: top;\n",
       "    }\n",
       "\n",
       "    .dataframe thead th {\n",
       "        text-align: right;\n",
       "    }\n",
       "</style>\n",
       "<table border=\"1\" class=\"dataframe\">\n",
       "  <thead>\n",
       "    <tr style=\"text-align: right;\">\n",
       "      <th></th>\n",
       "      <th>uid</th>\n",
       "      <th>month_ended</th>\n",
       "      <th>view</th>\n",
       "      <th>product</th>\n",
       "      <th>send_back__type</th>\n",
       "      <th>plant</th>\n",
       "      <th>size</th>\n",
       "      <th>qty_returned</th>\n",
       "      <th>qty_sold</th>\n",
       "      <th>rate</th>\n",
       "    </tr>\n",
       "  </thead>\n",
       "  <tbody>\n",
       "    <tr>\n",
       "      <th>0</th>\n",
       "      <td>2021-01-03_actual_all_send_back_both_all_all</td>\n",
       "      <td>2021-01-03</td>\n",
       "      <td>actual</td>\n",
       "      <td>all</td>\n",
       "      <td>send_back_both</td>\n",
       "      <td>all</td>\n",
       "      <td>all</td>\n",
       "      <td>4</td>\n",
       "      <td>13333</td>\n",
       "      <td>0.000300</td>\n",
       "    </tr>\n",
       "    <tr>\n",
       "      <th>1</th>\n",
       "      <td>2020-12-27_actual_all_send_back_both_all_all</td>\n",
       "      <td>2020-12-27</td>\n",
       "      <td>actual</td>\n",
       "      <td>all</td>\n",
       "      <td>send_back_both</td>\n",
       "      <td>all</td>\n",
       "      <td>all</td>\n",
       "      <td>291</td>\n",
       "      <td>33925</td>\n",
       "      <td>0.008578</td>\n",
       "    </tr>\n",
       "    <tr>\n",
       "      <th>2</th>\n",
       "      <td>2020-12-20_actual_all_send_back_both_all_all</td>\n",
       "      <td>2020-12-20</td>\n",
       "      <td>actual</td>\n",
       "      <td>all</td>\n",
       "      <td>send_back_both</td>\n",
       "      <td>all</td>\n",
       "      <td>all</td>\n",
       "      <td>1021</td>\n",
       "      <td>52216</td>\n",
       "      <td>0.019553</td>\n",
       "    </tr>\n",
       "    <tr>\n",
       "      <th>3</th>\n",
       "      <td>2020-12-13_actual_all_send_back_both_all_all</td>\n",
       "      <td>2020-12-13</td>\n",
       "      <td>actual</td>\n",
       "      <td>all</td>\n",
       "      <td>send_back_both</td>\n",
       "      <td>all</td>\n",
       "      <td>all</td>\n",
       "      <td>1895</td>\n",
       "      <td>57889</td>\n",
       "      <td>0.032735</td>\n",
       "    </tr>\n",
       "    <tr>\n",
       "      <th>4</th>\n",
       "      <td>2020-12-06_actual_all_send_back_both_all_all</td>\n",
       "      <td>2020-12-06</td>\n",
       "      <td>actual</td>\n",
       "      <td>all</td>\n",
       "      <td>send_back_both</td>\n",
       "      <td>all</td>\n",
       "      <td>all</td>\n",
       "      <td>2364</td>\n",
       "      <td>55766</td>\n",
       "      <td>0.042391</td>\n",
       "    </tr>\n",
       "    <tr>\n",
       "      <th>...</th>\n",
       "      <td>...</td>\n",
       "      <td>...</td>\n",
       "      <td>...</td>\n",
       "      <td>...</td>\n",
       "      <td>...</td>\n",
       "      <td>...</td>\n",
       "      <td>...</td>\n",
       "      <td>...</td>\n",
       "      <td>...</td>\n",
       "      <td>...</td>\n",
       "    </tr>\n",
       "    <tr>\n",
       "      <th>859</th>\n",
       "      <td>2020-01-05_forecast_nan_exchange_N/A_nan</td>\n",
       "      <td>2020-01-05</td>\n",
       "      <td>forecast</td>\n",
       "      <td>None</td>\n",
       "      <td>exchange</td>\n",
       "      <td>N/A</td>\n",
       "      <td>None</td>\n",
       "      <td>0</td>\n",
       "      <td>1</td>\n",
       "      <td>0.000000</td>\n",
       "    </tr>\n",
       "    <tr>\n",
       "      <th>860</th>\n",
       "      <td>2020-01-05_forecast_classic_exchange_N/A_2.5x10</td>\n",
       "      <td>2020-01-05</td>\n",
       "      <td>forecast</td>\n",
       "      <td>classic</td>\n",
       "      <td>exchange</td>\n",
       "      <td>N/A</td>\n",
       "      <td>2.5x10</td>\n",
       "      <td>0</td>\n",
       "      <td>1207</td>\n",
       "      <td>0.000000</td>\n",
       "    </tr>\n",
       "    <tr>\n",
       "      <th>861</th>\n",
       "      <td>2020-01-05_forecast_nan_exchange_N/A_8x10</td>\n",
       "      <td>2020-01-05</td>\n",
       "      <td>forecast</td>\n",
       "      <td>None</td>\n",
       "      <td>exchange</td>\n",
       "      <td>N/A</td>\n",
       "      <td>8x10</td>\n",
       "      <td>0</td>\n",
       "      <td>139</td>\n",
       "      <td>0.000000</td>\n",
       "    </tr>\n",
       "    <tr>\n",
       "      <th>862</th>\n",
       "      <td>2020-01-05_forecast_nan_exchange_N/A_3x5</td>\n",
       "      <td>2020-01-05</td>\n",
       "      <td>forecast</td>\n",
       "      <td>None</td>\n",
       "      <td>exchange</td>\n",
       "      <td>N/A</td>\n",
       "      <td>3x5</td>\n",
       "      <td>0</td>\n",
       "      <td>288</td>\n",
       "      <td>0.000000</td>\n",
       "    </tr>\n",
       "    <tr>\n",
       "      <th>863</th>\n",
       "      <td>2020-01-05_forecast_nan_exchange_N/A_2.5x10</td>\n",
       "      <td>2020-01-05</td>\n",
       "      <td>forecast</td>\n",
       "      <td>None</td>\n",
       "      <td>exchange</td>\n",
       "      <td>N/A</td>\n",
       "      <td>2.5x10</td>\n",
       "      <td>0</td>\n",
       "      <td>115</td>\n",
       "      <td>0.000000</td>\n",
       "    </tr>\n",
       "  </tbody>\n",
       "</table>\n",
       "<p>68520 rows × 10 columns</p>\n",
       "</div>"
      ],
      "text/plain": [
       "                                                 uid month_ended      view  \\\n",
       "0       2021-01-03_actual_all_send_back_both_all_all  2021-01-03    actual   \n",
       "1       2020-12-27_actual_all_send_back_both_all_all  2020-12-27    actual   \n",
       "2       2020-12-20_actual_all_send_back_both_all_all  2020-12-20    actual   \n",
       "3       2020-12-13_actual_all_send_back_both_all_all  2020-12-13    actual   \n",
       "4       2020-12-06_actual_all_send_back_both_all_all  2020-12-06    actual   \n",
       "..                                               ...         ...       ...   \n",
       "859         2020-01-05_forecast_nan_exchange_N/A_nan  2020-01-05  forecast   \n",
       "860  2020-01-05_forecast_classic_exchange_N/A_2.5x10  2020-01-05  forecast   \n",
       "861        2020-01-05_forecast_nan_exchange_N/A_8x10  2020-01-05  forecast   \n",
       "862         2020-01-05_forecast_nan_exchange_N/A_3x5  2020-01-05  forecast   \n",
       "863      2020-01-05_forecast_nan_exchange_N/A_2.5x10  2020-01-05  forecast   \n",
       "\n",
       "     product send_back__type plant    size qty_returned qty_sold      rate  \n",
       "0        all  send_back_both   all     all            4    13333  0.000300  \n",
       "1        all  send_back_both   all     all          291    33925  0.008578  \n",
       "2        all  send_back_both   all     all         1021    52216  0.019553  \n",
       "3        all  send_back_both   all     all         1895    57889  0.032735  \n",
       "4        all  send_back_both   all     all         2364    55766  0.042391  \n",
       "..       ...             ...   ...     ...          ...      ...       ...  \n",
       "859     None        exchange   N/A    None            0        1  0.000000  \n",
       "860  classic        exchange   N/A  2.5x10            0     1207  0.000000  \n",
       "861     None        exchange   N/A    8x10            0      139  0.000000  \n",
       "862     None        exchange   N/A     3x5            0      288  0.000000  \n",
       "863     None        exchange   N/A  2.5x10            0      115  0.000000  \n",
       "\n",
       "[68520 rows x 10 columns]"
      ]
     },
     "execution_count": 45,
     "metadata": {},
     "output_type": "execute_result"
    }
   ],
   "source": [
    "tab_df"
   ]
  },
  {
   "cell_type": "code",
   "execution_count": null,
   "metadata": {},
   "outputs": [],
   "source": []
  }
 ],
 "metadata": {
  "kernelspec": {
   "display_name": "Python 3",
   "language": "python",
   "name": "python3"
  },
  "language_info": {
   "codemirror_mode": {
    "name": "ipython",
    "version": 3
   },
   "file_extension": ".py",
   "mimetype": "text/x-python",
   "name": "python",
   "nbconvert_exporter": "python",
   "pygments_lexer": "ipython3",
   "version": "3.8.5"
  }
 },
 "nbformat": 4,
 "nbformat_minor": 4
}
