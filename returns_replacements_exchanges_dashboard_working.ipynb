{
 "cells": [
  {
   "cell_type": "code",
   "execution_count": 1,
   "metadata": {},
   "outputs": [],
   "source": [
    "import pandas as pd\n",
    "import sqlalchemy as sa\n",
    "from redshift_credentials import database, username, password, host, port, schema\n",
    "from sqlalchemy.orm import sessionmaker\n",
    "import itertools"
   ]
  },
  {
   "cell_type": "code",
   "execution_count": 2,
   "metadata": {},
   "outputs": [],
   "source": [
    "def sql_con(in_username, in_password, in_host, in_port, in_database, in_schema):\n",
    "    '''Create connection function'''\n",
    "    connection = \"redshift+psycopg2://%s:%s@%s:%s/%s\" % (in_username, in_password, in_host, str(in_port), in_database)\n",
    "    engine = sa.create_engine(connection)\n",
    "    session = sessionmaker()\n",
    "    session.configure(bind=engine)\n",
    "    s = session()\n",
    "    setpath = \"SET search_path TO %s\" % in_schema\n",
    "    s.execute(setpath)\n",
    "    return engine"
   ]
  },
  {
   "cell_type": "code",
   "execution_count": 3,
   "metadata": {},
   "outputs": [],
   "source": [
    "# Define connection.\n",
    "conn = sql_con(username, password, host, port, database, schema)"
   ]
  },
  {
   "cell_type": "code",
   "execution_count": 26,
   "metadata": {},
   "outputs": [],
   "source": [
    "# Primary forecast query.\n",
    "forecast_query = \"SELECT fulfillment_week_ended week_ended, %s, %s qty_returned, COUNT(*) qty_sold, %s * 1.0 / COUNT(*) rate FROM product_pull.ret_exch_rep_data_final GROUP BY 1%s\"\n",
    "\n",
    "# Actual primary query.\n",
    "actual_query = \"SELECT fulfillment_week_ended week_ended, %s, %s qty_returned, COUNT(*) qty_sold, %s * 1.0 / COUNT(*) rate FROM product_pull.ret_exch_rep_data_final GROUP BY 1%s\""
   ]
  },
  {
   "cell_type": "code",
   "execution_count": 27,
   "metadata": {},
   "outputs": [],
   "source": [
    "# Forecasted qty returned/exchanged query.\n",
    "forecast_qty = \"SUM(CASE WHEN send_back__type IN %s AND return_created_date <= fulfillment_week_ended+21 THEN 1 ELSE 0 END)\"\n",
    "\n",
    "# Actual qty returned/exchanged query.\n",
    "actual_qty = \"SUM(CASE WHEN send_back__type in %s THEN 1 ELSE 0 END)\""
   ]
  },
  {
   "cell_type": "code",
   "execution_count": 28,
   "metadata": {},
   "outputs": [],
   "source": [
    "product_categories = \"CASE WHEN shape = 'Rectangle' AND size NOT ILIKE ('%9%x%12%') AND texture = 'Chenile' AND purpose != 'Outdoor' THEN 'rectangular_chenille' WHEN texture = 'Shag' THEN 'shag' WHEN shape = 'Round' THEN 'round' WHEN purpose = 'Outdoor' THEN 'outdoor' WHEN texture = 'Berber' THEN 'plush' WHEN size ILIKE ('%9%x%12%') THEN '9x12' WHEN texture = 'Rubber' THEN 'rug_pad' END product\"\n",
    "\n",
    "product_cushioned = \"CASE WHEN product_sub_type = 'cushioned' THEN 'cushioned' ELSE 'classic' END product\""
   ]
  },
  {
   "cell_type": "code",
   "execution_count": 43,
   "metadata": {},
   "outputs": [],
   "source": [
    "query_params = {\n",
    "    'return_product_weekly': {'view': {'actual': [actual_query, actual_qty], 'forecast': [forecast_query, forecast_qty]},\n",
    "                              'product': {'all': \"'all' product\", 'categories': product_categories, 'cushioned': product_cushioned},\n",
    "                              'send_back__type': {'send_back_both': \"('return', 'exchange')\",\n",
    "                                                  'return': \"('return')\", 'exchange': \"('exchange')\"}}\n",
    "}"
   ]
  },
  {
   "cell_type": "code",
   "execution_count": 19,
   "metadata": {},
   "outputs": [
    {
     "data": {
      "text/plain": [
       "['SELECT fulfillment_week_ended week_ended, %s, %s qty_returned, COUNT(*) qty_sold, %s * 1.0 / COUNT(*) rate FROM product_pull.ret_exch_rep_data_final GROUP BY 1%s',\n",
       " 'SUM(CASE WHEN send_back__type in %s THEN 1 ELSE 0 END)']"
      ]
     },
     "execution_count": 19,
     "metadata": {},
     "output_type": "execute_result"
    }
   ],
   "source": [
    "query_params['return_product_weekly']['view']['actual']"
   ]
  },
  {
   "cell_type": "code",
   "execution_count": 54,
   "metadata": {},
   "outputs": [],
   "source": [
    "for key, value in query_params.items():\n",
    "    '''Add logic to populate each tab in google sheet'''\n",
    "    tab_df = pd.DataFrame()\n",
    "    combinations = []\n",
    "    keys = value.keys()\n",
    "    values = (value[key] for key in keys)\n",
    "    combinations.append(dict(zip(keys, combination)) for combination in itertools.product(*values))\n",
    "    for combination in combinations:\n",
    "        for combo in combination:\n",
    "            keys = list(keys)\n",
    "            grouping = \"\"\n",
    "            for i in range(len(keys)):\n",
    "#                 print(query_params[key][keys[i]][combo[keys[i]]])\n",
    "                if i == 0:\n",
    "                    query = query_params[key][keys[i]][combo[keys[i]]][0]\n",
    "#                     print(query)\n",
    "                    calculation = query_params[key][keys[i]][combo[keys[i]]][1]\n",
    "#                     print(calculation)\n",
    "                    params = f\"'{combo[keys[i]]}' AS {keys[i]}\"\n",
    "#                     print(params)\n",
    "                else:\n",
    "                    grouping = f\"{grouping}, {i+1}\"\n",
    "                    if keys[i] == 'send_back__type':\n",
    "                        calculation = calculation %(str(query_params[key][keys[i]][combo[keys[i]]]))\n",
    "                        params = f\"{params}, '{combo[keys[i]]}' {keys[i]}\"\n",
    "                    else:\n",
    "                        params = f\"{params}, {query_params[key][keys[i]][combo[keys[i]]]}\"\n",
    "            query = query %(params, calculation, calculation, grouping)\n",
    "#             print(query)\n",
    "#             print(calculation)\n",
    "#             print(params)\n",
    "#             print(grouping)\n",
    "            df = pd.read_sql(query, conn)\n",
    "            tab_df = tab_df.append(df)\n",
    "    "
   ]
  },
  {
   "cell_type": "code",
   "execution_count": 61,
   "metadata": {},
   "outputs": [
    {
     "data": {
      "text/plain": [
       "week_ended                   2020-04-12\n",
       "view                             actual\n",
       "product            rectangular_chenille\n",
       "send_back__type                exchange\n",
       "qty_returned                          8\n",
       "qty_sold                          14167\n",
       "rate                        0.000564693\n",
       "Name: 138, dtype: object"
      ]
     },
     "execution_count": 61,
     "metadata": {},
     "output_type": "execute_result"
    }
   ],
   "source": [
    "tab_df.iloc[2050]"
   ]
  },
  {
   "cell_type": "code",
   "execution_count": null,
   "metadata": {},
   "outputs": [],
   "source": []
  }
 ],
 "metadata": {
  "kernelspec": {
   "display_name": "Python 3",
   "language": "python",
   "name": "python3"
  },
  "language_info": {
   "codemirror_mode": {
    "name": "ipython",
    "version": 3
   },
   "file_extension": ".py",
   "mimetype": "text/x-python",
   "name": "python",
   "nbconvert_exporter": "python",
   "pygments_lexer": "ipython3",
   "version": "3.8.5"
  }
 },
 "nbformat": 4,
 "nbformat_minor": 4
}
