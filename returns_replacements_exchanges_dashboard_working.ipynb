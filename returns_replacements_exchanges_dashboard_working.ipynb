{
 "cells": [
  {
   "cell_type": "code",
   "execution_count": 1,
   "metadata": {},
   "outputs": [],
   "source": [
    "import pandas as pd\n",
    "import sqlalchemy as sa\n",
    "from redshift_credentials import database, username, password, host, port, schema\n",
    "from sqlalchemy.orm import sessionmaker\n",
    "import itertools\n",
    "import pygsheets as pygs\n",
    "from datetime import timedelta\n",
    "from pandas.tseries.offsets import MonthEnd"
   ]
  },
  {
   "cell_type": "code",
   "execution_count": 2,
   "metadata": {},
   "outputs": [],
   "source": [
    "def sql_con(in_username, in_password, in_host, in_port, in_database, in_schema):\n",
    "    '''Create connection function'''\n",
    "    connection = \"redshift+psycopg2://%s:%s@%s:%s/%s\" % (in_username, in_password, in_host, str(in_port), in_database)\n",
    "    engine = sa.create_engine(connection)\n",
    "    session = sessionmaker()\n",
    "    session.configure(bind=engine)\n",
    "    s = session()\n",
    "    setpath = \"SET search_path TO %s\" % in_schema\n",
    "    s.execute(setpath)\n",
    "    return engine"
   ]
  },
  {
   "cell_type": "code",
   "execution_count": 3,
   "metadata": {},
   "outputs": [],
   "source": [
    "g_drive_cred = r'C:\\Users\\darius kay\\Dev\\gitlab\\test\\python\\credentials.json'\n",
    "workbook = \"https://docs.google.com/spreadsheets/d/1Y6D0-TRXMT3gwN3HITouUmMJrhUPqItTykXcCFfU23I/edit#gid=1763802414\"\n",
    "\n",
    "def clear_data_range(workbook_name, tab_name, data_range):\n",
    "    start_end = str(data_range).split(':')\n",
    "    start = start_end[0]\n",
    "    print(start)\n",
    "    end = start_end[1]\n",
    "    print(end)\n",
    "    print(g_drive_cred)\n",
    "    # authorization\n",
    "    gc = pygs.authorize(client_secret=g_drive_cred)\n",
    "    # open the google spreadsheet\n",
    "    ws = gc.open_by_url(workbook_name)\n",
    "    # select the first sheet\n",
    "    wks = ws.worksheet_by_title(tab_name)\n",
    "    print(ws.id)\n",
    "    wks.clear(start=start, end=end)\n",
    "    return\n",
    "\n",
    "def pd_to_gsheets(workbook_name, sheet_name, df, row_num, col_num):\n",
    "    # authorization\n",
    "    gc = pygs.authorize(client_secret=g_drive_cred)\n",
    "\n",
    "    # open the google spreadsheet\n",
    "    ws = gc.open_by_url(workbook_name)\n",
    "\n",
    "    # select the first sheet\n",
    "    wks = ws.worksheet_by_title(sheet_name)\n",
    "\n",
    "    # update the designated sheet with df, starting at cell B2.\n",
    "    wks.set_dataframe(df, (row_num, col_num))\n",
    "\n",
    "    return"
   ]
  },
  {
   "cell_type": "code",
   "execution_count": 4,
   "metadata": {},
   "outputs": [],
   "source": [
    "def date_checker(view, date, schedule):\n",
    "    if view == 'forecast':\n",
    "        if schedule == 'week':\n",
    "            try:\n",
    "                return date + timedelta(days=21)\n",
    "            except TypeError:\n",
    "                return\n",
    "        elif schedule == 'month':\n",
    "            try:\n",
    "                return date + MonthEnd(1)\n",
    "            except TypeError:\n",
    "                return\n",
    "    else:\n",
    "        return date"
   ]
  },
  {
   "cell_type": "code",
   "execution_count": 5,
   "metadata": {},
   "outputs": [],
   "source": [
    "# Define connection.\n",
    "conn = sql_con(username, password, host, port, database, schema)"
   ]
  },
  {
   "cell_type": "code",
   "execution_count": 6,
   "metadata": {},
   "outputs": [],
   "source": [
    "# Primary weekly forecast query.\n",
    "weekly_forecast_query = \"SELECT fulfillment_week_ended week_ended, %s, %s qty_returned, COUNT(*) qty_sold, %s * 1.0 / COUNT(*) rate FROM product_pull.ret_exch_rep_data_final GROUP BY 1%s HAVING DATE_PART('year', fulfillment_week_ended) = 2020\"\n",
    "\n",
    "# Actual weekly primary query.\n",
    "weekly_actual_query = \"SELECT fulfillment_week_ended week_ended, %s, %s qty_returned, COUNT(*) qty_sold, %s * 1.0 / COUNT(*) rate FROM product_pull.ret_exch_rep_data_final GROUP BY 1%s HAVING DATE_PART('year', fulfillment_week_ended) = 2020\""
   ]
  },
  {
   "cell_type": "code",
   "execution_count": 7,
   "metadata": {},
   "outputs": [],
   "source": [
    "# Monthly actual primary query.\n",
    "monthly_actual_query = \"SELECT fulfillment_month_ended month_ended, %s, %s qty_returned, COUNT(*) qty_sold, %s * 1.0 / COUNT(*) rate FROM product_pull.ret_exch_rep_data_final GROUP BY 1%s HAVING DATE_PART('year', fulfillment_month_ended) = 2020\"\n",
    "\n",
    "# Primary monthly forecast query.\n",
    "monthly_forecast_query = \"SELECT fulfillment_month_ended month_ended, %s, %s qty_returned, COUNT(*) qty_sold, %s * 1.0 / COUNT(*) rate FROM product_pull.ret_exch_rep_data_final GROUP BY 1%s HAVING DATE_PART('year', fulfillment_month_ended) = 2020\""
   ]
  },
  {
   "cell_type": "code",
   "execution_count": 8,
   "metadata": {},
   "outputs": [],
   "source": [
    "# Weekly Forecasted qty returned/exchanged query.\n",
    "weekly_forecast_qty = \"SUM(CASE WHEN send_back__type IN %s AND return_created_date <= fulfillment_week_ended+21 THEN 1 ELSE 0 END)\"\n",
    "\n",
    "# Monthly Forecasted qty returned/exchanged query.\n",
    "monthly_forecast_qty = \"SUM(CASE WHEN send_back__type IN %s AND return_created_date <= fulfillment_month_ended+21 THEN 1 ELSE 0 END)\"\n",
    "\n",
    "# Actual qty returned/exchanged query.\n",
    "actual_qty = \"SUM(CASE WHEN send_back__type in %s THEN 1 ELSE 0 END)\""
   ]
  },
  {
   "cell_type": "code",
   "execution_count": 9,
   "metadata": {},
   "outputs": [],
   "source": [
    "product_categories = \"CASE WHEN shape = 'Rectangle' AND size NOT ILIKE ('%9%x%12%') AND texture = 'Chenille' AND purpose != 'Outdoor' THEN 'rectangular_chenille' WHEN texture = 'Shag' THEN 'shag' WHEN shape = 'Round' THEN 'round' WHEN purpose = 'Outdoor' THEN 'outdoor' WHEN texture = 'Plush' THEN 'plush' WHEN size ILIKE ('%9%x%12%') THEN '9x12' WHEN texture = 'Rubber' AND product_sub_type = 'classic' THEN 'classic_rug_pad' WHEN texture = 'Rubber' AND product_sub_type = 'cushioned' THEN 'cushioned_rug_pad' END product\"\n",
    "\n",
    "# Edit for cushion only non-cover.\n",
    "product_cushioned = \"CASE WHEN product_sub_type = 'cushioned' THEN 'cushioned' WHEN product_sub_type = 'classic' THEN 'classic' END product\""
   ]
  },
  {
   "cell_type": "code",
   "execution_count": 10,
   "metadata": {},
   "outputs": [],
   "source": [
    "query_params = {\n",
    "    'send_back_product_weekly': {'view': {'actual': [weekly_actual_query, actual_qty], 'forecast': [weekly_forecast_query, weekly_forecast_qty]},\n",
    "                              'product': {'all': \"'all' product\", 'categories': product_categories, 'cushioned': product_cushioned},\n",
    "                              'send_back__type': {'send_back_both': \"('return', 'exchange')\",\n",
    "                                                  'return': \"('return')\", 'exchange': \"('exchange')\"}},\n",
    "    'send_back_product_monthly': {'view': {'actual': [monthly_actual_query, actual_qty], 'forecast': [monthly_forecast_query, monthly_forecast_qty]},\n",
    "                          'product': {'all': \"'all' product\", 'categories': product_categories, 'cushioned': product_cushioned},\n",
    "                          'send_back__type': {'send_back_both': \"('return', 'exchange')\",\n",
    "                                              'return': \"('return')\", 'exchange': \"('exchange')\"}}\n",
    "}"
   ]
  },
  {
   "cell_type": "code",
   "execution_count": 11,
   "metadata": {},
   "outputs": [
    {
     "name": "stdout",
     "output_type": "stream",
     "text": [
      "A1\n",
      "J10000\n",
      "C:\\Users\\darius kay\\Dev\\gitlab\\test\\python\\credentials.json\n",
      "1Y6D0-TRXMT3gwN3HITouUmMJrhUPqItTykXcCFfU23I\n",
      "A1\n",
      "J10000\n",
      "C:\\Users\\darius kay\\Dev\\gitlab\\test\\python\\credentials.json\n",
      "1Y6D0-TRXMT3gwN3HITouUmMJrhUPqItTykXcCFfU23I\n"
     ]
    }
   ],
   "source": [
    "for key, value in query_params.items():\n",
    "    '''Add logic to populate each tab in google sheet'''\n",
    "#     print(key)\n",
    "    tab_df = pd.DataFrame()\n",
    "    combinations = []\n",
    "    keys = value.keys()\n",
    "    values = (value[key] for key in keys)\n",
    "    combinations.append(dict(zip(keys, combination)) for combination in itertools.product(*values))\n",
    "    for combination in combinations:\n",
    "        for combo in combination:\n",
    "            keys = list(keys)\n",
    "            grouping = \"\"\n",
    "            for i in range(len(keys)):\n",
    "#                 print(query_params[key][keys[i]][combo[keys[i]]])\n",
    "                if i == 0:\n",
    "                    query = query_params[key][keys[i]][combo[keys[i]]][0]\n",
    "#                     print(query)\n",
    "                    calculation = query_params[key][keys[i]][combo[keys[i]]][1]\n",
    "#                     print(calculation)\n",
    "                    params = f\"'{combo[keys[i]]}' AS {keys[i]}\"\n",
    "#                     print(params)\n",
    "                else:\n",
    "                    grouping = f\"{grouping}, {i+1}\"\n",
    "                    if keys[i] == 'send_back__type':\n",
    "                        calculation = calculation %(str(query_params[key][keys[i]][combo[keys[i]]]))\n",
    "                        params = f\"{params}, '{combo[keys[i]]}' {keys[i]}\"\n",
    "                    else:\n",
    "                        params = f\"{params}, {query_params[key][keys[i]][combo[keys[i]]]}\"\n",
    "            query = query %(params, calculation, calculation, grouping)\n",
    "#             print(query)\n",
    "#             print(calculation)\n",
    "#             print(params)\n",
    "#             print(grouping)\n",
    "            df = pd.read_sql(query, conn)\n",
    "            tab_df = tab_df.append(df)\n",
    "#             tab_df = pd.concat([tab_df, df])\n",
    "    \n",
    "    if 'weekly' in key:\n",
    "        # Add 21 days to week_ended for forecast only.\n",
    "        tab_df['week_ended'] = tab_df.apply(lambda row: date_checker(row['view'], row['week_ended'], 'week'), axis=1)\n",
    "\n",
    "        # Concat first four columns.\n",
    "        keys.insert(0, 'week_ended')\n",
    "        uid = tab_df[keys].astype(str).agg('_'.join, axis=1)\n",
    "        tab_df.insert(loc=0, column='uid', value=uid)\n",
    "    elif 'monthly' in key:\n",
    "        # Add 21 days to month_ended for forecast only.\n",
    "        tab_df['month_ended'] = tab_df.apply(lambda row: date_checker(row['view'], row['month_ended'], 'month'), axis=1)\n",
    "        \n",
    "        # Concat first four columns.\n",
    "        keys.insert(0, 'month_ended')\n",
    "        uid = tab_df[keys].astype(str).agg('_'.join, axis=1)\n",
    "        tab_df.insert(loc=0, column='uid', value=uid)\n",
    "\n",
    "    clear_data_range(workbook, key, \"A1:J10000\")\n",
    "    pd_to_gsheets(workbook, key, tab_df, 1, 1)"
   ]
  },
  {
   "cell_type": "code",
   "execution_count": null,
   "metadata": {},
   "outputs": [],
   "source": [
    "tab_df"
   ]
  },
  {
   "cell_type": "code",
   "execution_count": null,
   "metadata": {},
   "outputs": [],
   "source": []
  }
 ],
 "metadata": {
  "kernelspec": {
   "display_name": "Python 3",
   "language": "python",
   "name": "python3"
  },
  "language_info": {
   "codemirror_mode": {
    "name": "ipython",
    "version": 3
   },
   "file_extension": ".py",
   "mimetype": "text/x-python",
   "name": "python",
   "nbconvert_exporter": "python",
   "pygments_lexer": "ipython3",
   "version": "3.8.5"
  }
 },
 "nbformat": 4,
 "nbformat_minor": 4
}
